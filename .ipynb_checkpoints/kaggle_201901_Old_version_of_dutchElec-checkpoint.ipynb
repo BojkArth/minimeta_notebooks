{
 "cells": [
  {
   "cell_type": "code",
   "execution_count": null,
   "metadata": {
    "_cell_guid": "b1076dfc-b9ad-4769-8c92-a6c4dae69d19",
    "_uuid": "8f2839f25d086af736a60e9eeb907d3b93b6e0e5",
    "collapsed": true
   },
   "outputs": [],
   "source": [
    "# This Python 3 environment comes with many helpful analytics libraries installed\n",
    "# It is defined by the kaggle/python docker image: https://github.com/kaggle/docker-python\n",
    "# For example, here's several helpful packages to load in \n",
    "\n",
    "import numpy as np # linear algebra\n",
    "import pandas as pd # data processing, CSV file I/O (e.g. pd.read_csv)\n",
    "from datetime import datetime\n",
    "import matplotlib.pyplot as plt\n",
    "import matplotlib.cm\n",
    "from matplotlib import gridspec\n",
    "import matplotlib as mpl\n",
    " \n",
    "from mpl_toolkits.basemap import Basemap\n",
    "from matplotlib.patches import Polygon\n",
    "from matplotlib.collections import PatchCollection\n",
    "from matplotlib.colors import Normalize\n",
    "\n",
    "mpl.rcParams['axes.labelsize'] = 12\n",
    "mpl.rcParams['xtick.labelsize'] = 12\n",
    "mpl.rcParams['ytick.labelsize'] = 12\n",
    "\n",
    "\n",
    "# Input data files are available in the \"../input/\" directory.\n",
    "# For example, running this (by clicking run or pressing Shift+Enter) will list the files in the input directory\n",
    "\n",
    "import os\n",
    "print(os.listdir(\"../input\"))\n",
    "\n",
    "# Any results you write to the current directory are saved as output."
   ]
  },
  {
   "cell_type": "code",
   "execution_count": null,
   "metadata": {
    "_uuid": "44e0da7b593f973fcc4a62334a6008ae2aaf5449",
    "collapsed": true
   },
   "outputs": [],
   "source": [
    "def load_and_reindex(path,filelist):\n",
    "    start_time = datetime.now()\n",
    "    df = None\n",
    "    for file in filelist:\n",
    "        year = file[-8:-4]\n",
    "        manager = file.split('_')[0]\n",
    "        if df is None:\n",
    "            df = pd.read_csv(path+file)\n",
    "            df['year'] = year\n",
    "            df.index = manager+'_'+year+'_'+df.index.astype(str)\n",
    "        else:\n",
    "            temp = pd.read_csv(path+file)\n",
    "            temp['year'] = year\n",
    "            temp.index = manager+'_'+year+'_'+temp.index.astype(str)\n",
    "            df = df.append(temp)\n",
    "    # adding columns of interest\n",
    "    df['low_tarif_consumption'] = df['annual_consume'].multiply(df['annual_consume_lowtarif_perc']/100)\n",
    "    df['num_active_connections'] = df['num_connections'].multiply(df['perc_of_active_connections']/100).astype(int)\n",
    "    try:\n",
    "        df['num_smartmeters'] = df['num_connections'].multiply(df['smartmeter_perc']/100).astype(int)\n",
    "    except ValueError:\n",
    "        print('Number of smartmeters could not be calculated')\n",
    "    df['net_annual_consumption'] = df['annual_consume'].multiply(df['delivery_perc']/100)\n",
    "    df['self_production'] = df['annual_consume'] - df['net_annual_consumption']\n",
    "    \n",
    "    time_elapsed = datetime.now() - start_time\n",
    "    print('Made main dataframe, time elapsed (hh:mm:ss.ms) {}'.format(time_elapsed))\n",
    "    return(df)"
   ]
  },
  {
   "cell_type": "code",
   "execution_count": null,
   "metadata": {
    "_uuid": "f9926bd7b0515dfb32bae9071acb98eaf8ae8317",
    "collapsed": true,
    "scrolled": true
   },
   "outputs": [],
   "source": [
    "path = '../input/dutch-energy/Electricity/'\n",
    "files_all = [f for f in os.listdir(path)]\n",
    "elec_all = load_and_reindex(path,files_all)\n",
    "print(elec_all.shape)\n",
    "print(elec_all.columns)"
   ]
  },
  {
   "cell_type": "markdown",
   "metadata": {
    "_uuid": "ae7a9f9963116162d573dbda46a2c881a2fc606c"
   },
   "source": [
    "As a first approach it suffices to look at the energy parameters at the city level. This is convenient, as we then do not have to start messing around with postal code areas (some of which have been created or shuffled around in the intervening years). We can increase the resolution at a later point if that is of interest, but so for now we can make pivot tables containing the aggregate of an energy parameter of interest, per city per year:"
   ]
  },
  {
   "cell_type": "code",
   "execution_count": null,
   "metadata": {
    "_uuid": "aa95b07db4679d5d1d56e196354d1d8f5db02350",
    "collapsed": true
   },
   "outputs": [],
   "source": [
    "# make pivot tables of relevant parameter such that we have total per city per year\n",
    "annual_consume = pd.pivot_table(elec_all,values='annual_consume',index='city',columns='year',aggfunc=np.sum)\n",
    "num_connections = pd.pivot_table(elec_all,values='num_connections',index='city',columns='year',aggfunc=np.sum)\n",
    "num_active_connections = pd.pivot_table(elec_all,values='num_active_connections',index='city',columns='year',aggfunc=np.sum)\n",
    "smartmeter_perc = pd.pivot_table(elec_all,values='smartmeter_perc',index='city',columns='year',aggfunc=np.mean)\n",
    "smartmeter_perc_median = pd.pivot_table(elec_all,values='smartmeter_perc',index='city',columns='year',aggfunc=np.median)\n",
    "num_smartmeters = pd.pivot_table(elec_all,values='num_smartmeters',index='city',columns='year',aggfunc=np.sum)\n",
    "self_production = pd.pivot_table(elec_all,values='self_production',index='city',columns='year',aggfunc=np.sum)\n",
    "net_annu_consume = pd.pivot_table(elec_all,values='net_annual_consumption',index='city',columns='year',aggfunc=np.sum)"
   ]
  },
  {
   "cell_type": "code",
   "execution_count": null,
   "metadata": {
    "_uuid": "cb461c983b5f800b2c8e8c78ec62b3101266fd9e",
    "collapsed": true
   },
   "outputs": [],
   "source": [
    "print(annual_consume.sort_values('2018',ascending=False).head())\n",
    "specs = {'markersize':20,'markerfacecolor':'w','linewidth':2}\n",
    "plt.plot(annual_consume.columns.astype(int)-1,annual_consume.sum(),'-o',**specs)\n",
    "#plt.yscale('log')\n",
    "plt.ylabel('Energy consumption (kWh)')\n",
    "plt.xlabel('Year')\n",
    "plt.title('Total yearly energy consumption')"
   ]
  },
  {
   "cell_type": "markdown",
   "metadata": {
    "_uuid": "801bfd6c702cddb0e83234087fb02cb027af69ef"
   },
   "source": [
    "Ok, so the 'year' 2009 - which allegedly covers the consumption in the year before (which is why I changed the x-axis in the plot) - seems to be incomplete. I will therefore drop this year in all following electricity analyses.\n",
    "\n",
    "First, let's have a look at the country as a whole:"
   ]
  },
  {
   "cell_type": "code",
   "execution_count": null,
   "metadata": {
    "_uuid": "8c145982df1be9aee6962b7aa92c973c8e60d257",
    "collapsed": true
   },
   "outputs": [],
   "source": [
    "annual_consume.drop('2009',axis=1,inplace=True)\n",
    "num_connections.drop('2009',axis=1,inplace=True)\n",
    "smartmeter_perc.drop('2009',axis=1,inplace=True)\n",
    "num_smartmeters.drop('2009',axis=1,inplace=True)\n",
    "self_production.drop('2009',axis=1,inplace=True)\n",
    "net_annu_consume.drop('2009',axis=1,inplace=True)"
   ]
  },
  {
   "cell_type": "code",
   "execution_count": null,
   "metadata": {
    "_uuid": "15d2779ff75359b91cd3aad854c2bf4a37c5160b",
    "collapsed": true
   },
   "outputs": [],
   "source": [
    "annual_consume.sum()/annual_consume.sum()[0]*100"
   ]
  },
  {
   "cell_type": "code",
   "execution_count": null,
   "metadata": {
    "_uuid": "c0fd7308b8925d9b60c94f276ec6e2c43bab7aeb",
    "collapsed": true
   },
   "outputs": [],
   "source": [
    "f = plt.figure()\n",
    "\n",
    "gs = gridspec.GridSpec(5,2)\n",
    "f.set_figwidth(13)\n",
    "f.set_figheight(10)\n",
    "plt.suptitle('Electricity Netherlands',fontsize=20)\n",
    "\n",
    "ax1 = f.add_subplot(gs[0:2,0])\n",
    "ax1.plot(annual_consume.columns.astype(int)-1,annual_consume.sum(),'-o',**specs)\n",
    "ax1.plot(annual_consume.columns.astype(int)-1,net_annu_consume.sum(),'-o',**specs)\n",
    "lgnd = plt.legend(['gross','net'])\n",
    "\n",
    "#plt.yscale('log')\n",
    "plt.ylabel('Energy consumption (kWh)')\n",
    "plt.xlabel('');plt.xticks([])\n",
    "plt.title('Total yearly energy consumption')\n",
    "\n",
    "ax11 = f.add_subplot(gs[2,0])\n",
    "ax11.fill_between(annual_consume.columns.astype(int)-1,0,annual_consume.sum()/annual_consume.sum()[0]*100-100)#,'-o',**specs)\n",
    "#plt.yscale('log')\n",
    "plt.ylabel('as % of 2009')\n",
    "plt.ylim(-4,3)\n",
    "plt.xlabel('');plt.xticks([])\n",
    "#plt.title('Total yearly energy consumption')\n",
    "\n",
    "ax2 = f.add_subplot(gs[0:2,1])\n",
    "ax2.plot(num_connections.columns.astype(int)-1,num_connections.sum(),'-og',**specs)\n",
    "#plt.yscale('log')\n",
    "plt.ylabel('Count')\n",
    "plt.xlabel('');plt.xticks([])\n",
    "plt.title('Total number of connections')\n",
    "\n",
    "ax21 = f.add_subplot(gs[2,1])\n",
    "ax21.fill_between(annual_consume.columns.astype(int)-1,0,num_connections.sum()/num_connections.sum()[0]*100-100,color='g')#,'-o',**specs)\n",
    "#plt.yscale('log')\n",
    "#plt.ylabel('as % of 2008')\n",
    "plt.xlabel('');plt.xticks([])\n",
    "#plt.title('Total yearly energy consumption')\n",
    "\n",
    "ax3 = f.add_subplot(gs[3:,0])\n",
    "ax3.plot(self_production.columns.astype(int)-1,self_production.sum(),'-oc',**specs)\n",
    "#plt.yscale('log')\n",
    "plt.ylabel('Energy  (kWh)')\n",
    "plt.xlabel('Year')\n",
    "plt.title('Total yearly self-production')\n",
    "\n",
    "ax4 = f.add_subplot(gs[3:,1])\n",
    "ax4.plot(num_smartmeters.columns.astype(int)-1,num_smartmeters.sum(),'-om',**specs)\n",
    "#plt.yscale('log')\n",
    "plt.ylabel('Count')\n",
    "plt.xlabel('Year')\n",
    "plt.title('Total number of smartmeters')\n",
    "\n",
    "gs.update(wspace=.51,hspace=.3)\n",
    "\n",
    "\n",
    "\n"
   ]
  },
  {
   "cell_type": "markdown",
   "metadata": {
    "_uuid": "e126e5d828145d465ff4aba281ce3d4d02994274"
   },
   "source": [
    "What we see is that the yearly total energy consumption has remained roughly the same, while there is a linear increase in the number of connections. This implies that on average the annual amount of electricity used by a connection (=~household) is going down. In addition, the amount of electricity produced by households has been increasing linearly since 2012. At the same time we see that the number of smartmeters is increasing exponentially and one could expect that the number of smartmeters will start approaching the number of connections in the not too far future. "
   ]
  },
  {
   "cell_type": "code",
   "execution_count": null,
   "metadata": {
    "_uuid": "f446e0fc0bbb676af276f6b71e2ec5551602df09",
    "collapsed": true
   },
   "outputs": [],
   "source": [
    "from scipy.optimize import curve_fit\n",
    "x = num_smartmeters.columns.astype(int)-1\n",
    "# exponential fit\n",
    "def exponenial_func(x, a, b, c):\n",
    "    return 1/(a*np.exp(-b*x)+c)\n",
    "#p_opt, p_cov = curve_fit(exponenial_func, x, y, p0=(1e-16, 1e-6, ))\n",
    "xfit = np.linspace(2009,2021,20)\n",
    "#yfit = exponenial_func(xfit,*p_opt)\n",
    "# this doesn't seem to work well, since we're working with large numbers here. \n",
    "# lin fit in lin-log space does the trick for here (although this is not the most elegant solution):\n",
    "me,be = np.polyfit(x,np.log(num_smartmeters.sum()),1)\n",
    "# linear fit\n",
    "m,b = np.polyfit(x,num_connections.sum(),1)\n",
    "\n",
    "f,ax = plt.subplots(1,2,figsize=(12,6))\n",
    "\n",
    "ax[0].plot(num_smartmeters.columns.astype(int)-1,num_connections.sum(),'og',**specs)\n",
    "ax[0].plot(num_smartmeters.columns.astype(int)-1,num_smartmeters.sum(),'om',**specs)\n",
    "ax[0].plot(xfit,m*xfit+b,'g')#,'linewidth'=3)\n",
    "ax[0].plot(xfit,np.exp(me*xfit+be),'m')#,'linewidth'=3)\n",
    "#plt.yscale('log')\n",
    "ax[0].set_ylabel('Count')\n",
    "ax[0].set_xlabel('Year')\n",
    "ax[0].legend(['# connections','# smartmeters','lin fit','exp fit'],loc=4)\n",
    "ax[0].set_ylim(bottom=-1e6,top=1e7)\n",
    "#plt.xlim(0,10)\n",
    "ax[0].set_title('Smartmeters vs. connections')\n",
    "\n",
    "specs2 = {'markersize':20,'fillstyle':'none','linewidth':2}\n",
    "# this is the mean of the mean per city:\n",
    "ax[1].plot(num_smartmeters.columns.astype(int)-1, smartmeter_perc.mean(),'om',**specs2)\n",
    "# this is the median of the mean per city:\n",
    "ax[1].plot(num_smartmeters.columns.astype(int)-1, smartmeter_perc.median(),'og',**specs2)\n",
    "ax[1].set_title('Smartmeters, percentage of total')\n",
    "ax[1].set_xlabel('Year')\n",
    "ax[1].set_ylabel('% of meters being smart')\n",
    "ax[1].legend(['mean','median'], fontsize=14)"
   ]
  },
  {
   "cell_type": "markdown",
   "metadata": {
    "_uuid": "d19207e5486ea5116ee62db7da82c2e23b0bd5be"
   },
   "source": [
    "Fitting the data shows that the number of smartmeters should reach the total number of connections in mid 2018. We probably could also have gotten this from the percent of smartmeters parameter in the first place, but let's look at this in greater detail, because simply taking the countrywide mean here oversimplifies what is actually going on. \n",
    "\n",
    "For instance, one can notice an increasing discrepancy between the mean and median (of the mean) percentage of smartmeters. This is an indication that we are not dealing with a normal distribution of these things across the cities, which is not a surprise in itself."
   ]
  },
  {
   "cell_type": "code",
   "execution_count": null,
   "metadata": {
    "_uuid": "e09f3ad8ef9c338a6ce80526e09aeab6521ed779",
    "collapsed": true
   },
   "outputs": [],
   "source": [
    "import seaborn as sns\n",
    "\n",
    "def gauss(x, *p):\n",
    "    A, mu, sigma = p\n",
    "    return A*np.exp(-(x-mu)**2/(2.*sigma**2))\n",
    "\n",
    "def gauss2(x, *p):\n",
    "    A1, mu1, sigma1, A2, mu2, sigma2 = p\n",
    "    return A1*np.exp(-(x-mu1)**2/(2.*sigma1**2)) + A2*np.exp(-(x-mu2)**2/(2.*sigma2**2))\n",
    "\n",
    "y = '2018'\n",
    "X_dataG = np.linspace(-1,100,102)\n",
    "# extract y_data\n",
    "counts,bins = np.histogram(smartmeter_perc[y],bins=X_dataG,density=True)#[y].hist(bins=40)\n",
    "y_data = counts\n",
    "# initial guesses p0\n",
    "# initialize them differently (one at 20 and the other at 80 %) so the optimization algorithm works better\n",
    "# this can be circumvented using simulated annealing or sth in the like\n",
    "p0 = [.03, 20, 1.,.01, 80, 1.]\n",
    "\n",
    "#optimize and in the end you will have 6 coeff (3 for each gaussian)\n",
    "coeff, var_matrix = curve_fit(gauss2, X_dataG[1:], y_data, p0=p0)\n",
    "\n",
    "#plot each gaussian separately \n",
    "pg1 = coeff[0:3]\n",
    "pg2 = coeff[3:]\n",
    "# using the single gauss function\n",
    "g1 = gauss(X_dataG, *pg1)\n",
    "g2 = gauss(X_dataG, *pg2)\n",
    "\n",
    "\n",
    "\n",
    "f,axs = plt.subplots(3,2,figsize=(12,12))\n",
    "axs = axs.ravel()\n",
    "smartmeter_perc['2018'].hist(bins=40,alpha=.3,color='r',ax=axs[0])\n",
    "#axs[0].set_xlabel('Smartmeters (% of total in a city)')\n",
    "axs[0].set_ylabel('count')\n",
    "axs[0].set_title('Distribution of smartmeters per city 2018')\n",
    "X_data = np.linspace(0,100,40)\n",
    "elec_all['provider'] = ['liander' if 'liander' in f else 'stedin' if 'stedin' in f else 'enexis' if 'enexis' in f else 'none' for f in elec_all.index]\n",
    "smart_provider_2018 = pd.pivot_table(elec_all[elec_all.year=='2018'],values='smartmeter_perc',index='city',columns='provider',aggfunc=np.mean)\n",
    "pleg = []\n",
    "for provider in smart_provider_2018.columns:\n",
    "    smart_provider_2018[provider].hist(bins=40,alpha=.3,ax=axs[1])\n",
    "    pleg.append(provider)\n",
    "axs[1].legend(pleg)\n",
    "axs[1].set_title('Smartmeters per city per provider,2018')\n",
    "leg = []\n",
    "\n",
    "for i in range(2014,2019):\n",
    "    y=str(i)\n",
    "    smartmeter_perc[y].hist(bins=40,alpha=.3,ax=axs[2])\n",
    "    axs[3].hist(smartmeter_perc[y],bins=X_data,density=True,alpha=.3)\n",
    "    sns.distplot(smartmeter_perc[y],bins=X_data,hist=False,kde=True,ax=axs[4])\n",
    "    leg.append(y)\n",
    "axs[5].hist(smartmeter_perc['2018'],bins=X_data,alpha=.3,color='r',density=True)\n",
    "axs[5].plot(X_dataG, g1, label='Gaussian1',linewidth=3)\n",
    "axs[5].plot(X_dataG, g2, label='Gaussian2',linewidth=3)\n",
    "axs[5].legend()\n",
    "\n",
    "#ax[2].set_xlabel('Smartmeters (% of total in a city)')\n",
    "axs[2].set_ylabel('count')\n",
    "axs[2].set_title('Distribution of smartmeters per city 2014-2018')\n",
    "axs[2].legend(leg)\n",
    "axs[3].set_ylabel('Density')\n",
    "axs[3].set_title('Normalized distribution of smartmeters per city 2014-2018')\n",
    "axs[4].set_xlabel('Smartmeters (% of total in a city)')\n",
    "axs[4].legend(leg)\n",
    "axs[4].set_ylabel('Density')\n",
    "plt.suptitle('Mean number of smartmeters per city', fontsize=20)\n"
   ]
  },
  {
   "cell_type": "markdown",
   "metadata": {
    "_uuid": "fca8877f9fb421e17bc4d15c6832a2851322506f"
   },
   "source": [
    "First of all, we see that the distribution is bimodal (2018 shown here): a population of early adopters and a lagging population. It is interesting to look into this - as in: what type of city can be typically found in one or the other - further below. First let's see at what year, given the decline rate of the lagging mode, we expect all cities to have ~80% smartmeters. If we normalize the area under the curve we can fit the data.\n",
    "\n",
    "Another observation would be that of the three large electricity providers, Enexis is leading the transition to the smart grid."
   ]
  },
  {
   "cell_type": "code",
   "execution_count": null,
   "metadata": {
    "_uuid": "1f4b56434fc0e86d0eaa57a0175675cdfcb79193",
    "collapsed": true
   },
   "outputs": [],
   "source": [
    "gausparams = pd.DataFrame(index=range(2014,2019),columns=['A1','mu1','s1','A2','mu2','s2'])\n",
    "p0 = [.12, 20, 1.,.01, 80, 1.]\n",
    "for year in gausparams.index:\n",
    "    counts,bins = np.histogram(smartmeter_perc[str(year)],bins=X_dataG,density=True)#[y].hist(bins=40)\n",
    "    y_data = counts\n",
    "    if year<=2016: #fit with 1 gaussian\n",
    "        coeff, var_matrix = curve_fit(gauss, X_dataG[1:], y_data, p0=p0[:3])\n",
    "        gausparams.loc[year,:3] = coeff\n",
    "    else: #fit with 2\n",
    "        coeff, var_matrix = curve_fit(gauss2, X_dataG[1:], y_data, p0=p0)\n",
    "        gausparams.loc[year,:] = coeff\n",
    "\n",
    "xfit = list(gausparams.index)\n",
    "y = list(gausparams['A1'])\n",
    "xpred = np.linspace(2014,2020,20)\n",
    "m,b = np.polyfit(xfit,y,1)\n",
    "\n",
    "plt.plot(xfit,y,'og',**specs2,label='Data')\n",
    "plt.plot(xpred,m*xpred+b,'-g',linewidth=2,label='fit')\n",
    "plt.axhline(0)\n",
    "plt.title('Decline of lagging smartmeter population')\n",
    "plt.xlabel('Year')\n",
    "plt.ylabel('Density')\n",
    "plt.legend()"
   ]
  },
  {
   "cell_type": "markdown",
   "metadata": {
    "_uuid": "88b6b3fce4496afcdab68330d4d378a54817ac12"
   },
   "source": [
    "By fitting the \"lagging\" population with a single gaussian and plotting the (normalized) amplitude vs. year, we see a linear decrease. A simple linear fit shows that this peak is likely to become zero within 2 years of the 2018 timepoint, so around the start of 2020.  So in 2020, one can expect the average city to have around 80% smartmeters. This nicely follows Pareto's law (80% of the work done in 20% of the time and vice versa). If we then assume that the remaining 20% will take 80% of the time, and that the transition started around 2012, the Netherlands will be a 100% smartgrid in 8years/2x8 = 32+2020 = 2052. But this is just a back-of-the-envelope calculation of course. "
   ]
  },
  {
   "cell_type": "code",
   "execution_count": null,
   "metadata": {
    "_uuid": "76d121f45aa4ed087f9bd3ffe26741c0757284db",
    "collapsed": true
   },
   "outputs": [],
   "source": [
    "elec_all.columns"
   ]
  },
  {
   "cell_type": "code",
   "execution_count": null,
   "metadata": {
    "_uuid": "c564fcde2452f7280ee9c006613ac79f04933800",
    "collapsed": true
   },
   "outputs": [],
   "source": [
    "f = plt.figure()\n",
    "gs = gridspec.GridSpec(1,2)\n",
    "ax1 = f.add_subplot(gs[0,0])\n",
    "labels = ['smartmeter_perc','annual_consume_lowtarif_perc','delivery_perc']\n",
    "dat = elec_all[(elec_all.city.isin(['ROTTERDAM','AMSTERDAM']))&(elec_all.year=='2018')].melt(id_vars='city',value_vars=labels) ##'num_active_connections', 'num_smartmeters'])#\n",
    "g = sns.violinplot(x='variable',y='value',hue=dat.city,split=True,data=dat,ax=ax1)\n",
    "plt.xlabel('');plt.ylabel('percentage')\n",
    "g.set_xticklabels(labels,rotation=30,ha='right')\n",
    "#plt.yscale('log')\n",
    "ax2 = f.add_subplot(gs[0,1])\n",
    "dat = elec_all[(elec_all.city.isin(['UTRECHT',\"MAASTRICHT\"]))&(elec_all.year=='2018')].melt(id_vars='city',value_vars=labels) ##'num_active_connections', 'num_smartmeters'])#\n",
    "g = sns.violinplot(x='variable',y='value',hue=dat.city,split=True,data=dat,ax=ax2)\n",
    "plt.xlabel('');plt.ylabel('')\n",
    "g.set_xticklabels(labels,rotation=30,ha='right')\n",
    "f.set_figheight(7)\n",
    "f.set_figwidth(14)\n",
    "plt.suptitle('Comparison of individual cities, 2018.')"
   ]
  },
  {
   "cell_type": "markdown",
   "metadata": {
    "_uuid": "285327bf104263c343022171b584ab99dd6b3468"
   },
   "source": [
    "Let's look at electricity production per city for a bit now."
   ]
  },
  {
   "cell_type": "code",
   "execution_count": null,
   "metadata": {
    "_uuid": "749fc8e0bd5891465bb7e1a8b35fc2d1b2416b4f",
    "collapsed": true
   },
   "outputs": [],
   "source": [
    "f = plt.figure()\n",
    "gs = gridspec.GridSpec(1,5)\n",
    "\n",
    "ax1 = f.add_subplot(gs[0,0])\n",
    "elec_all[elec_all.year=='2018'].groupby('city').sum()['self_production'].divide(1e3).sort_values(ascending=False)[:20].plot.barh(color='darkblue',width=.9,alpha=.7,ax=ax1)\n",
    "# could have achieved the same with self_production.sort_values('2018',ascending=False).divide(1e3)[:20]\n",
    "plt.gca().invert_yaxis()\n",
    "plt.xlabel('Energy produced (MWh)');plt.ylabel('')\n",
    "plt.title('Self production top 20, 2018')\n",
    "\n",
    "ax2 = f.add_subplot(gs[0,2])\n",
    "self_production.divide(num_active_connections).loc[self_production.sort_values('2018',ascending=False).divide(1e3)[:20].index,:].sort_values('2018',ascending=False)['2018'].plot.barh(color='m',width=.9,alpha=.7,ax=ax2)\n",
    "plt.gca().invert_yaxis()\n",
    "plt.xlabel('Energy produced per connection (kWh)');plt.ylabel('')\n",
    "plt.title('Self production per connection, for the top 20 biggest producers, 2018')\n",
    "\n",
    "ax3 = f.add_subplot(gs[0,4])\n",
    "self_production.divide(annual_consume/100).loc[self_production.sort_values('2018',ascending=False).divide(1e3)[:20].index,:].sort_values('2018',ascending=False)['2018'].plot.barh(color='g',width=.9,alpha=.7,ax=ax3)\n",
    "plt.gca().invert_yaxis()\n",
    "plt.xlabel('Energy produced (% of used)');plt.ylabel('')\n",
    "plt.title('Self production, % of consumption, top 20 2018')\n",
    "\n",
    "f.set_figheight(7)\n",
    "f.set_figwidth(20)\n",
    "\n"
   ]
  },
  {
   "cell_type": "markdown",
   "metadata": {
    "_uuid": "ccbbd6b00ee81bf726f69c7e2465670536cad99e"
   },
   "source": [
    "We see that in absolute terms Almere is the biggest producer of energy. When normalized by the number of active connections (which is - I think -  a proxy for the number of inhabitants) this yields the average electricity produced per household per city. The larger cities in the 'randstad' move down the ladder. If we take the actual top 20 cities with the highest average electricity production per household, we expect this ranking to be dominated by small towns in windy (rural) places:"
   ]
  },
  {
   "cell_type": "code",
   "execution_count": null,
   "metadata": {
    "_uuid": "54e14691f0f306793ef28e58f043eb9fd31fb604",
    "collapsed": true
   },
   "outputs": [],
   "source": [
    "f = plt.figure()\n",
    "gs = gridspec.GridSpec(1,3)\n",
    "\n",
    "ax1 = f.add_subplot(gs[0,0])\n",
    "self_production.divide(num_active_connections).sort_values('2018',ascending=False)['2018'][:20].plot.barh(color='m',width=.9,alpha=.7,ax=ax1)\n",
    "plt.gca().invert_yaxis()\n",
    "plt.xlabel('Energy produced per connection (kWh)');plt.ylabel('')\n",
    "plt.title('Self production per connection, top 20 2018')\n",
    "\n",
    "ax2 = f.add_subplot(gs[0,2])\n",
    "self_production.divide(annual_consume/100).sort_values('2018',ascending=False)['2018'][:20].plot.barh(color='g',width=.9,alpha=.7,ax=ax2)\n",
    "plt.gca().invert_yaxis()\n",
    "plt.xlabel('Energy produced (% of consumption)');plt.ylabel('')\n",
    "plt.title('Self production, % of consumption, top 20 2018')\n",
    "\n",
    "f.set_figheight(7)\n",
    "f.set_figwidth(13)"
   ]
  },
  {
   "cell_type": "markdown",
   "metadata": {
    "_uuid": "d2b4f1fb1cbd253646ebf005e1213fbbadf6ddf5"
   },
   "source": [
    "These mostly seem to be rural places in the (north)east. But let's look at the current top 20 and how they ranked over the past years:"
   ]
  },
  {
   "cell_type": "code",
   "execution_count": null,
   "metadata": {
    "_uuid": "b918ad669c6f2c60148cf9840c5efb5776c8a406",
    "collapsed": true
   },
   "outputs": [],
   "source": [
    "from collections import defaultdict\n",
    "from scipy import interpolate\n",
    "\n",
    "\n",
    "\n",
    "def streamgraph(dataframe, **kwargs):\n",
    "    \"\"\" Wrapper around stackplot to make a streamgraph \"\"\"\n",
    "    X = dataframe.columns\n",
    "    Xs = np.linspace(dataframe.columns[0], dataframe.columns[-1], num=1024)\n",
    "    Ys = [interpolate.PchipInterpolator(X, y)(Xs) for y in dataframe.values]\n",
    "    return plt.stackplot(Xs, Ys, labels=dataframe.index, **kwargs)\n",
    "\n",
    "def add_widths(x, y, width=1):\n",
    "    \"\"\" Adds flat parts to widths \"\"\"\n",
    "    new_x = []\n",
    "    new_y = []\n",
    "    for i,j in zip(x,y):\n",
    "        new_x += [i-width, i, i+width]\n",
    "        new_y += [j, j, j]\n",
    "    return new_x, new_y\n",
    "\n",
    "def bumpsplot(dataframe, color_dict=defaultdict(lambda: \"k\"), \n",
    "                         linewidth_dict=defaultdict(lambda: 4),\n",
    "                         labels=[]):\n",
    "    r = dataframe.rank(method=\"first\")\n",
    "    r = (r - r.max() + r.max().max()).fillna(0) # Sets NAs to 0 in rank\n",
    "    for j in r.index:\n",
    "        x = np.arange(r.shape[1])\n",
    "        y = r.loc[j].values\n",
    "        color = color_dict[j]\n",
    "        lw = linewidth_dict[j]\n",
    "        x, y = add_widths(x, y, width=0.1)\n",
    "        xs = np.linspace(0, x[-1], num=1024)\n",
    "        plt.plot(xs, interpolate.PchipInterpolator(x, y)(xs), color=color, linewidth=lw, alpha=0.5)\n",
    "        if j in labels:\n",
    "            plt.text(x[0] - 0.1, y[0], s=j, horizontalalignment=\"right\", verticalalignment=\"center\", color=color)\n",
    "            plt.text(x[-1] + 0.1, y[-1], s=j, horizontalalignment=\"left\", verticalalignment=\"center\", color=color)\n",
    "    plt.xticks(np.arange(r.shape[1]), dataframe.columns)\n",
    "    \n",
    "    \n",
    "userank = self_production.drop('2009',axis=1).sort_values('2010',ascending=False)\n",
    "cities = list(userank[:75].index)\n",
    "top_cities = list(self_production['2018'].sort_values(ascending=False).index[:20])\n",
    "finallist = top_cities+list(set(cities).difference(set(top_cities)))\n",
    "winter_colors = defaultdict(lambda: \"grey\")\n",
    "lw = defaultdict(lambda: 1)\n",
    "\n",
    "top_cities = list(self_production['2018'].sort_values(ascending=False).index[:20])\n",
    "for i,c in enumerate(top_cities):\n",
    "    winter_colors[c] = sns.color_palette(\"husl\", n_colors=len(top_cities))[i]\n",
    "    lw[c] = 4\n",
    "\n",
    "f = plt.figure(figsize=(18,18))\n",
    "bumpsplot(userank.loc[finallist,:],color_dict=winter_colors,labels=top_cities)\n",
    "plt.gca().get_yaxis().set_visible(False)\n",
    "\n",
    "#plt.gcf().subplots_adjust(left=0.25,bottom=.05,right=.75,top=.95)\n",
    "sns.despine(left=True)  \n",
    "plt.title('The road to becoming the top 20 electricity producers 2018')\n",
    "plt.show()"
   ]
  },
  {
   "cell_type": "code",
   "execution_count": null,
   "metadata": {
    "_uuid": "beab4deffc3ea96f504b1e42bde63fac0b873840",
    "collapsed": true
   },
   "outputs": [],
   "source": [
    "self_production.divide(annual_consume/100)['2018'].plot.hist(bins=40)\n",
    "plt.axvspan(self_production.divide(annual_consume/100)['2018'].mean())"
   ]
  },
  {
   "cell_type": "code",
   "execution_count": null,
   "metadata": {
    "_uuid": "6ea987122a541f02260cb2640f87dd9834485bda",
    "collapsed": true
   },
   "outputs": [],
   "source": []
  },
  {
   "cell_type": "code",
   "execution_count": null,
   "metadata": {
    "_uuid": "78d644030f201349e78e3598610fcf312a6ec8c1",
    "collapsed": true
   },
   "outputs": [],
   "source": [
    "elec_all['consumption_per_connection'] = elec_all['net_annual_consumption'].divide(elec_all['num_connections'])"
   ]
  },
  {
   "cell_type": "code",
   "execution_count": null,
   "metadata": {
    "_uuid": "4a0d067bdc5fbaef4887e81cb53ca19a7b8be83f",
    "collapsed": true
   },
   "outputs": [],
   "source": [
    "dat = elec_all[(elec_all.city.isin(['UTRECHT',\"AMSTERDAM\"]))&(elec_all.year=='2018')].melt(id_vars='city',value_vars=['consumption_per_connection']) ##'num_active_connections', 'num_smartmeters'])#\n",
    "g = sns.violinplot(x='variable',y='value',hue=dat.city,split=True,data=dat)\n",
    "plt.yscale('log')"
   ]
  },
  {
   "cell_type": "code",
   "execution_count": null,
   "metadata": {
    "_uuid": "5e990055ee2547e920484b553be854bf8833c9c1",
    "collapsed": true
   },
   "outputs": [],
   "source": [
    "elec_all.groupby('city').mean()['consumption_per_connection'].plot.hist(bins=40)"
   ]
  },
  {
   "cell_type": "code",
   "execution_count": null,
   "metadata": {
    "_uuid": "d319a01de96f730c0281f8717237eaed11fc612e",
    "collapsed": true
   },
   "outputs": [],
   "source": [
    "\"\"\"path = '../input/dutch-energy/Gas/'\n",
    "files_all = [f for f in os.listdir(path)]\n",
    "gas_all = load_and_reindex(path,files_all)\n",
    "print(gas_all.shape)\n",
    "print(gas_all.columns)\"\"\""
   ]
  },
  {
   "cell_type": "code",
   "execution_count": null,
   "metadata": {
    "_uuid": "fc0867a7ff3fefae9a115b9f795e9fb4c8c086b8",
    "collapsed": true
   },
   "outputs": [],
   "source": []
  },
  {
   "cell_type": "code",
   "execution_count": null,
   "metadata": {
    "_uuid": "e0753db7c926da66e19420d3639ec05291365c20",
    "collapsed": true
   },
   "outputs": [],
   "source": []
  },
  {
   "cell_type": "code",
   "execution_count": null,
   "metadata": {
    "_uuid": "89423b45cbe2916791705d248f675bef15966d3a",
    "collapsed": true
   },
   "outputs": [],
   "source": []
  },
  {
   "cell_type": "code",
   "execution_count": null,
   "metadata": {
    "_uuid": "f61b16f367be8d2763a612358cec0477d2b04fb4",
    "collapsed": true
   },
   "outputs": [],
   "source": []
  },
  {
   "cell_type": "code",
   "execution_count": null,
   "metadata": {
    "_uuid": "ae774fcce823729f80c3bb131e1a546755f4189c",
    "collapsed": true
   },
   "outputs": [],
   "source": []
  },
  {
   "cell_type": "code",
   "execution_count": null,
   "metadata": {
    "_uuid": "396ee8308f26d540a959bbf22516810c8e414cec",
    "collapsed": true
   },
   "outputs": [],
   "source": []
  },
  {
   "cell_type": "code",
   "execution_count": null,
   "metadata": {
    "_uuid": "59f1a9e03b042fe8fef4b1aa5963a178cf9544ac",
    "collapsed": true
   },
   "outputs": [],
   "source": []
  },
  {
   "cell_type": "code",
   "execution_count": null,
   "metadata": {
    "_uuid": "e05683233c29455a87e11bbab1f4bb31c9997e4d",
    "collapsed": true
   },
   "outputs": [],
   "source": []
  },
  {
   "cell_type": "code",
   "execution_count": null,
   "metadata": {
    "_uuid": "a742bf1e4c222624fc926b08dc03246299ffb40e",
    "collapsed": true
   },
   "outputs": [],
   "source": []
  },
  {
   "cell_type": "code",
   "execution_count": null,
   "metadata": {
    "_uuid": "f7435e470ecc87be69ba07768d97a5fdcc0abfde",
    "collapsed": true
   },
   "outputs": [],
   "source": []
  },
  {
   "cell_type": "code",
   "execution_count": null,
   "metadata": {
    "_uuid": "9347f47f1d50f7827e3ccc39de25962ed88a024e",
    "collapsed": true
   },
   "outputs": [],
   "source": []
  },
  {
   "cell_type": "code",
   "execution_count": null,
   "metadata": {
    "_uuid": "5652a2d8818b60a460813c2bf208239d239b5801",
    "collapsed": true
   },
   "outputs": [],
   "source": []
  },
  {
   "cell_type": "code",
   "execution_count": null,
   "metadata": {
    "_uuid": "f95d7db35bf028ccb764bd8549b3b5bacad24249",
    "collapsed": true
   },
   "outputs": [],
   "source": []
  },
  {
   "cell_type": "code",
   "execution_count": null,
   "metadata": {
    "_uuid": "6bd6567dcd87ce20bad048133203fabd4c81f1d9",
    "collapsed": true
   },
   "outputs": [],
   "source": []
  },
  {
   "cell_type": "code",
   "execution_count": null,
   "metadata": {
    "_uuid": "777bf8e141880399112708ce52bd9be5dc7263aa",
    "collapsed": true
   },
   "outputs": [],
   "source": []
  },
  {
   "cell_type": "code",
   "execution_count": null,
   "metadata": {
    "_uuid": "13c2d73484508eacdac149eaea63de95a83a95a0",
    "collapsed": true
   },
   "outputs": [],
   "source": []
  },
  {
   "cell_type": "code",
   "execution_count": null,
   "metadata": {
    "_uuid": "1783a922f2e0a951ba8b9edbf3016abfe200df03",
    "collapsed": true
   },
   "outputs": [],
   "source": []
  },
  {
   "cell_type": "code",
   "execution_count": null,
   "metadata": {
    "_uuid": "e98653f9cc1347ac824c4fa83c042ed827a15e64",
    "collapsed": true
   },
   "outputs": [],
   "source": []
  },
  {
   "cell_type": "code",
   "execution_count": null,
   "metadata": {
    "_uuid": "44462703383c69c69798020f40a13790b330c94c",
    "collapsed": true
   },
   "outputs": [],
   "source": []
  },
  {
   "cell_type": "code",
   "execution_count": null,
   "metadata": {
    "_uuid": "52e2de12d62bea46b3d3e33ad8de9f30c6cd0a2b",
    "collapsed": true
   },
   "outputs": [],
   "source": []
  },
  {
   "cell_type": "code",
   "execution_count": null,
   "metadata": {
    "_uuid": "7da7d572d6c26e69974eb735f29855b49bbea5d7",
    "collapsed": true
   },
   "outputs": [],
   "source": [
    "\"\"\"f,axs = plt.subplots(3,2,figsize=(12,12))\n",
    "axs = axs.ravel()\n",
    "smartmeter_perc_median['2018'].hist(bins=40,alpha=.3,color='r',ax=axs[0])\n",
    "#axs[0].set_xlabel('Smartmeters (% of total in a city)')\n",
    "axs[0].set_ylabel('count')\n",
    "axs[0].set_title('Distribution of smartmeters per city 2018')\n",
    "\n",
    "elec_all['provider'] = ['liander' if 'liander' in f else 'stedin' if 'stedin' in f else 'enexis' if 'enexis' in f else 'none' for f in elec_all.index]\n",
    "smart_provider_2018 = pd.pivot_table(elec_all[elec_all.year=='2018'],values='smartmeter_perc',index='city',columns='provider',aggfunc=np.median)\n",
    "pleg = []\n",
    "for provider in smart_provider_2018.columns:\n",
    "    smart_provider_2018[provider].hist(bins=40,alpha=.3,ax=axs[1])\n",
    "    pleg.append(provider)\n",
    "axs[1].legend(pleg)\n",
    "axs[1].set_title('Smartmeters per city per provider,2018')\n",
    "leg = []\n",
    "X_data = np.linspace(0,100,40)\n",
    "for i in range(2014,2019):\n",
    "    y=str(i)\n",
    "    smartmeter_perc_median[y].hist(bins=40,alpha=.3,ax=axs[2])\n",
    "    axs[3].hist(smartmeter_perc_median[y],bins=X_data,density=True,alpha=.3)\n",
    "    sns.distplot(smartmeter_perc_median[y],bins=X_data,hist=False,kde=True,ax=axs[4])\n",
    "    leg.append(y)\n",
    "#ax[2].set_xlabel('Smartmeters (% of total in a city)')\n",
    "axs[2].set_ylabel('count')\n",
    "axs[2].set_title('Distribution of smartmeters per city 2014-2018')\n",
    "axs[2].legend(leg)\n",
    "axs[3].set_ylabel('Density')\n",
    "axs[3].set_title('Normalized distribution of smartmeters per city 2014-2018')\n",
    "axs[4].set_xlabel('Smartmeters (% of total in a city)')\n",
    "axs[4].legend(leg)\n",
    "axs[4].set_ylabel('Density')\n",
    "plt.suptitle('Median number of smartmeters per city', fontsize=20)\"\"\""
   ]
  },
  {
   "cell_type": "code",
   "execution_count": null,
   "metadata": {
    "_uuid": "f35b1eab153c6608ed63e6f1f7bb189a6f30c110",
    "collapsed": true
   },
   "outputs": [],
   "source": []
  },
  {
   "cell_type": "code",
   "execution_count": null,
   "metadata": {
    "_uuid": "cd8ae3059c92a6da3cabd223012f914c5a129653",
    "collapsed": true
   },
   "outputs": [],
   "source": []
  },
  {
   "cell_type": "code",
   "execution_count": null,
   "metadata": {
    "_uuid": "73373a01217e9c247f24bcad8618b0f6e3ee7c2e",
    "collapsed": true
   },
   "outputs": [],
   "source": []
  },
  {
   "cell_type": "code",
   "execution_count": null,
   "metadata": {
    "_uuid": "86f665cc27fe8f3b23d0fefaa28f580dd4cd8691",
    "collapsed": true
   },
   "outputs": [],
   "source": []
  },
  {
   "cell_type": "code",
   "execution_count": null,
   "metadata": {
    "_uuid": "401bec4a5ca52621e18382190344db4eac49e9a2",
    "collapsed": true
   },
   "outputs": [],
   "source": []
  },
  {
   "cell_type": "code",
   "execution_count": null,
   "metadata": {
    "_uuid": "c608ad0997c6f344ab20c00107e7e241c2755453",
    "collapsed": true
   },
   "outputs": [],
   "source": []
  },
  {
   "cell_type": "code",
   "execution_count": null,
   "metadata": {
    "_uuid": "8cfd2c6f877d62f7c619c2f456581aabd416870f",
    "collapsed": true
   },
   "outputs": [],
   "source": []
  },
  {
   "cell_type": "code",
   "execution_count": null,
   "metadata": {
    "_uuid": "0b76ef8c6eda3440c49383d4efc6a0067d13bcbe",
    "collapsed": true
   },
   "outputs": [],
   "source": []
  },
  {
   "cell_type": "code",
   "execution_count": null,
   "metadata": {
    "_uuid": "00a14665e9487040942c62a4cb81f2ff3b156cf4",
    "collapsed": true
   },
   "outputs": [],
   "source": []
  },
  {
   "cell_type": "code",
   "execution_count": null,
   "metadata": {
    "_uuid": "6aa5b316f9b5d992bc3fb2216f2d12b057de628d",
    "collapsed": true
   },
   "outputs": [],
   "source": []
  },
  {
   "cell_type": "code",
   "execution_count": null,
   "metadata": {
    "_uuid": "3fb7c433757e3c2e0ca1c5b23d75c9e3a6dd5032",
    "collapsed": true
   },
   "outputs": [],
   "source": [
    "f = plt.figure()\n",
    "gs = gridspec.GridSpec(1,1)\n",
    "f.set_figheight(8)\n",
    "f.set_figwidth(8)\n",
    "ax3 = f.add_subplot(gs[0,0])\n",
    "ax3.scatter(elec_all[(elec_all.year=='2018')&(elec_all.index.str.contains('enexis'))].groupby('city').median()['smartmeter_perc']\n",
    "         ,elec_all[(elec_all.year=='2018')&(elec_all.index.str.contains('enexis'))].groupby('city').median()['annual_consume_lowtarif_perc']\n",
    "         ,s=elec_all[(elec_all.year=='2018')&(elec_all.index.str.contains('enexis'))].groupby('city').sum()['num_connections'].divide(1e2),alpha=.2)\n",
    "ax3.scatter(elec_all[(elec_all.year=='2018')&(elec_all.index.str.contains('liander'))].groupby('city').median()['smartmeter_perc']\n",
    "         ,elec_all[(elec_all.year=='2018')&(elec_all.index.str.contains('liander'))].groupby('city').median()['annual_consume_lowtarif_perc']\n",
    "         ,s=elec_all[(elec_all.year=='2018')&(elec_all.index.str.contains('liander'))].groupby('city').sum()['num_connections'].divide(1e2),alpha=.2)\n",
    "ax3.scatter(elec_all[(elec_all.year=='2018')&(elec_all.index.str.contains('stedin'))].groupby('city').median()['smartmeter_perc']\n",
    "         ,elec_all[(elec_all.year=='2018')&(elec_all.index.str.contains('stedin'))].groupby('city').median()['annual_consume_lowtarif_perc']\n",
    "         ,s=elec_all[(elec_all.year=='2018')&(elec_all.index.str.contains('stedin'))].groupby('city').sum()['num_connections'].divide(1e2),alpha=.2)\n",
    "plt.ylabel('mean % of lowtarif consumption')\n",
    "plt.xlabel('mean % of smartmeters')\n",
    "plt.title('2018 smartmeter-lowtarif per city\\n(sphere radius correlates with city size)')\n",
    "lgnd = plt.legend(['Enexis','Liander','Stedin'],loc='lower right')\n",
    "lgnd.legendHandles[0]._sizes = [50]\n",
    "lgnd.legendHandles[1]._sizes = [50]\n",
    "lgnd.legendHandles[2]._sizes = [50]\n",
    "\n",
    "\"\"\"ax4 = f.add_subplot(gs[0,0])\n",
    "ax4.plot(num_smartmeters.columns.astype(int)-1,num_smartmeters.sum(),'-om',**specs)\n",
    "plt.yscale('log')\n",
    "plt.ylabel('Count')\n",
    "plt.xlabel('Year')\n",
    "plt.title('Total number of smartmeters')\n",
    "plt.ylim(1e5,1e7)\"\"\""
   ]
  },
  {
   "cell_type": "code",
   "execution_count": null,
   "metadata": {
    "_uuid": "625d914a3ee751a76e7c87cc4af9160ac51215cf",
    "collapsed": true
   },
   "outputs": [],
   "source": []
  },
  {
   "cell_type": "code",
   "execution_count": null,
   "metadata": {
    "_uuid": "de4590a16043be59119d57b9e8e8cce185c33c49",
    "collapsed": true
   },
   "outputs": [],
   "source": [
    "f, axs = plt.subplots(2,3, figsize=(18, 12))#, facecolor='w', edgecolor='k')\n",
    "#f.subplots_adjust(hspace = .5, wspace=.001)\n",
    "axs = axs.ravel()\n",
    "for i in range(2013,2019):\n",
    "    j=i-2013\n",
    "    y=str(i)\n",
    "    axs[j].scatter(elec_all[(elec_all.year==y)&(elec_all.index.str.contains('enexis'))].groupby('city').median()['smartmeter_perc']\n",
    "             ,elec_all[(elec_all.year==y)&(elec_all.index.str.contains('enexis'))].groupby('city').median()['annual_consume_lowtarif_perc']\n",
    "             ,s=elec_all[(elec_all.year==y)&(elec_all.index.str.contains('enexis'))].groupby('city').sum()['num_connections'].divide(1e2),alpha=.2)\n",
    "    axs[j].scatter(elec_all[(elec_all.year==y)&(elec_all.index.str.contains('liander'))].groupby('city').median()['smartmeter_perc']\n",
    "             ,elec_all[(elec_all.year==y)&(elec_all.index.str.contains('liander'))].groupby('city').median()['annual_consume_lowtarif_perc']\n",
    "             ,s=elec_all[(elec_all.year==y)&(elec_all.index.str.contains('liander'))].groupby('city').sum()['num_connections'].divide(1e2),alpha=.2)\n",
    "    axs[j].scatter(elec_all[(elec_all.year==y)&(elec_all.index.str.contains('stedin'))].groupby('city').median()['smartmeter_perc']\n",
    "             ,elec_all[(elec_all.year==y)&(elec_all.index.str.contains('stedin'))].groupby('city').median()['annual_consume_lowtarif_perc']\n",
    "             ,s=elec_all[(elec_all.year==y)&(elec_all.index.str.contains('stedin'))].groupby('city').sum()['num_connections'].divide(1e2),alpha=.2)\n",
    "    if (i==2013) | (i==2016):\n",
    "        axs[j].set_ylabel('mean % of lowtarif consumption')\n",
    "    if i>=2016:\n",
    "        axs[j].set_xlabel('mean % of smartmeters')\n",
    "    if i==2018:\n",
    "        lgnd = plt.legend(['Enexis','Liander','Stedin'],loc='lower right')\n",
    "        lgnd.legendHandles[0]._sizes = [50]\n",
    "        lgnd.legendHandles[1]._sizes = [50]\n",
    "        lgnd.legendHandles[2]._sizes = [50]\n",
    "plt.suptitle('Evolution of smartmeter-lowtarif per city\\n(sphere radius correlates with city size)',fontsize=25)\n"
   ]
  },
  {
   "cell_type": "code",
   "execution_count": null,
   "metadata": {
    "_uuid": "b78bfdd83210a256bf4fc02ba3b7c94eab423fbb",
    "collapsed": true
   },
   "outputs": [],
   "source": [
    "elec_all[elec_all.year=='2018'].type_of_connection.value_counts().sort_values().plot.barh(color='b',alpha=.3,width=.9,figsize=(7,7))\n",
    "plt.xscale('log')\n"
   ]
  },
  {
   "cell_type": "code",
   "execution_count": null,
   "metadata": {
    "_uuid": "71cd72a84e3884caf57f963f33e36e70c788c369",
    "collapsed": true
   },
   "outputs": [],
   "source": []
  },
  {
   "cell_type": "markdown",
   "metadata": {
    "_uuid": "3360a685aa0e9579bd86a4e8983cf3101440be6c"
   },
   "source": []
  },
  {
   "cell_type": "code",
   "execution_count": null,
   "metadata": {
    "_uuid": "62dcaf14b63b5efb2df371d3156994de357b6986",
    "collapsed": true
   },
   "outputs": [],
   "source": []
  },
  {
   "cell_type": "code",
   "execution_count": null,
   "metadata": {
    "_uuid": "3247a0122818275c68c7a64603344cc2ee0f6130",
    "collapsed": true
   },
   "outputs": [],
   "source": []
  },
  {
   "cell_type": "code",
   "execution_count": null,
   "metadata": {
    "_uuid": "a51c60d5f99d7567581ae68a1e9498673b2cd4f5",
    "collapsed": true
   },
   "outputs": [],
   "source": []
  },
  {
   "cell_type": "code",
   "execution_count": null,
   "metadata": {
    "_uuid": "1ba98fe4d0ebeccc454b0fd747c7dd91d351dcc8",
    "collapsed": true
   },
   "outputs": [],
   "source": []
  },
  {
   "cell_type": "code",
   "execution_count": null,
   "metadata": {
    "_uuid": "e9b9169eb3b01ee6b52851f0a0989ed8343cd954",
    "collapsed": true
   },
   "outputs": [],
   "source": []
  },
  {
   "cell_type": "code",
   "execution_count": null,
   "metadata": {
    "_uuid": "5b30661b618de6fefc65f214ddaf7870bfcc27ed",
    "collapsed": true
   },
   "outputs": [],
   "source": [
    "sns.distplot(smartmeter_perc[y],bins=X_data,hist=True,kde=True)"
   ]
  },
  {
   "cell_type": "markdown",
   "metadata": {
    "_uuid": "056b631f7240bca0f67bf21feb784c8d1ecc9996"
   },
   "source": []
  },
  {
   "cell_type": "code",
   "execution_count": null,
   "metadata": {
    "_uuid": "1aab653e1e85501326411369e8cbdb8b1ffb2f4f",
    "collapsed": true
   },
   "outputs": [],
   "source": []
  },
  {
   "cell_type": "code",
   "execution_count": null,
   "metadata": {
    "_uuid": "c1d1a13144360b1d27d858fe82d5d056d39735dc",
    "collapsed": true
   },
   "outputs": [],
   "source": [
    "counts\n"
   ]
  },
  {
   "cell_type": "code",
   "execution_count": null,
   "metadata": {
    "_uuid": "f0a52da27fb764fa510ac88fe35a084b8ef3dcb3",
    "collapsed": true
   },
   "outputs": [],
   "source": [
    "bins"
   ]
  },
  {
   "cell_type": "code",
   "execution_count": null,
   "metadata": {
    "_uuid": "6ce4518559c703f49cf826b4c84a4fdb1d18b6b3",
    "collapsed": true
   },
   "outputs": [],
   "source": []
  },
  {
   "cell_type": "code",
   "execution_count": null,
   "metadata": {
    "_uuid": "aead32cc71c8fb4f123ed4d0f0db798fda064aaa",
    "collapsed": true
   },
   "outputs": [],
   "source": []
  },
  {
   "cell_type": "code",
   "execution_count": null,
   "metadata": {
    "_uuid": "3182f71c843d9a55bee77e29709cf7e9028bc9f0",
    "collapsed": true
   },
   "outputs": [],
   "source": []
  },
  {
   "cell_type": "code",
   "execution_count": null,
   "metadata": {
    "_uuid": "17e0fd03423309a51fddf5790775f79c5a1de505",
    "collapsed": true
   },
   "outputs": [],
   "source": []
  },
  {
   "cell_type": "code",
   "execution_count": null,
   "metadata": {
    "_uuid": "70cdc6185a098c2f91075560adad9ee95a440754",
    "collapsed": true
   },
   "outputs": [],
   "source": [
    "num_smartmeters['2018'].hist(bins=np.logspace(1,5,20))\n",
    "plt.xscale('log')"
   ]
  },
  {
   "cell_type": "code",
   "execution_count": null,
   "metadata": {
    "_uuid": "078a38e48cb47b8238569576dc1832b10f5f5225",
    "collapsed": true
   },
   "outputs": [],
   "source": [
    "num_connections['2018'].hist(bins=np.logspace(1,5,20),alpha=.3)\n",
    "plt.xscale('log')"
   ]
  },
  {
   "cell_type": "code",
   "execution_count": null,
   "metadata": {
    "_uuid": "0eb4d619d7394b9de0f65edb020f8f14b6cda838",
    "collapsed": true
   },
   "outputs": [],
   "source": []
  },
  {
   "cell_type": "code",
   "execution_count": null,
   "metadata": {
    "_uuid": "27f849c1153835a6b320506de4ec3c9825032472",
    "collapsed": true
   },
   "outputs": [],
   "source": []
  },
  {
   "cell_type": "code",
   "execution_count": null,
   "metadata": {
    "_uuid": "776b44e6798855b6c1f35db795ad06feefd88f7e",
    "collapsed": true
   },
   "outputs": [],
   "source": [
    "#plt.style.use(['fivethirtyeight'])\n",
    "plt.rcParams.update(plt.rcParamsDefault)"
   ]
  },
  {
   "cell_type": "code",
   "execution_count": null,
   "metadata": {
    "_uuid": "8d0fa8542d8e7c326d8aabf9bbc25374e501e5ab",
    "collapsed": true
   },
   "outputs": [],
   "source": [
    "plt.plot(annual_consume.columns.astype(int)-1,self_production.sum()/annual_consume.sum()*100,'-o',**specs)\n",
    "#plt.yscale('log')\n",
    "plt.ylabel('% of total consumption')\n",
    "plt.xlabel('');#plt.xticks([])\n",
    "plt.title('Self-produced energy in NL')"
   ]
  },
  {
   "cell_type": "code",
   "execution_count": null,
   "metadata": {
    "_uuid": "b9198eb6a2b52df28cb5fc9b9cd0541c86f9f5d4",
    "collapsed": true
   },
   "outputs": [],
   "source": [
    "    "
   ]
  },
  {
   "cell_type": "code",
   "execution_count": null,
   "metadata": {
    "_uuid": "58ad85aaf86f1c1108c9689e36cb2ddc036ecb77",
    "collapsed": true
   },
   "outputs": [],
   "source": [
    "set(elec_enexis.city.unique()).intersection(set(elec_stedin.city.unique()))"
   ]
  },
  {
   "cell_type": "code",
   "execution_count": null,
   "metadata": {
    "_uuid": "f2134aeb53e5362b04b5996f4981111c0d04f619",
    "collapsed": true
   },
   "outputs": [],
   "source": [
    "len(elec_liander.city.unique())\n",
    "elec_liander.shape"
   ]
  },
  {
   "cell_type": "code",
   "execution_count": null,
   "metadata": {
    "_uuid": "8070911ec338834d0d3a245997221da6028e9de5",
    "collapsed": true
   },
   "outputs": [],
   "source": [
    "len(elec_stedin.city.unique())"
   ]
  },
  {
   "cell_type": "markdown",
   "metadata": {
    "_uuid": "573718df362178311b393f8e64bdaeef23b7f3fa"
   },
   "source": [
    "QUESTIONS global\n",
    "when will the number of smartmeters equal the number of connections?\n",
    "when will the amount of self-produced energy become a significant fraction (20,30,50%)? What could limit growth here?\n",
    "How are the energy providers performing, is any company increasing its market share? Who is leading the smartmeter business?\n",
    "Will the total consumption go up or down in the future?\n",
    "How does this compare to gas consumption?\n",
    "Can we detect difference in consumption of gas depending on the average monthly/yearly temperature?\n",
    "\n",
    "Then continue on a city level:\n",
    "rankings, bump plots \n",
    "city growth rates\n",
    "are there places stagnating and/or left behind?\n",
    "\n"
   ]
  },
  {
   "cell_type": "code",
   "execution_count": null,
   "metadata": {
    "_uuid": "580fdeaf4d4b761730c25dd600e4acf910ce9d6e",
    "collapsed": true
   },
   "outputs": [],
   "source": [
    "def get_yearly_percity(df):\n",
    "    years = df['year'].unique()\n",
    "    group = None\n",
    "    keys = ['num_connections','annual_consume']\n",
    "    for y in years:\n",
    "        temp = df[df['year']==y]\n",
    "        temp_group = temp.groupby('city').sum()[keys]\n",
    "        values = [keys[0]+'_'+y,keys[1]+'_'+y]\n",
    "        if group is None:\n",
    "            group = temp_group.rename(index=str,columns=dict(zip(keys,values)))\n",
    "        else:\n",
    "            temp_group.rename(index=str,columns=dict(zip(keys,values)),inplace=True)\n",
    "            group = group.join(temp_group)\n",
    "    return(group)\n",
    "\n",
    "def plot_cities_yearly(groupdf,years):\n",
    "    yearsint = [int(f) for f in years]\n",
    "    "
   ]
  },
  {
   "cell_type": "code",
   "execution_count": null,
   "metadata": {
    "_uuid": "174a4eecb81772e038bb0859cd277f6955e64662",
    "collapsed": true
   },
   "outputs": [],
   "source": [
    "all_years_cities = get_yearly_percity(elec_all)"
   ]
  },
  {
   "cell_type": "code",
   "execution_count": null,
   "metadata": {
    "_uuid": "ad2136f7aa49e5b448122259c0700c95a0b16783",
    "collapsed": true
   },
   "outputs": [],
   "source": [
    "all_years_cities.sort_values('num_connections_2018',ascending=False)[0:20]"
   ]
  },
  {
   "cell_type": "code",
   "execution_count": null,
   "metadata": {
    "_uuid": "3011b83c5b71ddbae89fcb912b106ec5ca69f977",
    "collapsed": true
   },
   "outputs": [],
   "source": [
    "#elec_all.pivot(index='city',columns='year',values='annual_consume')#['variable'].unique()\n",
    "#elec_all.city.value_counts()\n",
    "annual_consume = pd.pivot_table(elec_all,values='annual_consume',index='city',columns='year',aggfunc=np.sum)\n",
    "num_connections = pd.pivot_table(elec_all,values='num_connections',index='city',columns='year',aggfunc=np.sum)\n",
    "smartmeter_perc = pd.pivot_table(elec_all,values='smartmeter_perc',index='city',columns='year',aggfunc=np.mean)"
   ]
  },
  {
   "cell_type": "code",
   "execution_count": null,
   "metadata": {
    "_uuid": "5b2ab7f68caf8cdeb26bd4a7e972ad49abf997ff",
    "collapsed": true
   },
   "outputs": [],
   "source": [
    "smartmeter_perc.sort_values('2018',ascending=False)"
   ]
  },
  {
   "cell_type": "code",
   "execution_count": null,
   "metadata": {
    "_uuid": "15afbe9b79715a9b19248e5fd60015af41e8a0b4",
    "collapsed": true
   },
   "outputs": [],
   "source": [
    "top20_connect = num_connections.sort_values('2018',ascending=False)[0:20]\n",
    "top20_con_consume = annual_consume.loc[top20_connect.index,:]\n",
    "years = [int(f) for f in top20_connect.columns]\n",
    "\"\"\"f = plt.figure()\n",
    "gs = gridspec.GridSpec(1,1)\n",
    "\n",
    "ax1 = f.add_subplot(gs[0,0])\n",
    "for city in top20_connect.index:\n",
    "    \"\"\"\n"
   ]
  },
  {
   "cell_type": "code",
   "execution_count": null,
   "metadata": {
    "_uuid": "8e32b08a689de7a69a79a23e261388926e28dfce",
    "collapsed": true
   },
   "outputs": [],
   "source": [
    "ax = top20_con_consume.drop('EINDHOVEN').T.plot()\n",
    "#plt.yscale('lin')\n"
   ]
  },
  {
   "cell_type": "code",
   "execution_count": null,
   "metadata": {
    "_uuid": "c8de94ad516a3c271bb29ed375fb73f442e96d6f",
    "collapsed": true
   },
   "outputs": [],
   "source": [
    "plt.scatter(top20_connect.loc[:,'2018'],top20_con_consume.loc[:,'2018'])\n"
   ]
  },
  {
   "cell_type": "code",
   "execution_count": null,
   "metadata": {
    "_uuid": "921fdf7273208dee815245faaca84117ca35cff5",
    "collapsed": true
   },
   "outputs": [],
   "source": [
    "plt.loglog(num_connections.loc[:,'2018'],annual_consume.loc[:,'2018'],'o',alpha=.4)\n",
    "\n"
   ]
  },
  {
   "cell_type": "code",
   "execution_count": null,
   "metadata": {
    "_uuid": "c9242cc9776353825775f3280666c3e1d93aef98",
    "collapsed": true
   },
   "outputs": [],
   "source": [
    "top"
   ]
  },
  {
   "cell_type": "code",
   "execution_count": null,
   "metadata": {
    "_uuid": "06745443235fcbc9f195cc9634becc3bbcc55baa",
    "collapsed": true
   },
   "outputs": [],
   "source": []
  },
  {
   "cell_type": "code",
   "execution_count": null,
   "metadata": {
    "_uuid": "7005344491ea410cb6743af1b87750f253409163",
    "collapsed": true
   },
   "outputs": [],
   "source": []
  },
  {
   "cell_type": "code",
   "execution_count": null,
   "metadata": {
    "_uuid": "77a3a633fd8a96b65bf08afade2e161ec3cf2626",
    "collapsed": true
   },
   "outputs": [],
   "source": []
  },
  {
   "cell_type": "code",
   "execution_count": null,
   "metadata": {
    "_uuid": "5ffb9dccb508e9ca3aaa482843b95d1de81eda55",
    "collapsed": true
   },
   "outputs": [],
   "source": []
  },
  {
   "cell_type": "code",
   "execution_count": null,
   "metadata": {
    "_uuid": "b880ed2e032064b8d75ed95a2bdca09b29a5df3e",
    "collapsed": true
   },
   "outputs": [],
   "source": []
  },
  {
   "cell_type": "code",
   "execution_count": null,
   "metadata": {
    "_uuid": "dcf47554f35d47ca0d520f71fdeea57c7d61ef72",
    "collapsed": true
   },
   "outputs": [],
   "source": []
  },
  {
   "cell_type": "code",
   "execution_count": null,
   "metadata": {
    "_uuid": "1d90e911fa86ce60f76209550c9ab1ba7564f11b",
    "collapsed": true
   },
   "outputs": [],
   "source": []
  },
  {
   "cell_type": "code",
   "execution_count": null,
   "metadata": {
    "_uuid": "d6b592c9dda752db8b5365bbb50acb2757d0ee18",
    "collapsed": true
   },
   "outputs": [],
   "source": []
  },
  {
   "cell_type": "code",
   "execution_count": null,
   "metadata": {
    "_uuid": "883d484e0511cf8221d00dc004ebbf52416e3aaa",
    "collapsed": true
   },
   "outputs": [],
   "source": []
  },
  {
   "cell_type": "code",
   "execution_count": null,
   "metadata": {
    "_uuid": "4bb211e89fa5e81e5c924328ff8f9082ce60ee0f",
    "collapsed": true
   },
   "outputs": [],
   "source": []
  },
  {
   "cell_type": "code",
   "execution_count": null,
   "metadata": {
    "_uuid": "e3b384ebf65f78616d07784c3ecc17245b613f71",
    "collapsed": true
   },
   "outputs": [],
   "source": [
    "f, ax = plt.subplots(figsize = (10,15))\n",
    "m = Basemap(resolution='h', # c, l, i, h, f or None\n",
    "            projection='merc',\n",
    "            lat_0=54.5, lon_0=-4.36,\n",
    "            llcrnrlon=3.15, llcrnrlat= 50.7, urcrnrlon=7.3, urcrnrlat=53.84)\n",
    "m.drawmapboundary(fill_color='#46bcec')\n",
    "m.fillcontinents(color='#f2f2f2',lake_color='#46bcec')\n",
    "m.drawcoastlines()"
   ]
  },
  {
   "cell_type": "code",
   "execution_count": null,
   "metadata": {
    "_uuid": "31c0fec2dcbd00e4db4990276b1044401c8d68cb",
    "collapsed": true
   },
   "outputs": [],
   "source": []
  },
  {
   "cell_type": "code",
   "execution_count": null,
   "metadata": {
    "_uuid": "5164e2ba5e84036883ddea040e21598f175bb72d",
    "collapsed": true
   },
   "outputs": [],
   "source": []
  },
  {
   "cell_type": "code",
   "execution_count": null,
   "metadata": {
    "_uuid": "d79e71d8e80d6b2aa7afe7728c5e3247a3c5fa8f",
    "collapsed": true
   },
   "outputs": [],
   "source": []
  },
  {
   "cell_type": "code",
   "execution_count": null,
   "metadata": {
    "_uuid": "7119a2b695872f2d28d06344d4db1e2fc725307e",
    "collapsed": true
   },
   "outputs": [],
   "source": [
    "path = '../input/dutch-energy/Electricity/'\n",
    "listoffiles = [f for f in os.listdir(path)]\n",
    "print(listoffiles)\n",
    "elec_data = load_and_reindex(path,listoffiles)"
   ]
  },
  {
   "cell_type": "code",
   "execution_count": null,
   "metadata": {
    "_uuid": "9b8d29cfe9fdfea64eefab015959e213185ac329",
    "collapsed": true
   },
   "outputs": [],
   "source": [
    "elec_data.columns"
   ]
  },
  {
   "cell_type": "code",
   "execution_count": null,
   "metadata": {
    "_uuid": "826ba3011bca014cd84eae264fcf5e50fcc9788d",
    "collapsed": true
   },
   "outputs": [],
   "source": [
    "elec_data.groupby('year').sum()['annual_consume'].plot.bar(color='blue',alpha=.4)"
   ]
  },
  {
   "cell_type": "code",
   "execution_count": null,
   "metadata": {
    "_uuid": "830ce1487dbc655254ba6a0eac136528bdd9887f",
    "collapsed": true
   },
   "outputs": [],
   "source": [
    "elec_data_2009 = elec_data[elec_data['year']=='2009']\n",
    "elec_data_2010 = elec_data[elec_data['year']=='2010']"
   ]
  },
  {
   "cell_type": "code",
   "execution_count": null,
   "metadata": {
    "_uuid": "fd570ffe5e97ae31bf9be464952152f3a8042d8a",
    "collapsed": true
   },
   "outputs": [],
   "source": [
    "elec_data_2009.index.str[0:6].unique()\n",
    "elec_data_2010.index.str[0:6].unique()#.groupby('city').sum()"
   ]
  },
  {
   "cell_type": "code",
   "execution_count": null,
   "metadata": {
    "_uuid": "17c1a4d7dd81deacecc557c3a6691800da19afa4",
    "collapsed": true
   },
   "outputs": [],
   "source": [
    "elec_data_2010"
   ]
  },
  {
   "cell_type": "code",
   "execution_count": null,
   "metadata": {
    "_uuid": "d3fa64c77d48609e261f1347fac0516179ff45cf",
    "collapsed": true
   },
   "outputs": [],
   "source": []
  }
 ],
 "metadata": {
  "kernelspec": {
   "display_name": "Python 3",
   "language": "python",
   "name": "python3"
  },
  "language_info": {
   "codemirror_mode": {
    "name": "ipython",
    "version": 3
   },
   "file_extension": ".py",
   "mimetype": "text/x-python",
   "name": "python",
   "nbconvert_exporter": "python",
   "pygments_lexer": "ipython3",
   "version": "3.6.3"
  }
 },
 "nbformat": 4,
 "nbformat_minor": 1
}
