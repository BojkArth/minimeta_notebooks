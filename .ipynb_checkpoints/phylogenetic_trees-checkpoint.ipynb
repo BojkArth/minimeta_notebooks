{
 "cells": [
  {
   "cell_type": "code",
   "execution_count": null,
   "metadata": {},
   "outputs": [],
   "source": [
    "import numpy as np\n",
    "import matplotlib.pyplot as plt\n",
    "import pandas as pd\n",
    "import csv\n",
    "import matplotlib.cm as cm\n",
    "import seaborn as sns\n",
    "from matplotlib import gridspec\n",
    "import matplotlib.animation as manimation\n",
    "import time\n",
    "import ast\n",
    "import os\n",
    "os.chdir('/home/bojk/Data/')\n",
    "#import plotly. as py\n",
    "#import plotly.graph_objs as go\n",
    "font = {'family' : 'DejaVu Sans',\n",
    "        'weight' : 'regular',\n",
    "        'size'   : 16}\n",
    "\n",
    "plt.rc('font', **font)\n",
    "plt.rc('lines',lw=2)"
   ]
  },
  {
   "cell_type": "code",
   "execution_count": 1,
   "metadata": {},
   "outputs": [
    {
     "ename": "ModuleNotFoundError",
     "evalue": "No module named 'MySQLdb'",
     "output_type": "error",
     "traceback": [
      "\u001b[0;31m---------------------------------------------------------------------------\u001b[0m",
      "\u001b[0;31mModuleNotFoundError\u001b[0m                       Traceback (most recent call last)",
      "\u001b[0;32m<ipython-input-1-e4c00eb7e555>\u001b[0m in \u001b[0;36m<module>\u001b[0;34m\u001b[0m\n\u001b[0;32m----> 1\u001b[0;31m \u001b[0;32mfrom\u001b[0m \u001b[0mete3\u001b[0m \u001b[0;32mimport\u001b[0m \u001b[0mTree\u001b[0m\u001b[0;34m\u001b[0m\u001b[0m\n\u001b[0m\u001b[1;32m      2\u001b[0m \u001b[0;32mfrom\u001b[0m \u001b[0mete3\u001b[0m \u001b[0;32mimport\u001b[0m \u001b[0mTreeStyle\u001b[0m\u001b[0;34m\u001b[0m\u001b[0m\n\u001b[1;32m      3\u001b[0m \u001b[0mete3\u001b[0m\u001b[0;34m.\u001b[0m\u001b[0m__file__\u001b[0m\u001b[0;34m\u001b[0m\u001b[0m\n",
      "\u001b[0;32m~/miniconda3/envs/py360/lib/python3.6/site-packages/ete3/__init__.py\u001b[0m in \u001b[0;36m<module>\u001b[0;34m\u001b[0m\n\u001b[1;32m     62\u001b[0m \u001b[0;34m\u001b[0m\u001b[0m\n\u001b[1;32m     63\u001b[0m \u001b[0;32mtry\u001b[0m\u001b[0;34m:\u001b[0m\u001b[0;34m\u001b[0m\u001b[0m\n\u001b[0;32m---> 64\u001b[0;31m     \u001b[0;32mfrom\u001b[0m \u001b[0;34m.\u001b[0m\u001b[0mphylomedb\u001b[0m\u001b[0;34m.\u001b[0m\u001b[0mphylomeDB3\u001b[0m \u001b[0;32mimport\u001b[0m \u001b[0;34m*\u001b[0m\u001b[0;34m\u001b[0m\u001b[0m\n\u001b[0m\u001b[1;32m     65\u001b[0m \u001b[0;32mexcept\u001b[0m \u001b[0mImportError\u001b[0m \u001b[0;32mas\u001b[0m \u001b[0me\u001b[0m\u001b[0;34m:\u001b[0m\u001b[0;34m\u001b[0m\u001b[0m\n\u001b[1;32m     66\u001b[0m     \u001b[0;32mraise\u001b[0m\u001b[0;34m\u001b[0m\u001b[0m\n",
      "\u001b[0;32m~/miniconda3/envs/py360/lib/python3.6/site-packages/ete3/phylomedb/phylomeDB3.py\u001b[0m in \u001b[0;36m<module>\u001b[0;34m\u001b[0m\n\u001b[1;32m     64\u001b[0m \u001b[0;32mfrom\u001b[0m \u001b[0m__future__\u001b[0m \u001b[0;32mimport\u001b[0m \u001b[0mabsolute_import\u001b[0m\u001b[0;34m\u001b[0m\u001b[0m\n\u001b[1;32m     65\u001b[0m \u001b[0;32mimport\u001b[0m \u001b[0mre\u001b[0m\u001b[0;34m\u001b[0m\u001b[0m\n\u001b[0;32m---> 66\u001b[0;31m \u001b[0;32mimport\u001b[0m \u001b[0mMySQLdb\u001b[0m\u001b[0;34m\u001b[0m\u001b[0m\n\u001b[0m\u001b[1;32m     67\u001b[0m \u001b[0;32mfrom\u001b[0m \u001b[0mstring\u001b[0m \u001b[0;32mimport\u001b[0m \u001b[0mstrip\u001b[0m\u001b[0;34m\u001b[0m\u001b[0m\n\u001b[1;32m     68\u001b[0m \u001b[0;32mfrom\u001b[0m \u001b[0;34m.\u001b[0m\u001b[0;34m.\u001b[0m \u001b[0;32mimport\u001b[0m \u001b[0mPhyloTree\u001b[0m\u001b[0;34m\u001b[0m\u001b[0m\n",
      "\u001b[0;31mModuleNotFoundError\u001b[0m: No module named 'MySQLdb'"
     ]
    }
   ],
   "source": [
    "from ete3 import Tree\n",
    "from ete3 import TreeStyle\n",
    "ete3.__file__"
   ]
  },
  {
   "cell_type": "code",
   "execution_count": 4,
   "metadata": {},
   "outputs": [],
   "source": [
    "from configparser import SafeConfigParser"
   ]
  },
  {
   "cell_type": "code",
   "execution_count": null,
   "metadata": {},
   "outputs": [],
   "source": [
    "n = Tree(\"pruned_withreference_phyla_cons.nwk\")\n",
    "do = Tree(\"grouped_all_sorted_domain_EnergyMet.nwk\")\n",
    "ph = Tree(\"grouped_all_sorted_phylum_EnergyMet.nwk\")\n",
    "sp = Tree(\"grouped_all_sorted_species_EnergyMet.nwk\")\n",
    "\n",
    "n_s = Tree(\"grouped_selonly_sorted_names_EnergyMet.nwk\")\n",
    "do_s = Tree(\"grouped_selonly_sorted_domain_EnergyMet.nwk\")\n",
    "ph_s = Tree(\"grouped_selonly_sorted_phylum_EnergyMet.nwk\")\n",
    "sp_s = Tree(\"grouped_selonly_sorted_species_EnergyMet.nwk\")\n",
    "PF_all = Tree('Permafrost/Trees_Feb2019v1/tree_UNI56_all/UNI56_permafrostfaa_mafftBMGE.concat.FTWAG')"
   ]
  },
  {
   "cell_type": "code",
   "execution_count": null,
   "metadata": {},
   "outputs": [],
   "source": [
    "def collapsed_leaf(node):\n",
    "    if len(node2labels[node]) == 1:\n",
    "        return True\n",
    "    else:\n",
    "        return False"
   ]
  },
  {
   "cell_type": "code",
   "execution_count": null,
   "metadata": {},
   "outputs": [],
   "source": [
    "maindir = 'Permafrost/Tree/'\n",
    "name = 'all_withoutmini_'\n",
    "node2labels = PF_all.get_cached_content(store_attr='name')"
   ]
  },
  {
   "cell_type": "code",
   "execution_count": null,
   "metadata": {},
   "outputs": [],
   "source": []
  },
  {
   "cell_type": "code",
   "execution_count": null,
   "metadata": {},
   "outputs": [],
   "source": [
    "PF_all.render(maindir+name+\"_TreeComplete.pdf\", w = 500, units = \"px\")#, tree_style = ts)"
   ]
  },
  {
   "cell_type": "code",
   "execution_count": null,
   "metadata": {},
   "outputs": [],
   "source": [
    "import PyQt5"
   ]
  },
  {
   "cell_type": "code",
   "execution_count": null,
   "metadata": {},
   "outputs": [],
   "source": [
    "import ete3\n"
   ]
  },
  {
   "cell_type": "code",
   "execution_count": null,
   "metadata": {},
   "outputs": [],
   "source": [
    "ete3.__file__"
   ]
  },
  {
   "cell_type": "code",
   "execution_count": null,
   "metadata": {},
   "outputs": [],
   "source": []
  },
  {
   "cell_type": "code",
   "execution_count": null,
   "metadata": {
    "scrolled": true
   },
   "outputs": [],
   "source": [
    "maindir = 'MAGs/CODHACS/bins_IMG/treefiles/'\n",
    "maindir = 'MAGs/H4MPT/'\n",
    "maindir = 'MAGs/Mcr/'\n",
    "maindir = 'MAGs/Mtr/'\n",
    "name = 'IQ_CODH_all'\n",
    "name = 'IQ_CODH_noA'\n",
    "#name = 'IQ_CODH_noAnoE'\n",
    "name = 'IQ_CODH_all_root'\n",
    "#name = 'IQ_CODH_noA_root'\n",
    "#name = 'IQ_CODH_noAnoE_root'\n",
    "#name = 'beta_only_all_'\n",
    "#name = 'gamma_only_all_'\n",
    "name = 'IQ_subunit_delta_root'\n",
    "name = 'tree_H4MPT_subH_unrooted'\n",
    "name = 'tree_mcr_gammaroot'\n",
    "name = 'Verstraete16S_unroot'\n",
    "name = 'IQ_MtrH_root_2635086075'\n",
    "name = 'IQ_MtrA_'\n",
    "tree = Tree(maindir+name+'.treefile')\n",
    "\"\"\"for node in tree.get_descendants():\n",
    "    if not node.is_leaf() and node.support <= 0.8:\n",
    "        node.delete()\"\"\"\n",
    "#tree.unroot()\n",
    "ts = TreeStyle()\n",
    "ts.show_leaf_name = True\n",
    "\n",
    "\n",
    "#ts.mode = \"c\"\n",
    "#ts.arc_start = -90 # 0 degrees = 3 o'clock\n",
    "#ts.arc_span = 180\n",
    "tree.show(tree_style = ts)\n",
    "tree.render(maindir+name+\"_TreeComplete.pdf\", w = 500, units = \"px\", tree_style = ts)"
   ]
  },
  {
   "cell_type": "code",
   "execution_count": null,
   "metadata": {},
   "outputs": [],
   "source": []
  },
  {
   "cell_type": "code",
   "execution_count": null,
   "metadata": {},
   "outputs": [],
   "source": [
    "tr = Tree('Tree_Obsidian/June2018_archaeasubtrees/UNI56_subtreeMarscVersGeoCren_mafftBMGE.concat.faa.contree')\n",
    "#tr = Tree('Tree_Obsidian/June2018_archaeasubtrees/gtdbarc_subtreeMarscVersGeoCren_mafftBMGE.concat.faa.contree')\n",
    "ancestor = tr.get_common_ancestor(\"IMG2264867066\",\"IMG2264867064\")\n",
    "tr.set_outgroup('IMG2264867064')"
   ]
  },
  {
   "cell_type": "code",
   "execution_count": null,
   "metadata": {},
   "outputs": [],
   "source": [
    "len(greyscale)\n",
    "Tree."
   ]
  },
  {
   "cell_type": "code",
   "execution_count": null,
   "metadata": {},
   "outputs": [],
   "source": [
    "ts = TreeStyle()\n",
    "ts.show_leaf_name = True\n",
    "#ts.mode = \"c\"\n",
    "#ts.arc_start = -90 # 0 degrees = 3 o'clock\n",
    "#ts.arc_span = 180\n",
    "ts.scale =  220\n",
    "tr.show(tree_style = ts)\n",
    "tr.render('Tree_Obsidian/June2018_archaeasubtrees/UNI56_straight.pdf', w = 1000, units = \"px\", tree_style = ts)"
   ]
  },
  {
   "cell_type": "code",
   "execution_count": null,
   "metadata": {},
   "outputs": [],
   "source": [
    "from ete3 import Tree, faces, CircleFace, TreeStyle, NodeStyle, TextFace\n",
    "import ete3 as ete\n",
    "\n",
    "tree='Tree_Obsidian/Subtrees/UNI56_New_phylum_mafftBMGE.concat.faa.contree'\n",
    "# taxon lookup\n",
    "defin='Tree_Obsidian/TreesV3/allarcheaMarch2018_V3/archaea_March2018.lookup'\n",
    "# two columns, genome short name tab name to be displayed in tree  \n",
    "defin = '/home/bojk/Data/Tree_Obsidian/June2018_archaea/archaea_March2018.lookup'\n",
    "# additional metadata, GC%, genome size\n",
    "metad='Tree_Obsidian/TreesV3/allarcheaMarch2018_V3/archaea_March2018_2.GCLen.csv'\n",
    "\n",
    "# greyscale for GC%\n",
    "greyscale = ['#F9F9F9','#F4F4F4','#EFEFEF','#EAEAEA','#E4E4E4','#DFDFDF','#DADADA','#D5D5D5','#D0D0D0','#CACACA','#C5C5C5','#C0C0C0','#BBBBBB','#B6B6B6','#B0B0B0','#ABABAB','#A6A6A6','#A1A1A1','#9C9C9C','#969696','#919191','#8C8C8C','#878787','#828282','#7C7C7C','#777777','#727272','#6D6D6D','#686868','#626262','#5D5D5D','#585858','#535353','#4E4E4E','#484848','#434343','#3E3E3E','#393939','#343434','#2E2E2E','#292929','#242424','#1F1F1F','#1A1A1A','#141414','#0F0F0F','#0A0A0A','#050505', '#050505', '#050505', '#050505', '#050505', '#050505', '#050505', '#050505', '#050505', '#050505', '#050505', '#050505', '#050505', '#050505', '#050505', '#050505', '#050505', '#050505', '#050505', '#050505', '#050505', '#050505', '#050505', '#050505', '#050505', '#050505', '#050505', '#050505', '#050505', '#050505']\n",
    "\n",
    "# Functions\n",
    "\n",
    "def get_defs(definfile):\n",
    "    \"\"\"\n",
    "    Read metadata\n",
    "    \"\"\"\n",
    "    nameshash={}    \n",
    "    colorhash={}\n",
    "    outgroup=[]\n",
    "    support='yes'\n",
    "    with open(definfile, \"r\") as infile:\n",
    "        for line in infile:\n",
    "            line = line.strip()\n",
    "            if \"\\t\" in line:\n",
    "                nameshash[line.split(\"\\t\")[0]] = line.split(\"\\t\")[1]\n",
    "            elif line.startswith(\"color:\"):\n",
    "                for x in line.split(\":\")[2].split():\n",
    "                    colorhash[x] = line.split(\":\")[1]\n",
    "            elif line.startswith(\"outgroup:\"):\n",
    "                outgroup = line.split(\":\")[1].split()\n",
    "            elif line.startswith(\"support:\"):\n",
    "                support = line.split(\":\")[1]\n",
    "    return nameshash, colorhash, outgroup, support\n",
    "\n",
    "\n",
    "def FS_layout(node):\n",
    "    \"\"\"\n",
    "    Plotting params\n",
    "    \"\"\"\n",
    "    node.img_style[\"size\"] = 0\n",
    "    color = \"black\"\n",
    "    if node.is_leaf():\n",
    "        taxonname = node.taxname.split(\"|\")[0]\n",
    "        if taxonname in colorhash and taxonname in nameshash:\n",
    "            color = colorhash[node.taxname]\n",
    "            taxonNode = ete.faces.TextFace(nameshash[taxonname], \n",
    "                                           fgcolor = colorhash[taxonname], \n",
    "                                           fsize = 100, fstyle = 'bold')\n",
    "            ete.faces.add_face_to_node(taxonNode, node, 0)\n",
    "        else:\n",
    "            color= \"black\"\n",
    "            taxonNode = ete.faces.TextFace(nameshash[taxonname], \n",
    "                                           fgcolor = \"black\", fsize = 100, fstyle = 'bold')\n",
    "            ete.faces.add_face_to_node(taxonNode, node, 0)\n",
    "\n",
    "        if taxonname in genomesize_dic:\n",
    "            C0 = CircleFace(radius = 10, color = 'white', style = \"circle\")\n",
    "            C1 = CircleFace(radius = int(float(genomesize_dic[taxonname])/30000), \n",
    "                            color = greyscale[int(float(gc_dic[taxonname])*100-10)], \n",
    "                            style = \"circle\")\n",
    "            C0.opacity = 1\n",
    "            C1.opacity = 1\n",
    "            ete.faces.add_face_to_node(C0, node, 0, position=\"branch-right\", aligned=True)\n",
    "            ete.faces.add_face_to_node(C1, node, 1, position=\"branch-right\", aligned=True)\n",
    "    else:\n",
    "        common_name = list(node2taxnames[node])[0]\n",
    "        color = colorhash.get(str(common_name), \"black\")\n",
    "\n",
    "    if \"support\" in node.features and support == \"yes\":\n",
    "        if node.support < 1:\n",
    "            supportvalue = ete.faces.TextFace(str(node.support).replace(\".0\",\"\"), \n",
    "                                             fgcolor = \"black\", \n",
    "                                             fsize = 60)\n",
    "            ete.faces.add_face_to_node(supportvalue, node, 0, position=\"branch-right\")\n",
    "                    \n",
    "    node.img_style[\"fgcolor\"] = color\n",
    "    node.img_style[\"vt_line_color\"] = color\n",
    "    \n",
    "    node.img_style[\"hz_line_color\"] = color\n",
    "    node.img_style['hz_line_width'] = 20\n",
    "    node.img_style['vt_line_width'] = 20\n"
   ]
  },
  {
   "cell_type": "code",
   "execution_count": null,
   "metadata": {},
   "outputs": [],
   "source": [
    "# Read tree and metadata\n",
    "tree='Tree_Obsidian/Subtrees/UNI56_Verstraetearchaeota_mafftBMGE.concat.faa.contree'\n",
    "tree='Tree_Obsidian/Subtrees/UNI56_Bathyarchaeota_mafftBMGE.concat.faa.contree'\n",
    "#tree='Tree_Obsidian/Subtrees/UNI56_New_phylum_mafftBMGE.concat.faa.contree'\n",
    "tree='Tree_Obsidian/Subtrees/UNI56_Desulfurococcales_III_mafftBMGE.concat.faa.contree'\n",
    "tree = 'MAGs/CODHACS/faasep/gamma_.treefile'\n",
    "tree = 'Tree_Obsidian/June2018_archaeasubtrees/UNI56_subtreeMarscVersGeoCren_mafftBMGE.concat.faa.contree'\n",
    "tree = 'Tree_Obsidian/Tree_TACK_Aug_2018/TACK_tree/UNI56_genomesV6_mafftBMGE.concat.faa.contree'\n",
    "tree = 'Tree_Obsidian/TreeOPbacteria_Aug2018/aquificae_tree/UNI56_aquificae_mafftBMGE.concat.faa.contree'\n",
    "gclencompl = '/home/bojk/Data/Tree_Obsidian/June2018_archaea/UNI56_subtreeMarscVersGeoCren_mafftBMGE.concat.FTWAG.lenGCcompl2'\n",
    "defin = '/home/bojk/Data/Tree_Obsidian/June2018_archaea/archaea_March2018.lookup'\n",
    "defin = 'Tree_Obsidian/TreeOPbacteria_Aug2018/aquificae_tree/aquificae.lookup'\n",
    "nameshash, colorhash, outgroup, support, a, am, ad = get_defs(defin,gclencompl)\n",
    "\n",
    "genomesize_dic = {}\n",
    "gc_dic = {}\n",
    "UNI56_dic = {}\n",
    "\n",
    "with open(metad, \"r\") as infile:\n",
    "    for line in infile:\n",
    "        line = line.strip()\n",
    "        genomesize_dic[line.split(\"\\t\")[0]] = line.split(\"\\t\")[2]\n",
    "        gc_dic[line.split(\"\\t\")[0]] = line.split(\"\\t\")[1]\n",
    "\n",
    "t = Tree(tree)\n",
    "\n",
    "# Get outgroup\n",
    "#outgroup = ['IMG2264867066','IMG2264867064','IMG2264867065','IMG2721755895'] #these are DPANN used for the TACK tree\n",
    "outgroup = ['IMG642487181','IMG2579779163','IMG2657245176','IMG2657245267','IMG2585428042',\n",
    "           'IMG2264867129','IMG2756170248','IMG2264867084','IMG2639762628','IMG2645728167',\n",
    "           'IMG2517572018','IMG2527291514']\n",
    "allleaves=[]\n",
    "for node in t.traverse():\n",
    "    if node.is_leaf():\n",
    "        allleaves.append(node.name)\n",
    "\n",
    "finaloutgroup=[]\n",
    "for x in allleaves:\n",
    "    if x.split(\"|\")[0] in outgroup:\n",
    "        finaloutgroup.append(x)\n",
    "\n",
    "if len(finaloutgroup) >= 1:\n",
    "    ancestor = t.get_common_ancestor(finaloutgroup)\n",
    "    #ancestor = 'IMG2264867064'\n",
    "    t.set_outgroup(ancestor)\n",
    "\n",
    "# Plot the tree\n",
    "#ancestor = 'IMG2264867064'\n",
    "#t.set_outgroup(ancestor)\n",
    "\n",
    "t.dist = 0 # do not show root branch\n",
    "t.ladderize()\n",
    "ts = TreeStyle()\n",
    "ts.mode = 'r'\n",
    "ts.arc_start = -90 # 0 degrees = 3 o'clock\n",
    "ts.arc_span = 180\n",
    "ts.min_leaf_separation = 0\n",
    "#ts.layout_fn = FS_layout\n",
    "ts.show_leaf_name = True\n",
    "ts.scale = 500\n",
    "ts.allow_face_overlap = True\n",
    "ts.guiding_lines_type = 1\n",
    "\n",
    "for leaf in t.iter_leaves():\n",
    "    pname = leaf.name\n",
    "    leaf.add_features(taxname=pname)\n",
    "\n",
    "# cache the content of internal nodes\n",
    "node2taxnames = t.get_cached_content(store_attr=\"taxname\")\n",
    "\n",
    "# render tree\n",
    "t.render(tree.split(\".\")[0] + \"_circles2.pdf\", w = 500, units = \"px\", tree_style = ts)"
   ]
  },
  {
   "cell_type": "code",
   "execution_count": null,
   "metadata": {},
   "outputs": [],
   "source": [
    "tt = {'name': 'root', 'children': [{'name': 'child1', 'branch_length': 3, 'children': []}, {'name': 'child2', 'branch_length': 2, 'children': []}]}\n",
    "import json\n",
    "fake_file = json.dumps(tt)\n",
    "nameshash\n",
    "outgroup\n",
    "ancestor\n",
    "nameshash"
   ]
  },
  {
   "cell_type": "code",
   "execution_count": null,
   "metadata": {},
   "outputs": [],
   "source": []
  },
  {
   "cell_type": "code",
   "execution_count": null,
   "metadata": {},
   "outputs": [],
   "source": [
    "from ete3 import Tree, faces, TreeStyle, NodeStyle\n",
    "from ete3 import ClusterTree, RectFace, AttrFace, ProfileFace, TextFace, CircleFace, RectFace\n",
    "from ete3.treeview.faces import add_face_to_node\n",
    "import pandas as pd\n",
    "import numpy as np\n",
    "import colorsys\n",
    "import sys\n",
    "import matplotlib\n",
    "\n",
    "\n",
    "treenewick = 'Tree_Obsidian/June2018_archaeasubtrees/UNI56_subtreeMarscVersGeoCren_mafftBMGE.concat.faa.contree'\n",
    "# two columns, genome short name tab name to be displayed in tree  \n",
    "lookup = '/home/bojk/Data/Tree_Obsidian/June2018_archaea/archaea_March2018.lookup'\n",
    "# four columns, genome short name GC% tab length tab completeness%\n",
    "gclencompl = '/home/bojk/Data/Tree_Obsidian/June2018_archaea/UNI56_subtreeMarscVersGeoCren_mafftBMGE.concat.FTWAG.lenGCcompl2'\n",
    "\n",
    "greyscale = ['#F9F9F9','#F4F4F4','#EFEFEF','#EAEAEA','#E4E4E4','#DFDFDF','#DADADA','#D5D5D5','#D0D0D0','#CACACA','#C5C5C5','#C0C0C0','#BBBBBB','#B6B6B6','#B0B0B0','#ABABAB','#A6A6A6','#A1A1A1','#9C9C9C','#969696','#919191','#8C8C8C','#878787','#828282','#7C7C7C','#777777','#727272','#6D6D6D','#686868','#626262','#5D5D5D','#585858','#535353','#4E4E4E','#484848','#434343','#3E3E3E','#393939','#343434','#2E2E2E','#292929','#242424','#1F1F1F','#1A1A1A','#141414','#0F0F0F','#0A0A0A','#050505', '#050505', '#050505', '#050505', '#050505', '#050505', '#050505', '#050505', '#050505', '#050505', '#050505', '#050505', '#050505', '#050505', '#050505', '#050505', '#050505', '#050505', '#050505', '#050505', '#050505', '#050505', '#050505', '#050505', '#050505', '#050505', '#050505', '#050505', '#050505', '#050505']\n",
    "\n",
    "def get_defs(lookup, gclencompl):\n",
    "    nameshash={}    \n",
    "    colorhash={}\n",
    "    outgroup=[]\n",
    "    support='yes'\n",
    "    with open(lookup, \"r\") as infile:\n",
    "        for line in infile:\n",
    "            line = line.strip()\n",
    "            if \"\\t\" in line:\n",
    "                nameshash[line.split(\"\\t\")[0]]=line.split(\"\\t\")[1]\n",
    "\n",
    "            elif line.startswith(\"color:\"):\n",
    "                applyfor=line.split(\":\")[2].split()\n",
    "                for x in applyfor:\n",
    "                    colorhash[x]=line.split(\":\")[1]\n",
    "\n",
    "            elif line.startswith(\"outgroup:\"):\n",
    "                outgroup=line.split(\":\")[1].split()\n",
    "\n",
    "            elif line.startswith(\"support:\"):\n",
    "                support=line.split(\":\")[1]\n",
    "\n",
    "    with open(gclencompl, \"r\") as infile:\n",
    "        genomesize_dic = {}\n",
    "        gc_dic = {}\n",
    "        completeness_dic = {}\n",
    "        for line in infile:\n",
    "            line = line.strip()\n",
    "            genomesize_dic[line.split(\"\\t\")[0]] = line.split(\"\\t\")[1]\n",
    "            gc_dic[line.split(\"\\t\")[0]] = line.split(\"\\t\")[2]\n",
    "            completeness_dic[line.split(\"\\t\")[0]] = line.split(\"\\t\")[3]\n",
    "\n",
    "    return nameshash, colorhash, outgroup, support, genomesize_dic, gc_dic, completeness_dic           \n",
    "\n",
    "\n",
    "def FS_layout(node):\n",
    "    node.img_style[\"size\"] = 0\n",
    "    color = \"black\"\n",
    "    if node.is_leaf():\n",
    "        fullname = node.name\n",
    "        if node.name in colorhash:\n",
    "            color = colorhash[node.name]\n",
    "        if node.name in nameshash:\n",
    "            fullname = nameshash[node.name]\n",
    "        taxonNode = faces.TextFace(fullname, fgcolor = color, fsize = 15, fstyle = 'bold')\n",
    "        faces.add_face_to_node(taxonNode, node, 0)\n",
    "\n",
    "        if str(node.name).split(\"|\")[0] in genomesize_dic:\n",
    "            genomecirclesize = int(float(genomesize_dic[str(node.name).split(\"|\")[0]])/60000)\n",
    "            gccolor = greyscale[int(float(gc_dic[str(node.name).split(\"|\")[0]])*100-10)]\n",
    "            C0 = CircleFace(radius = 10, color = 'white', style = \"circle\")\n",
    "            C1 = CircleFace(radius = genomecirclesize, color = gccolor, style = \"circle\")\n",
    "            C2 = CircleFace(radius = 10, color = 'white', style = \"circle\")\n",
    "            C0.opacity = 1\n",
    "            C1.opacity = 1\n",
    "            C2.opacity = 1\n",
    "            faces.add_face_to_node(C0, node, 0, position=\"branch-right\", aligned=True)\n",
    "            faces.add_face_to_node(C1, node, 1, position=\"aligned\", aligned=False)\n",
    "            faces.add_face_to_node(C2, node, 2, position=\"branch-right\", aligned=True)\n",
    "\n",
    "        if str(node.name).split(\"|\")[0] in completeness_dic:\n",
    "            rectcolor = \"grey\"\n",
    "            perccomplete = int(float(completeness_dic[str(node.name).split(\"|\")[0]]))\n",
    "            if perccomplete < 50:\n",
    "                rectcolor = \"red\"\n",
    "            C3 = RectFace(width = perccomplete * 0.5, height = 50, fgcolor = rectcolor, bgcolor = rectcolor, label=None)\n",
    "            C3.opacity = 1\n",
    "            faces.add_face_to_node(C3, node, 3, position=\"branch-right\", aligned=True)\n",
    "\n",
    "    else:\n",
    "        common_name = list(node2taxnames[node])[0]\n",
    "        color = colorhash.get(str(common_name), \"black\")\n",
    "\n",
    "        #if \"support\" in node.features:\n",
    "            #supportvalue = faces.TextFace(str(node.support),fgcolor = \"black\", fsize = 5)\n",
    "            #faces.add_face_to_node(supportvalue, node, 0, position=\"branch-top\")\n",
    "\n",
    "    node.img_style[\"fgcolor\"] = color\n",
    "    node.img_style[\"vt_line_color\"] = color\n",
    "    node.img_style[\"hz_line_color\"] = color\n",
    "    node.img_style['hz_line_width'] = 5\n",
    "    node.img_style['vt_line_width'] = 5\n",
    "#-------------END tree layout----------------------------------------------\n",
    "\n",
    "\n",
    "def set_outgroup(outgroup, t):\n",
    "    finaloutgroup = []\n",
    "    ancestor = 'IMG2264867065'\n",
    "    t.set_outgroup(ancestor)\n",
    "    \n",
    "    for node in t.traverse():\n",
    "        if node.is_leaf() and node.name in outgroup:\n",
    "            finaloutgroup.append(node.name)\n",
    "    if len(finaloutgroup) >= 1:\n",
    "        ancestor = t.get_common_ancestor(finaloutgroup)\n",
    "        ancestorleaves=[]\n",
    "        for node in ancestor.traverse():\n",
    "            if node.is_leaf():\n",
    "                ancestorleaves.append(node.name)\n",
    "        if len(ancestorleaves) == len(outgroup):\n",
    "            t.set_outgroup(ancestor)\n",
    "        else:\n",
    "            print(\"Outgroup not monophyletic\")\n",
    "    \n",
    "\n",
    "if __name__ == \"__main__\":\n",
    "    nameshash, colorhash,  outgroup, support, genomesize_dic, gc_dic, completeness_dic = get_defs(lookup, gclencompl)\n",
    "    outgroup = ['2264867066','2264867064','2264867065','2721755895']\n",
    "    \n",
    "    t = Tree(treenewick)\n",
    "    set_outgroup(outgroup, t)\n",
    "    ancestor = 'IMG2264867065'\n",
    "    t.set_outgroup(ancestor)\n",
    "    ts = TreeStyle()\n",
    "    ts.show_leaf_name = False\n",
    "    ts.show_branch_length = False\n",
    "    ts.show_branch_support = False\n",
    "    ts.layout_fn = FS_layout\n",
    "    ts.scale = 1000\n",
    "\n",
    "    # cache the content of internal nodes\n",
    "    node2taxnames = t.get_cached_content()\n",
    "\n",
    "    matplotlib.rcParams['svg.fonttype'] = 'none'\n",
    "    t.render(treenewick + \".gclencompleteness2.pdf\", w=500, units=\"px\", tree_style=ts)\n",
    "    t.render(treenewick + \".gclencompleteness.svg\", w=1000,h=1000, units=\"px\", tree_style=ts)"
   ]
  },
  {
   "cell_type": "code",
   "execution_count": null,
   "metadata": {},
   "outputs": [],
   "source": [
    "t"
   ]
  },
  {
   "cell_type": "code",
   "execution_count": null,
   "metadata": {},
   "outputs": [],
   "source": [
    "outgroup"
   ]
  },
  {
   "cell_type": "code",
   "execution_count": null,
   "metadata": {},
   "outputs": [],
   "source": [
    "lookup"
   ]
  },
  {
   "cell_type": "code",
   "execution_count": null,
   "metadata": {},
   "outputs": [],
   "source": [
    "Junegclen = pd.read_csv('Tree_Obsidian/June2018_archaea/UNI56_subtreeMarscVersGeoCren_mafftBMGE.concat.FTWAG.lenGCcompl','\\t',header=None)\n",
    "Junegclen2 = Junegclen.copy()\n",
    "for bins in Junegclen2[Junegclen2[0].str.contains('Obs')][0]:\n",
    "    Junegclen2.loc[Junegclen2[Junegclen2[0]==bins].index,1] = lookup_obsidian[lookup_obsidian['Obsidian Bins ']==bins]['Genome size'].values[0]\n",
    "    \n",
    "Junegclen2[Junegclen2[0].str.contains('_061')]\n",
    "Junegclen2.to_csv('Tree_Obsidian/June2018_archaea/UNI56_subtreeMarscVersGeoCren_mafftBMGE.concat.FTWAG.lenGCcompl2','\\t',index=False,header=False)"
   ]
  },
  {
   "cell_type": "code",
   "execution_count": null,
   "metadata": {},
   "outputs": [],
   "source": [
    "oldlengths = pd.read_csv('Tree_Obsidian/TreesV3/allarcheaMarch2018_V3/archaea_March2018_2.GCLen.csv','\\t',header=None)\n",
    "oldlengths[oldlengths[0].str.contains('Obs2_genome_000')][2].values[0]"
   ]
  },
  {
   "cell_type": "code",
   "execution_count": null,
   "metadata": {},
   "outputs": [],
   "source": [
    "Junegclen.to_"
   ]
  },
  {
   "cell_type": "code",
   "execution_count": null,
   "metadata": {},
   "outputs": [],
   "source": [
    "# load metadata for all 111 Obsidian MAGs\n",
    "lookup_obsidian = pd.read_table('Tree_Obsidian/FredV2/ObsV2/metadata/ObsidianPool_UNI56_allbins_mafftBMGE_nofilteringnoclustering - Sheet1.tsv')\n"
   ]
  },
  {
   "cell_type": "code",
   "execution_count": null,
   "metadata": {},
   "outputs": [],
   "source": [
    "lookup_obsidian"
   ]
  },
  {
   "cell_type": "code",
   "execution_count": null,
   "metadata": {},
   "outputs": [],
   "source": [
    "from bokeh.plotting import figure, output_file, show\n",
    "output_file(\"test.html\")\n",
    "p = figure()\n",
    "p.line([1, 2, 3, 4, 5], [6, 7, 2, 4, 5], line_width=2)\n",
    "show(p)"
   ]
  },
  {
   "cell_type": "code",
   "execution_count": null,
   "metadata": {},
   "outputs": [],
   "source": []
  },
  {
   "cell_type": "code",
   "execution_count": null,
   "metadata": {},
   "outputs": [],
   "source": []
  },
  {
   "cell_type": "code",
   "execution_count": null,
   "metadata": {},
   "outputs": [],
   "source": []
  },
  {
   "cell_type": "code",
   "execution_count": null,
   "metadata": {},
   "outputs": [],
   "source": [
    "data.groupby('Phylum').sum()['Sequence Length'].sort_values(ascending=True).plot.barh(ax=ax3)\n",
    "plt.show()"
   ]
  },
  {
   "cell_type": "code",
   "execution_count": null,
   "metadata": {},
   "outputs": [],
   "source": []
  },
  {
   "cell_type": "code",
   "execution_count": null,
   "metadata": {},
   "outputs": [],
   "source": []
  },
  {
   "cell_type": "code",
   "execution_count": null,
   "metadata": {},
   "outputs": [],
   "source": []
  },
  {
   "cell_type": "code",
   "execution_count": null,
   "metadata": {},
   "outputs": [],
   "source": [
    "def tree_to_dict(nt, nd):\n",
    "    for prop in nt.__dict__:\n",
    "        if prop == 'children':\n",
    "            continue\n",
    "        elif prop.startswith('_'):\n",
    "            continue\n",
    "        if isinstance(getattr(nt, prop), set):\n",
    "            nd[prop] = list(getattr(nt, prop))\n",
    "        else:\n",
    "            nd[prop] = getattr(nt, prop)\n",
    "\n",
    "    nd['children'] = [{} for child in nt.children]\n",
    "    for childt, childd in zip(nt.children, nd['children']):\n",
    "        tree_to_dict(childt, childd)\n",
    "\n",
    "nested = {}\n",
    "tree_to_dict(sp_s, nested)\n",
    "    "
   ]
  },
  {
   "cell_type": "code",
   "execution_count": null,
   "metadata": {},
   "outputs": [],
   "source": [
    "json.dumps(nested)"
   ]
  },
  {
   "cell_type": "code",
   "execution_count": null,
   "metadata": {},
   "outputs": [],
   "source": [
    "bla = json.load('Knumbers/KEGG_genomes/ial00001.json')"
   ]
  },
  {
   "cell_type": "code",
   "execution_count": null,
   "metadata": {},
   "outputs": [],
   "source": []
  },
  {
   "cell_type": "code",
   "execution_count": null,
   "metadata": {},
   "outputs": [],
   "source": []
  },
  {
   "cell_type": "code",
   "execution_count": null,
   "metadata": {},
   "outputs": [],
   "source": []
  },
  {
   "cell_type": "code",
   "execution_count": null,
   "metadata": {},
   "outputs": [],
   "source": [
    "import kpal as kp #this is a kmer toolkit (will work on this later, first continue with KEGG and trees)"
   ]
  },
  {
   "cell_type": "code",
   "execution_count": null,
   "metadata": {},
   "outputs": [],
   "source": [
    "# for separate obsidian pool files \n",
    "start_time = time.time()\n",
    "for i in range(2,7):\n",
    "    metadata = list(open('Checkm/obsidian_all_checkm/storage/bin_stats_ext.tsv'))\n",
    "    metadata = [m.split('\\n') for m in metadata]\n",
    "    metadf = pd.DataFrame.from_records(metadata)\n",
    "    metadf = metadf.drop(1,1)\n",
    "    metadf.columns = ['bla']\n",
    "    metadf = metadf['bla'].str.split('\\t',1,expand=True)\n",
    "    metadf = metadf.set_index(0)\n",
    "    metadf.columns = ['metadata']\n",
    "\n",
    "    columns = ['marker lineage','Completeness','Contamination','# contigs','Genome size','# genomes','# marker sets','# markers','# predicted genes','Coding density','GC','GC std','Longest contig','Mean contig length','N50 (contigs)']\n",
    "    metadata_obs3 = pd.DataFrame(index=metadf.index,columns=columns)\n",
    "\n",
    "    for d in metadf.index:\n",
    "        dictionary = ast.literal_eval(metadf.ix[d,'metadata'])\n",
    "        for j in metadata_obs3.columns:\n",
    "            metadata_obs3.ix[d,j] = dictionary[j]\n",
    "    if i == 2:        \n",
    "        checkm_metadata = metadata_obs3\n",
    "    else:\n",
    "        checkm_metadata = checkm_metadata.append(metadata_obs3)\n",
    "checkm_metadata.to_pickle('checkm_metadata_all_and_grouped')        \n",
    "end_time = time.time()\n",
    "print('bla took ' ,\"%s\"(end_time-start_time) ,'seconds')"
   ]
  },
  {
   "cell_type": "code",
   "execution_count": null,
   "metadata": {},
   "outputs": [],
   "source": [
    "checkm_metadata"
   ]
  },
  {
   "cell_type": "code",
   "execution_count": null,
   "metadata": {},
   "outputs": [],
   "source": [
    "# combined\n",
    "start_time = time.time()\n",
    "\n",
    "metadata = list(open('Checkm/obsidian_all_checkm/storage/bin_stats_ext.tsv'))\n",
    "metadata = [m.split('\\n') for m in metadata]\n",
    "metadf = pd.DataFrame.from_records(metadata)\n",
    "metadf = metadf.drop(1,1)\n",
    "metadf.columns = ['bla']\n",
    "metadf = metadf['bla'].str.split('\\t',1,expand=True)\n",
    "metadf = metadf.set_index(0)\n",
    "metadf.columns = ['metadata']\n",
    "\n",
    "columns = ['marker lineage','Completeness','Contamination','# contigs','Genome size','# genomes','# marker sets','# markers','# predicted genes','Coding density','GC','GC std','Longest contig','Mean contig length','N50 (contigs)']\n",
    "metadata_obs3 = pd.DataFrame(index=metadf.index,columns=columns)\n",
    "\n",
    "for d in metadf.index:\n",
    "    dictionary = ast.literal_eval(metadf.ix[d,'metadata'])\n",
    "    for j in metadata_obs3.columns:\n",
    "        metadata_obs3.ix[d,j] = dictionary[j]\n",
    "checkm_metadata = metadata_obs3.copy()\n",
    "checkm_metadata.to_pickle('checkm_metadata_all_and_grouped')        \n",
    "end_time = time.time()\n",
    "#print('bla took ' ,\"%s\"(end_time-start_time) ,'seconds')"
   ]
  },
  {
   "cell_type": "code",
   "execution_count": null,
   "metadata": {
    "scrolled": false
   },
   "outputs": [],
   "source": [
    "#checkm_metadata = pd.read_pickle('checkm_metadata')   \n",
    "checkm_metadata.sort_values('Completeness',ascending=False)\n",
    "checkm_metadata.loc['Obsidian6_metaSPAdes_11']"
   ]
  },
  {
   "cell_type": "code",
   "execution_count": null,
   "metadata": {},
   "outputs": [],
   "source": [
    "checkm10percent = checkm_metadata[checkm_metadata[\"Contamination\"]<0.1].sort_values(by='Completeness',ascending=False)\n",
    "checkm05percent = checkm_metadata[checkm_metadata[\"Contamination\"]<5].sort_values(by='Completeness',ascending=False)\n",
    "checkm05percent = checkm05percent[checkm05percent['Completeness']>10]#.loc['Obsidian4_group_M50']\n",
    "#checkm05percent[checkm05percent['Completeness']>10].index\n",
    "#checkm_metadata\n",
    "checkm05percent.to_pickle('checkm_all_max5cont_min10comp')"
   ]
  },
  {
   "cell_type": "code",
   "execution_count": null,
   "metadata": {
    "scrolled": true
   },
   "outputs": [],
   "source": [
    "import os\n",
    "from os import listdir\n",
    "from os.path import isfile, join\n",
    "\n",
    "# after pruning (this is the above 'checkm_all_max5cont_min10comp')\n",
    "metadata = pd.read_table('Checkm/pruned_obsidian/outputfile.txt')\n",
    "metadata = metadata.set_index('Bin Id')\n",
    "metadata.sort_values('Completeness',ascending=False)\n",
    "good_genomes_obs = metadata[metadata['Strain heterogeneity']<1]\n",
    "good_genomes_obs.sort_values('Completeness',ascending=False)\n",
    "medium_heterogen_genomes = metadata[~metadata.index.isin(good_genomes_obs.index)]\n",
    "good_genomes_obs.to_pickle('Obsidian_good_genomes')\n",
    "\n",
    "mypath = 'fasta/checkm/max5pcont_min10pcomp/'\n",
    "genomelist = [f[0:-6] for f in listdir(mypath) if isfile(join(mypath, f))]\n",
    "genomelist\n",
    "# move the selected fastas to a new folder \n",
    "\"\"\"for file in good_genomes_obs.index:\n",
    "    oldpath = 'fasta/checkm/max5pcont_min10pcomp/'\n",
    "    newpath = 'fasta/checkm/max5pcont_min10pcomp/good_genomes/'\n",
    "    os.rename(oldpath+file+'.fasta', newpath+file+'.fasta')\"\"\""
   ]
  },
  {
   "cell_type": "code",
   "execution_count": null,
   "metadata": {
    "scrolled": true
   },
   "outputs": [],
   "source": [
    "\n",
    "medium_heterogen_genomes"
   ]
  },
  {
   "cell_type": "code",
   "execution_count": null,
   "metadata": {},
   "outputs": [],
   "source": [
    "\n",
    "dictionary = ast.literal_eval(metadf.ix[0,'metadata'])\n",
    "dictionary.keys()"
   ]
  },
  {
   "cell_type": "code",
   "execution_count": null,
   "metadata": {},
   "outputs": [],
   "source": []
  },
  {
   "cell_type": "code",
   "execution_count": null,
   "metadata": {},
   "outputs": [],
   "source": [
    "metadata_obs3"
   ]
  },
  {
   "cell_type": "code",
   "execution_count": null,
   "metadata": {},
   "outputs": [],
   "source": []
  }
 ],
 "metadata": {
  "kernelspec": {
   "display_name": "Python 3",
   "language": "python",
   "name": "python3"
  },
  "language_info": {
   "codemirror_mode": {
    "name": "ipython",
    "version": 3
   },
   "file_extension": ".py",
   "mimetype": "text/x-python",
   "name": "python",
   "nbconvert_exporter": "python",
   "pygments_lexer": "ipython3",
   "version": "3.6.0"
  }
 },
 "nbformat": 4,
 "nbformat_minor": 2
}
