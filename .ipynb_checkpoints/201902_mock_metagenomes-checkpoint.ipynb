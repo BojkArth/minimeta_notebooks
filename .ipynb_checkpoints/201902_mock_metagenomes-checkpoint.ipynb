{
 "cells": [
  {
   "cell_type": "code",
   "execution_count": 7,
   "metadata": {},
   "outputs": [],
   "source": [
    "import pandas as pd\n",
    "import matplotlib.pyplot as plt\n",
    "import numpy as np\n",
    "import seaborn as sns\n",
    "from matplotlib import gridspec\n",
    "import ast\n",
    "import os\n",
    "os.chdir('/home/bojk/Data/') #this is when opened in '/home/bojk/Data/notebooks' on linux Quakelab\n",
    "import sys\n",
    "sys.path.append('/home/bojk/Data/minimeta_pyfiles/')\n",
    "import imp\n",
    "import HTSeq\n",
    "from scipy.stats import powerlaw\n",
    "#import minimetagenome_analysis as minimeta\n",
    "#imp.reload(minimeta)\n",
    "\n",
    "#import reassembly as rea\n",
    "#import subcluster_bins as sub\n",
    "#import checkm_out_plot as cop\n",
    "#import checkm_out as co"
   ]
  },
  {
   "cell_type": "code",
   "execution_count": 4,
   "metadata": {},
   "outputs": [],
   "source": [
    "maindir = \"Mock/Archaea_illuminaHS_low<20contigs/\"\n",
    "folders = [f for f in os.listdir(maindir)]"
   ]
  },
  {
   "cell_type": "code",
   "execution_count": 5,
   "metadata": {},
   "outputs": [
    {
     "data": {
      "text/plain": [
       "['2681812914',\n",
       " '2778260947',\n",
       " '2510065051',\n",
       " '2636416047',\n",
       " '2642422537',\n",
       " '2617270917',\n",
       " '2565956510',\n",
       " '2619618990',\n",
       " '2517093008',\n",
       " '2617270898',\n",
       " '2816332110',\n",
       " '2579779151',\n",
       " '2756170388',\n",
       " '2619618869',\n",
       " '2639762563',\n",
       " '2517287024',\n",
       " '2786546169',\n",
       " '2617270902',\n",
       " '2642422606',\n",
       " '2619618938',\n",
       " '2636416021',\n",
       " '2728369221',\n",
       " '2757320366',\n",
       " '2571042922',\n",
       " '2681812915',\n",
       " '2617270895',\n",
       " '2654588138',\n",
       " '2617270925',\n",
       " '2698536698',\n",
       " '646311934',\n",
       " '2671180170',\n",
       " '2671180169',\n",
       " '2642422561',\n",
       " '2636416066',\n",
       " '2667527389',\n",
       " '2654588132',\n",
       " '2617270920',\n",
       " '2617270732',\n",
       " '2582580744',\n",
       " '2695420988',\n",
       " '2617270915',\n",
       " '2642422540',\n",
       " '2639762573']"
      ]
     },
     "execution_count": 5,
     "metadata": {},
     "output_type": "execute_result"
    }
   ],
   "source": [
    "# high N50 bin to low N50 one\n",
    "for file in folders:\n",
    "    fasta = maindir+file+'/'+file+'.fna'\n",
    "    \n",
    "    for s in HTSeq.FastaReader(fasta):\n",
    "        "
   ]
  },
  {
   "cell_type": "code",
   "execution_count": 74,
   "metadata": {},
   "outputs": [
    {
     "data": {
      "text/plain": [
       "(array([795.,  66.,  43.,  25.,  11.,  13.,  15.,   7.,  10.,  15.]),\n",
       " array([1.80933306e-28, 9.88741398e-02, 1.97748280e-01, 2.96622420e-01,\n",
       "        3.95496559e-01, 4.94370699e-01, 5.93244839e-01, 6.92118979e-01,\n",
       "        7.90993119e-01, 8.89867259e-01, 9.88741398e-01]),\n",
       " <a list of 10 Patch objects>)"
      ]
     },
     "execution_count": 74,
     "metadata": {},
     "output_type": "execute_result"
    },
    {
     "data": {
      "image/png": "[encoded data removed]",
      "text/plain": [
       "<Figure size 432x288 with 1 Axes>"
      ]
     },
     "metadata": {
      "needs_background": "light"
     },
     "output_type": "display_data"
    }
   ],
   "source": [
    "r = powerlaw.rvs(0.1, size=1000)\n",
    "plt.hist(r)"
   ]
  },
  {
   "cell_type": "code",
   "execution_count": 87,
   "metadata": {},
   "outputs": [
    {
     "data": {
      "image/png": "[encoded data removed]",
      "text/plain": [
       "<Figure size 432x288 with 1 Axes>"
      ]
     },
     "metadata": {
      "needs_background": "light"
     },
     "output_type": "display_data"
    }
   ],
   "source": [
    "a = np.histogram(r*5e5,bins=np.linspace(5e3,5e5,100))\n",
    "plt.step(np.logspace(np.log10(5e3),5,99),a[0])\n",
    "plt.xscale('log');plt.yscale('log')"
   ]
  },
  {
   "cell_type": "code",
   "execution_count": 453,
   "metadata": {},
   "outputs": [
    {
     "data": {
      "image/png": "[encoded data removed]",
      "text/plain": [
       "<Figure size 432x288 with 1 Axes>"
      ]
     },
     "metadata": {
      "needs_background": "light"
     },
     "output_type": "display_data"
    }
   ],
   "source": [
    "a=.0000005\n",
    "x = np.linspace(powerlaw.ppf(0.01, a),\n",
    "              powerlaw.ppf(0.99, a), 100)\n",
    "x = x[1:]\n",
    "x = np.linspace(5e-4,1e-2,10000)\n",
    "scaling = 1e7\n",
    "px = powerlaw.pdf(x, a)/sum(powerlaw.pdf(x, a))\n",
    "plt.plot(x*scaling,px,\n",
    "         'r-', lw=5, alpha=0.6, label='powerlaw pdf')\n",
    "plt.xscale('log')\n",
    "plt.xlim(left=1e3,right=1e6)\n",
    "plt.axvline(5e3)\n",
    "plt.yscale('log')"
   ]
  },
  {
   "cell_type": "code",
   "execution_count": 447,
   "metadata": {},
   "outputs": [],
   "source": [
    "freqs = np.round(powerlaw.pdf(x, a)/sum(powerlaw.pdf(x, a))/px[-1]*100)\n",
    "size = sum(freqs)\n",
    "seqlen = np.round(x*scaling)"
   ]
  },
  {
   "cell_type": "code",
   "execution_count": 452,
   "metadata": {},
   "outputs": [
    {
     "data": {
      "text/plain": [
       "array([1.99999e+05, 1.66677e+05, 1.42873e+05, ..., 1.00000e+02,\n",
       "       1.00000e+02, 1.00000e+02])"
      ]
     },
     "execution_count": 452,
     "metadata": {},
     "output_type": "execute_result"
    }
   ],
   "source": [
    "freqs"
   ]
  },
  {
   "cell_type": "code",
   "execution_count": 445,
   "metadata": {},
   "outputs": [
    {
     "data": {
      "text/plain": [
       "5000.0"
      ]
     },
     "execution_count": 445,
     "metadata": {},
     "output_type": "execute_result"
    }
   ],
   "source": [
    "np.random.choice(seqlen, p=px)\n",
    "\n"
   ]
  },
  {
   "cell_type": "code",
   "execution_count": 118,
   "metadata": {},
   "outputs": [
    {
     "data": {
      "image/png": "[encoded data removed]",
      "text/plain": [
       "<Figure size 432x288 with 1 Axes>"
      ]
     },
     "metadata": {
      "needs_background": "light"
     },
     "output_type": "display_data"
    }
   ],
   "source": [
    "plt.plot(powerlaw.rvs(a, size=1000)*5e5+5e3,'o')\n",
    "plt.yscale('log')"
   ]
  },
  {
   "cell_type": "code",
   "execution_count": 115,
   "metadata": {},
   "outputs": [
    {
     "data": {
      "image/png": "[encoded data removed]",
      "text/plain": [
       "<Figure size 432x288 with 1 Axes>"
      ]
     },
     "metadata": {
      "needs_background": "light"
     },
     "output_type": "display_data"
    }
   ],
   "source": [
    "plt.hist(powerlaw.rvs(a, size=1000)*5e5+5e3,bins=np.logspace(3,6,20))\n",
    "plt.xscale('log')"
   ]
  },
  {
   "cell_type": "code",
   "execution_count": null,
   "metadata": {},
   "outputs": [],
   "source": []
  }
 ],
 "metadata": {
  "kernelspec": {
   "display_name": "Python 3",
   "language": "python",
   "name": "python3"
  },
  "language_info": {
   "codemirror_mode": {
    "name": "ipython",
    "version": 3
   },
   "file_extension": ".py",
   "mimetype": "text/x-python",
   "name": "python",
   "nbconvert_exporter": "python",
   "pygments_lexer": "ipython3",
   "version": "3.6.0"
  }
 },
 "nbformat": 4,
 "nbformat_minor": 2
}
