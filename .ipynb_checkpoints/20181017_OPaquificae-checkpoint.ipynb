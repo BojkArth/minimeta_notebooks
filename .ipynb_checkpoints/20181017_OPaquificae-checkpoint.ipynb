{
 "cells": [
  {
   "cell_type": "code",
   "execution_count": 3,
   "metadata": {},
   "outputs": [],
   "source": [
    "import numpy as np\n",
    "import matplotlib.pyplot as plt\n",
    "import pandas as pd\n",
    "import csv\n",
    "import matplotlib.cm as cm\n",
    "import seaborn as sns\n",
    "from matplotlib import gridspec\n",
    "import matplotlib.animation as manimation\n",
    "import time\n",
    "import scipy.io as sio\n",
    "from random import shuffle\n",
    "import time\n",
    "from collections import Counter\n",
    "import sklearn.cluster as cluster\n",
    "import time\n",
    "import hdbscan\n",
    "from os import listdir\n",
    "import sys\n",
    "from os.path import isfile, join\n",
    "import os\n",
    "from matplotlib.colors import ListedColormap\n",
    "from matplotlib.colors import LinearSegmentedColormap\n",
    "from pathlib import Path\n",
    "\n",
    "# own modules in dir\n",
    "sys.path.insert(0, '/home/bojk/custom_pymodules')\n",
    "\n",
    "\n",
    "\n"
   ]
  },
  {
   "cell_type": "code",
   "execution_count": null,
   "metadata": {},
   "outputs": [],
   "source": [
    "moddf = pd.read_pickle('KEGG_module_list')\n",
    "KEGGmoddf = pd.read_pickle('KEGG_modules_df')"
   ]
  },
  {
   "cell_type": "markdown",
   "metadata": {},
   "source": [
    "# this analyzes the OP aquificae"
   ]
  },
  {
   "cell_type": "code",
   "execution_count": null,
   "metadata": {},
   "outputs": [],
   "source": [
    "mypath = 'aquificae/'\n",
    "IMGID = [f for f in listdir(mypath)]\n",
    "ktab = pd.DataFrame(index=range(10000),columns=IMGID)\n",
    "ptab = pd.DataFrame(index=range(10000),columns=IMGID)\n",
    "ctab = pd.DataFrame(index=range(10000),columns=IMGID)\n",
    "ctab_thr = pd.DataFrame(index=range(10000),columns=IMGID)\n",
    "\n",
    "\n",
    "for bins in IMGID:\n",
    "    cpath = mypath+bins+'/'+bins+'.cog.tab.txt'\n",
    "    kpath = mypath+bins+'/'+bins+'.ko.tab.txt'\n",
    "    ppath = mypath+bins+'/'+bins+'.pfam.tab.txt'\n",
    "    \n",
    "    ktab[bins] =  pd.read_csv(kpath,'\\t')['ko_id'].str[3:]\n",
    "    if os.path.isdir(mypath+'Knumbers')==True:\n",
    "        ktab[bins].to_csv(mypath+'Knumbers/'+bins+'.txt',sep='\\t') #write to file for mapper\n",
    "    else:\n",
    "        os.mkdir(mypath+'Knumbers')\n",
    "        ktab[bins].to_csv(mypath+'Knumbers/'+bins+'.txt',sep='\\t') #write to file for mapper\n",
    "           \n",
    "    pfamtemp =  pd.read_csv(ppath,'\\t')[['pfam_id','pfam_name']]\n",
    "    pfamtemp['namenum'] = pfamtemp['pfam_id']+', '+pfamtemp['pfam_name']\n",
    "    ptab[bins] = pfamtemp['namenum']\n",
    "    \n",
    "    ctab[bins] = pd.read_csv(path,'\\t')['cog_id']\n",
    "    ctab_thr[bins] = pd.read_csv(path,'\\t')['percent_identity']"
   ]
  },
  {
   "cell_type": "code",
   "execution_count": null,
   "metadata": {},
   "outputs": [],
   "source": [
    "cmap_clade_thr = pd.DataFrame(index=COGtab.set_index('COG').index,columns=ctab_clade.columns)\n",
    "for cols in ctab_clade.columns:\n",
    "    for cogs in ctab_clade[cols].dropna().unique():\n",
    "        ind = ctab_clade[cols].dropna()[ctab_clade[cols].dropna().str.contains(cogs)].index.values\n",
    "        if len(ind)>0:\n",
    "            val = max(ctab_clade_thr.loc[list(ind),cols])\n",
    "            cmap_clade_thr.loc[cogs,cols] = val\n",
    "cmap_clade_thr.index =  COGtab.set_index('COG').loc[cmap_clade_thr.index]['NameNum']\n",
    "cmap_clade_thr.to_csv('MAGs/Analysis/COG_percent_ID_clade.table',sep='\\t')"
   ]
  },
  {
   "cell_type": "code",
   "execution_count": null,
   "metadata": {},
   "outputs": [],
   "source": [
    "COGcat = pd.read_table('COGreffiles/fun2003-2014.tab')\n",
    "COGtab = pd.read_table('COGreffiles/cognames2003-2014.tab')\n",
    "COGtab['NameNum'] = COGtab['name']+' - '+COGtab['COG']\n",
    "COGtab['FuncCat'] = [COGcat[COGcat['# Code']==i[0]]['Name'].values[0] for i in COGtab['func']]\n",
    "COGtab.FuncCat.value_counts()"
   ]
  },
  {
   "cell_type": "code",
   "execution_count": null,
   "metadata": {},
   "outputs": [],
   "source": [
    "def COGmapper(df):\n",
    "    # gets ctab formatted df into mappable one\n",
    "    mapdf = pd.DataFrame(index=COGtab.set_index('COG').index,columns=df.columns)\n",
    "    for names in df.columns:\n",
    "        mapdf.loc[df[names].dropna(how='any').values,names] = 1\n",
    "    return(mapdf)"
   ]
  },
  {
   "cell_type": "code",
   "execution_count": null,
   "metadata": {},
   "outputs": [],
   "source": [
    "# COG dfs with different percent identity threshold values \n",
    "ctab_30 = ctab[ctab_thr>30]\n",
    "ctab_40 = ctab[ctab_thr>40]\n",
    "ctab_50 = ctab[ctab_thr>50]\n",
    "ctab_60 = ctab[ctab_thr>60]\n",
    "ctab_70 = ctab[ctab_thr>70]\n",
    "ctab_80 = ctab[ctab_thr>80]\n",
    "\n",
    "# make heatmap-like dfs \n",
    "cmap = COGmapper(ctab)\n",
    "cmap_30 = COGmapper(ctab_30)\n",
    "cmap_40 = COGmapper(ctab_40)\n",
    "cmap_50 = COGmapper(ctab_50)\n",
    "cmap_60 = COGmapper(ctab_60)\n",
    "cmap_70 = COGmapper(ctab_70)\n",
    "cmap_tot = cmap.fillna(0)+cmap_30.fillna(0)+cmap_40.fillna(0)+cmap_50.fillna(0)+cmap_60.fillna(0)+cmap_70.fillna(0)"
   ]
  },
  {
   "cell_type": "code",
   "execution_count": null,
   "metadata": {},
   "outputs": [],
   "source": [
    "#def searchGenes(bin_name,keyword):\n",
    "keyword = 'peptidase'\n",
    "bin_name = 'Obs4_genome_061'\n",
    "img_id = lookup_obsidian[lookup_obsidian.index==bin_name]['IMG_ID'].values[0].astype(str)\n",
    "folder = '/home/datastorage/IMG_ANNOTATION_DATA/Obsidian_MAGs/'+bin_name+'_IMG_'+img_id+'/IMG_Data/'+img_id+'/'        \n",
    "cofile = folder+img_id+'.cog.tab.txt'\n",
    "kofile = folder+img_id+'.ko.tab.txt'\n",
    "pffile = folder+img_id+'.pfam.tab.txt'\n",
    "\n",
    "codf = pd.read_table(cofile,'\\t') #'cog_name','cog_id','percent_identity'\n",
    "kodf = pd.read_table(kofile,'\\t') #'ko_name','ko_id','percent_identity'\n",
    "kodf = kodf[~kodf['ko_name'].isnull()]\n",
    "pfdf = pd.read_table(pffile,'\\t') #'pfam_name','pfam_id'\n",
    "    \n",
    "codf_s = codf[codf['cog_name'].str.contains(keyword)]\n",
    "kodf_s = kodf[kodf['ko_name'].str.contains(keyword)]\n",
    "pfdf_s = pfdf[pfdf['pfam_name'].str.contains(keyword)]"
   ]
  },
  {
   "cell_type": "code",
   "execution_count": null,
   "metadata": {},
   "outputs": [],
   "source": []
  },
  {
   "cell_type": "code",
   "execution_count": null,
   "metadata": {},
   "outputs": [],
   "source": []
  },
  {
   "cell_type": "code",
   "execution_count": null,
   "metadata": {},
   "outputs": [],
   "source": []
  },
  {
   "cell_type": "code",
   "execution_count": null,
   "metadata": {},
   "outputs": [],
   "source": []
  },
  {
   "cell_type": "code",
   "execution_count": null,
   "metadata": {},
   "outputs": [],
   "source": []
  },
  {
   "cell_type": "code",
   "execution_count": 5,
   "metadata": {},
   "outputs": [
    {
     "data": {
      "text/plain": [
       "False"
      ]
     },
     "execution_count": 5,
     "metadata": {},
     "output_type": "execute_result"
    }
   ],
   "source": [
    "mypath='aquificae/'\n",
    "os.path.isdir(mypath+'Knumbers')"
   ]
  },
  {
   "cell_type": "code",
   "execution_count": null,
   "metadata": {},
   "outputs": [],
   "source": []
  }
 ],
 "metadata": {
  "kernelspec": {
   "display_name": "Python 3",
   "language": "python",
   "name": "python3"
  },
  "language_info": {
   "codemirror_mode": {
    "name": "ipython",
    "version": 3
   },
   "file_extension": ".py",
   "mimetype": "text/x-python",
   "name": "python",
   "nbconvert_exporter": "python",
   "pygments_lexer": "ipython3",
   "version": "3.6.0"
  }
 },
 "nbformat": 4,
 "nbformat_minor": 2
}
