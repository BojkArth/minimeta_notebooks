{
 "cells": [
  {
   "cell_type": "code",
   "execution_count": 1,
   "metadata": {},
   "outputs": [],
   "source": [
    "import pandas as pd\n",
    "import matplotlib.pyplot as plt\n",
    "import numpy as np\n",
    "import seaborn as sns\n",
    "from matplotlib import gridspec\n",
    "import ast\n",
    "import os\n",
    "os.chdir('/home/bojk/Data/') #this is when opened in '/home/bojk/Data/notebooks' on linux Quakelab\n",
    "import sys\n",
    "sys.path.append('/home/bojk/Data/minimeta_pyfiles/')\n",
    "import imp\n",
    "import HTSeq\n",
    "from scipy.stats import powerlaw\n",
    "#import minimetagenome_analysis as minimeta\n",
    "\n",
    "import mock_metagenome_creation as mock\n",
    "imp.reload(mock)\n",
    "#import reassembly as rea\n",
    "#import subcluster_bins as sub\n",
    "#import checkm_out_plot as cop\n",
    "#import checkm_out as co\n",
    "\n",
    "import matplotlib as mpl\n",
    "mpl.rcParams['axes.labelsize'] = 15\n",
    "mpl.rcParams['xtick.labelsize'] = 15\n",
    "mpl.rcParams['ytick.labelsize'] = 15\n",
    "mpl.rcParams['axes.titlesize'] = 15\n",
    "mpl.rcParams['figure.titlesize'] = 18\n",
    "mpl.rcParams['legend.fontsize'] = 14\n",
    "\n",
    "from sklearn.manifold import TSNE\n",
    "from sklearn.preprocessing import StandardScaler\n",
    "from sklearn.decomposition import PCA"
   ]
  },
  {
   "cell_type": "code",
   "execution_count": null,
   "metadata": {},
   "outputs": [],
   "source": [
    "\"\"\"maindir = \"Mock/Archaea_illuminaHS_low<20contigs/\"\n",
    "kmerdf = pd.read_pickle(maindir+'stats/kmerdf__feb15.pickle')\n",
    "contigdf = pd.read_pickle(maindir+'stats/contigdf__feb15.pickle')\n",
    "statsdf = pd.read_pickle(maindir+'stats/statsdf__feb15.pickle')\"\"\""
   ]
  },
  {
   "cell_type": "code",
   "execution_count": null,
   "metadata": {},
   "outputs": [
    {
     "name": "stdout",
     "output_type": "stream",
     "text": [
      "Total number of fasta sequences:16985\n",
      "----------------------------------------------------\n",
      "Started collecting kmers, dimensionality = 65536\n",
      "Local time: 10:43\n",
      "----------------------------------------------------\n",
      "----------------------------------------------------\n",
      "Collecting kmers for 500 contigs out of 16985 done, took 15823.99 s\n",
      "Progress: 2.94 %, local time: 15:7\n",
      "Total elapsed time is 263.79 minutes\n",
      "Saving current contig kmers to pickle...\n",
      "relative path = Mock/Archaea_illuminaHS_low<20contigs/stats/kmerdf_from_metagenome_fasta_8mer_incomplete.pickle\n",
      "----------------------------------------------------\n"
     ]
    }
   ],
   "source": [
    "imp.reload(mock)\n",
    "maindir = \"Mock/Archaea_illuminaHS_low<20contigs/\"\n",
    "contig8mer,k8mer = mock.make_kmertable_from_fasta_contigs(maindir+'metagenome_from_allgenomes__feb15.fasta',8,maindir+'stats/') "
   ]
  },
  {
   "cell_type": "code",
   "execution_count": null,
   "metadata": {},
   "outputs": [],
   "source": [
    "k8mer.head()"
   ]
  },
  {
   "cell_type": "code",
   "execution_count": null,
   "metadata": {},
   "outputs": [],
   "source": [
    "imp.reload(mock)\n",
    "maindir = \"Mock/Archaea_illuminaHS_low<20contigs/\"\n",
    "statsdf = pd.read_pickle(maindir+'stats/statsdf__feb15.pickle')\n",
    "tsnedf_8main,optimal8df,hdbsweep8 = mock.perform_complete_analysis(k8mer,contig8mer,statsdf,maindir,'feb15k8mers')"
   ]
  },
  {
   "cell_type": "code",
   "execution_count": null,
   "metadata": {},
   "outputs": [],
   "source": [
    "optimal5df = pd.read_pickle(maindir+'stats/feb15_optimalValues_perPC')\n",
    "optimal6df = pd.read_pickle(maindir+'stats/feb15k6mers_optimalValues_perPC')\n",
    "optimal7df = = pd.read_pickle(maindir+'stats/feb15k7mers_optimalValues_perPC')\n",
    "\n",
    "optimal5df['max'][:-1].plot(style='-o',c='r')\n",
    "optimal6df['max'][:-1].plot(style='-o',c='g')\n",
    "optimal7df['max'][:-1].plot(style='-o',c='b')\n",
    "optimal8df['max'][:-1].plot(style='-o',c='m')\n",
    "plt.plot(4**5,optimal5df.iloc[-1,-1],'+r',ms=20,markeredgewidth=4)\n",
    "plt.plot(4**6,optimal6df.iloc[-1,-1],'+g',ms=20,markeredgewidth=4)\n",
    "plt.plot(4**7,optimal7df.iloc[-1,-1],'+b',ms=20,markeredgewidth=4)\n",
    "plt.plot(4**8,optimal7df.iloc[-1,-1],'+m',ms=20,markeredgewidth=4)\n",
    "plt.xscale('log')\n",
    "plt.ylim(0,1)\n",
    "plt.xlim(3,6e4)\n",
    "plt.xlabel('Number of PCs')\n",
    "plt.ylabel('V-measure')\n",
    "plt.show()"
   ]
  },
  {
   "cell_type": "code",
   "execution_count": null,
   "metadata": {},
   "outputs": [],
   "source": [
    "tsne_8merOpt, stats8merOpt = mock.make_Opt_tSNE(optimal8df,maindir,'stats/feb15k8mers_all_tSNEs','feb15_8mer')    "
   ]
  },
  {
   "cell_type": "code",
   "execution_count": 57,
   "metadata": {},
   "outputs": [
    {
     "name": "stdout",
     "output_type": "stream",
     "text": [
      "no incorrect calls for cluster 0\n",
      "no incorrect calls for cluster 1\n",
      "no incorrect calls for cluster 2\n",
      "no incorrect calls for cluster 4\n",
      "no incorrect calls for cluster 5\n",
      "no incorrect calls for cluster 6\n",
      "no incorrect calls for cluster 7\n"
     ]
    },
    {
     "name": "stderr",
     "output_type": "stream",
     "text": [
      "/home/bojk/miniconda3/envs/py360/lib/python3.6/site-packages/pandas/core/ops.py:1649: FutureWarning: elementwise comparison failed; returning scalar instead, but in the future will perform elementwise comparison\n",
      "  result = method(y)\n"
     ]
    }
   ],
   "source": [
    "imp.reload(mock)\n",
    "subfolder = 'feb15_8mers_optimal'\n",
    "savename = 'feb15_8mers'\n",
    "mock.plot_optimal_clustering(tsne_8merOpt,stats8merOpt,maindir,subfolder,savename)"
   ]
  },
  {
   "cell_type": "code",
   "execution_count": null,
   "metadata": {},
   "outputs": [],
   "source": [
    "import"
   ]
  }
 ],
 "metadata": {
  "kernelspec": {
   "display_name": "Python 3",
   "language": "python",
   "name": "python3"
  },
  "language_info": {
   "codemirror_mode": {
    "name": "ipython",
    "version": 3
   },
   "file_extension": ".py",
   "mimetype": "text/x-python",
   "name": "python",
   "nbconvert_exporter": "python",
   "pygments_lexer": "ipython3",
   "version": "3.6.0"
  }
 },
 "nbformat": 4,
 "nbformat_minor": 2
}
