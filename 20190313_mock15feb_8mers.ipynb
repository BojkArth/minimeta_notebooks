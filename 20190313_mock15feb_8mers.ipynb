{
 "cells": [
  {
   "cell_type": "code",
   "execution_count": 1,
   "metadata": {},
   "outputs": [],
   "source": [
    "import pandas as pd\n",
    "import matplotlib.pyplot as plt\n",
    "import numpy as np\n",
    "import seaborn as sns\n",
    "from matplotlib import gridspec\n",
    "import ast\n",
    "import os\n",
    "os.chdir('/home/bojk/Data/') #this is when opened in '/home/bojk/Data/notebooks' on linux Quakelab\n",
    "import sys\n",
    "sys.path.append('/home/bojk/Data/minimeta_pyfiles/')\n",
    "import imp\n",
    "import HTSeq\n",
    "from scipy.stats import powerlaw\n",
    "#import minimetagenome_analysis as minimeta\n",
    "\n",
    "import mock_metagenome_creation as mock\n",
    "imp.reload(mock)\n",
    "#import reassembly as rea\n",
    "#import subcluster_bins as sub\n",
    "#import checkm_out_plot as cop\n",
    "#import checkm_out as co\n",
    "\n",
    "import matplotlib as mpl\n",
    "mpl.rcParams['axes.labelsize'] = 15\n",
    "mpl.rcParams['xtick.labelsize'] = 15\n",
    "mpl.rcParams['ytick.labelsize'] = 15\n",
    "mpl.rcParams['axes.titlesize'] = 15\n",
    "mpl.rcParams['figure.titlesize'] = 18\n",
    "mpl.rcParams['legend.fontsize'] = 14\n",
    "\n",
    "from sklearn.manifold import TSNE\n",
    "from sklearn.preprocessing import StandardScaler\n",
    "from sklearn.decomposition import PCA"
   ]
  },
  {
   "cell_type": "code",
   "execution_count": null,
   "metadata": {},
   "outputs": [],
   "source": [
    "\"\"\"maindir = \"Mock/Archaea_illuminaHS_low<20contigs/\"\n",
    "kmerdf = pd.read_pickle(maindir+'stats/kmerdf__feb15.pickle')\n",
    "contigdf = pd.read_pickle(maindir+'stats/contigdf__feb15.pickle')\n",
    "statsdf = pd.read_pickle(maindir+'stats/statsdf__feb15.pickle')\"\"\""
   ]
  },
  {
   "cell_type": "code",
   "execution_count": 5,
   "metadata": {},
   "outputs": [
    {
     "name": "stdout",
     "output_type": "stream",
     "text": [
      "Total number of fasta sequences:16985\n",
      "----------------------------------------------------\n",
      "Started collecting kmers, dimensionality = 65536\n",
      "Local time: 10:43\n",
      "----------------------------------------------------\n",
      "----------------------------------------------------\n",
      "Collecting kmers for 500 contigs out of 16985 done, took 15823.99 s\n",
      "Progress: 2.94 %, local time: 15:7\n",
      "Total elapsed time is 263.79 minutes\n",
      "Saving current contig kmers to pickle...\n",
      "relative path = Mock/Archaea_illuminaHS_low<20contigs/stats/kmerdf_from_metagenome_fasta_8mer_incomplete.pickle\n",
      "----------------------------------------------------\n",
      "----------------------------------------------------\n",
      "Collecting kmers for 1000 contigs out of 16985 done, took 15859.48 s\n",
      "Progress: 5.89 %, local time: 19:31\n",
      "Total elapsed time is 528.11 minutes\n",
      "Saving current contig kmers to pickle...\n",
      "relative path = Mock/Archaea_illuminaHS_low<20contigs/stats/kmerdf_from_metagenome_fasta_8mer_incomplete.pickle\n",
      "----------------------------------------------------\n",
      "----------------------------------------------------\n",
      "Collecting kmers for 1500 contigs out of 16985 done, took 15728.24 s\n",
      "Progress: 8.83 %, local time: 23:53\n",
      "Total elapsed time is 790.27 minutes\n",
      "Saving current contig kmers to pickle...\n",
      "relative path = Mock/Archaea_illuminaHS_low<20contigs/stats/kmerdf_from_metagenome_fasta_8mer_incomplete.pickle\n",
      "----------------------------------------------------\n",
      "----------------------------------------------------\n",
      "Collecting kmers for 2000 contigs out of 16985 done, took 15475.00 s\n",
      "Progress: 11.78 %, local time: 4:11\n",
      "Total elapsed time is 1048.22 minutes\n",
      "Saving current contig kmers to pickle...\n",
      "relative path = Mock/Archaea_illuminaHS_low<20contigs/stats/kmerdf_from_metagenome_fasta_8mer_incomplete.pickle\n",
      "----------------------------------------------------\n",
      "----------------------------------------------------\n",
      "Collecting kmers for 2500 contigs out of 16985 done, took 15558.05 s\n",
      "Progress: 14.72 %, local time: 8:31\n",
      "Total elapsed time is 1307.56 minutes\n",
      "Saving current contig kmers to pickle...\n",
      "relative path = Mock/Archaea_illuminaHS_low<20contigs/stats/kmerdf_from_metagenome_fasta_8mer_incomplete.pickle\n",
      "----------------------------------------------------\n",
      "----------------------------------------------------\n",
      "Collecting kmers for 3000 contigs out of 16985 done, took 15705.89 s\n",
      "Progress: 17.66 %, local time: 12:52\n",
      "Total elapsed time is 1569.38 minutes\n",
      "Saving current contig kmers to pickle...\n",
      "relative path = Mock/Archaea_illuminaHS_low<20contigs/stats/kmerdf_from_metagenome_fasta_8mer_incomplete.pickle\n",
      "----------------------------------------------------\n",
      "----------------------------------------------------\n",
      "Collecting kmers for 3500 contigs out of 16985 done, took 15747.63 s\n",
      "Progress: 20.61 %, local time: 17:15\n",
      "Total elapsed time is 1831.91 minutes\n",
      "Saving current contig kmers to pickle...\n",
      "relative path = Mock/Archaea_illuminaHS_low<20contigs/stats/kmerdf_from_metagenome_fasta_8mer_incomplete.pickle\n",
      "----------------------------------------------------\n",
      "----------------------------------------------------\n",
      "Collecting kmers for 4000 contigs out of 16985 done, took 15927.25 s\n",
      "Progress: 23.55 %, local time: 21:41\n",
      "Total elapsed time is 2097.45 minutes\n",
      "Saving current contig kmers to pickle...\n",
      "relative path = Mock/Archaea_illuminaHS_low<20contigs/stats/kmerdf_from_metagenome_fasta_8mer_incomplete.pickle\n",
      "----------------------------------------------------\n",
      "----------------------------------------------------\n",
      "Collecting kmers for 4500 contigs out of 16985 done, took 15706.84 s\n",
      "Progress: 26.49 %, local time: 2:2\n",
      "Total elapsed time is 2359.31 minutes\n",
      "Saving current contig kmers to pickle...\n",
      "relative path = Mock/Archaea_illuminaHS_low<20contigs/stats/kmerdf_from_metagenome_fasta_8mer_incomplete.pickle\n",
      "----------------------------------------------------\n",
      "----------------------------------------------------\n",
      "Collecting kmers for 5000 contigs out of 16985 done, took 16369.97 s\n",
      "Progress: 29.44 %, local time: 6:35\n",
      "Total elapsed time is 2632.25 minutes\n",
      "Saving current contig kmers to pickle...\n",
      "relative path = Mock/Archaea_illuminaHS_low<20contigs/stats/kmerdf_from_metagenome_fasta_8mer_incomplete.pickle\n",
      "----------------------------------------------------\n",
      "----------------------------------------------------\n",
      "Collecting kmers for 5500 contigs out of 16985 done, took 16011.85 s\n",
      "Progress: 32.38 %, local time: 11:2\n",
      "Total elapsed time is 2899.22 minutes\n",
      "Saving current contig kmers to pickle...\n",
      "relative path = Mock/Archaea_illuminaHS_low<20contigs/stats/kmerdf_from_metagenome_fasta_8mer_incomplete.pickle\n",
      "----------------------------------------------------\n",
      "----------------------------------------------------\n",
      "Collecting kmers for 6000 contigs out of 16985 done, took 16302.22 s\n",
      "Progress: 35.33 %, local time: 15:34\n",
      "Total elapsed time is 3171.04 minutes\n",
      "Saving current contig kmers to pickle...\n",
      "relative path = Mock/Archaea_illuminaHS_low<20contigs/stats/kmerdf_from_metagenome_fasta_8mer_incomplete.pickle\n",
      "----------------------------------------------------\n",
      "----------------------------------------------------\n",
      "Collecting kmers for 6500 contigs out of 16985 done, took 15803.16 s\n",
      "Progress: 38.27 %, local time: 19:58\n",
      "Total elapsed time is 3434.56 minutes\n",
      "Saving current contig kmers to pickle...\n",
      "relative path = Mock/Archaea_illuminaHS_low<20contigs/stats/kmerdf_from_metagenome_fasta_8mer_incomplete.pickle\n",
      "----------------------------------------------------\n",
      "----------------------------------------------------\n",
      "Collecting kmers for 7000 contigs out of 16985 done, took 15273.24 s\n",
      "Progress: 41.21 %, local time: 0:12\n",
      "Total elapsed time is 3689.26 minutes\n",
      "Saving current contig kmers to pickle...\n",
      "relative path = Mock/Archaea_illuminaHS_low<20contigs/stats/kmerdf_from_metagenome_fasta_8mer_incomplete.pickle\n",
      "----------------------------------------------------\n",
      "----------------------------------------------------\n",
      "Collecting kmers for 7500 contigs out of 16985 done, took 15267.92 s\n",
      "Progress: 44.16 %, local time: 4:27\n",
      "Total elapsed time is 3943.88 minutes\n",
      "Saving current contig kmers to pickle...\n",
      "relative path = Mock/Archaea_illuminaHS_low<20contigs/stats/kmerdf_from_metagenome_fasta_8mer_incomplete.pickle\n",
      "----------------------------------------------------\n",
      "----------------------------------------------------\n",
      "Collecting kmers for 8000 contigs out of 16985 done, took 15386.98 s\n",
      "Progress: 47.1 %, local time: 8:44\n",
      "Total elapsed time is 4200.52 minutes\n",
      "Saving current contig kmers to pickle...\n",
      "relative path = Mock/Archaea_illuminaHS_low<20contigs/stats/kmerdf_from_metagenome_fasta_8mer_incomplete.pickle\n",
      "----------------------------------------------------\n",
      "----------------------------------------------------\n",
      "Collecting kmers for 8500 contigs out of 16985 done, took 15426.81 s\n",
      "Progress: 50.04 %, local time: 13:1\n",
      "Total elapsed time is 4457.82 minutes\n",
      "Saving current contig kmers to pickle...\n"
     ]
    },
    {
     "ename": "MemoryError",
     "evalue": "",
     "output_type": "error",
     "traceback": [
      "\u001b[0;31m---------------------------------------------------------------------------\u001b[0m",
      "\u001b[0;31mMemoryError\u001b[0m                               Traceback (most recent call last)",
      "\u001b[0;32m<ipython-input-5-f8fb834b2cf9>\u001b[0m in \u001b[0;36m<module>\u001b[0;34m\u001b[0m\n\u001b[1;32m      1\u001b[0m \u001b[0mimp\u001b[0m\u001b[0;34m.\u001b[0m\u001b[0mreload\u001b[0m\u001b[0;34m(\u001b[0m\u001b[0mmock\u001b[0m\u001b[0;34m)\u001b[0m\u001b[0;34m\u001b[0m\u001b[0m\n\u001b[1;32m      2\u001b[0m \u001b[0mmaindir\u001b[0m \u001b[0;34m=\u001b[0m \u001b[0;34m\"Mock/Archaea_illuminaHS_low<20contigs/\"\u001b[0m\u001b[0;34m\u001b[0m\u001b[0m\n\u001b[0;32m----> 3\u001b[0;31m \u001b[0mcontig8mer\u001b[0m\u001b[0;34m,\u001b[0m\u001b[0mk8mer\u001b[0m \u001b[0;34m=\u001b[0m \u001b[0mmock\u001b[0m\u001b[0;34m.\u001b[0m\u001b[0mmake_kmertable_from_fasta_contigs\u001b[0m\u001b[0;34m(\u001b[0m\u001b[0mmaindir\u001b[0m\u001b[0;34m+\u001b[0m\u001b[0;34m'metagenome_from_allgenomes__feb15.fasta'\u001b[0m\u001b[0;34m,\u001b[0m\u001b[0;36m8\u001b[0m\u001b[0;34m,\u001b[0m\u001b[0mmaindir\u001b[0m\u001b[0;34m+\u001b[0m\u001b[0;34m'stats/'\u001b[0m\u001b[0;34m)\u001b[0m\u001b[0;34m\u001b[0m\u001b[0m\n\u001b[0m",
      "\u001b[0;32m~/Data/minimeta_pyfiles/mock_metagenome_creation.py\u001b[0m in \u001b[0;36mmake_kmertable_from_fasta_contigs\u001b[0;34m(fastapath, kmernum, savedir)\u001b[0m\n\u001b[1;32m    234\u001b[0m             \u001b[0mprint\u001b[0m\u001b[0;34m(\u001b[0m\u001b[0;34m'Total elapsed time is {:.2f} minutes'\u001b[0m\u001b[0;34m.\u001b[0m\u001b[0mformat\u001b[0m\u001b[0;34m(\u001b[0m\u001b[0;34m(\u001b[0m\u001b[0mend\u001b[0m\u001b[0;34m-\u001b[0m\u001b[0mentire_start\u001b[0m\u001b[0;34m)\u001b[0m\u001b[0;34m/\u001b[0m\u001b[0;36m60\u001b[0m\u001b[0;34m)\u001b[0m\u001b[0;34m)\u001b[0m\u001b[0;34m\u001b[0m\u001b[0m\n\u001b[1;32m    235\u001b[0m             \u001b[0mprint\u001b[0m\u001b[0;34m(\u001b[0m\u001b[0;34m'Saving current contig kmers to pickle...'\u001b[0m\u001b[0;34m)\u001b[0m\u001b[0;34m\u001b[0m\u001b[0m\n\u001b[0;32m--> 236\u001b[0;31m             \u001b[0mkmerdf\u001b[0m\u001b[0;34m.\u001b[0m\u001b[0mto_pickle\u001b[0m\u001b[0;34m(\u001b[0m\u001b[0msavedir\u001b[0m\u001b[0;34m+\u001b[0m\u001b[0;34m'kmerdf_from_metagenome_fasta_'\u001b[0m\u001b[0;34m+\u001b[0m\u001b[0mstr\u001b[0m\u001b[0;34m(\u001b[0m\u001b[0mkmernum\u001b[0m\u001b[0;34m)\u001b[0m\u001b[0;34m+\u001b[0m\u001b[0;34m'mer_incomplete.pickle'\u001b[0m\u001b[0;34m)\u001b[0m\u001b[0;34m\u001b[0m\u001b[0m\n\u001b[0m\u001b[1;32m    237\u001b[0m             \u001b[0mcontigdf\u001b[0m\u001b[0;34m.\u001b[0m\u001b[0mto_pickle\u001b[0m\u001b[0;34m(\u001b[0m\u001b[0msavedir\u001b[0m\u001b[0;34m+\u001b[0m\u001b[0;34m'contigdf_from_metagenome_fasta_'\u001b[0m\u001b[0;34m+\u001b[0m\u001b[0mstr\u001b[0m\u001b[0;34m(\u001b[0m\u001b[0mkmernum\u001b[0m\u001b[0;34m)\u001b[0m\u001b[0;34m+\u001b[0m\u001b[0;34m'mer_incomplete.pickle'\u001b[0m\u001b[0;34m)\u001b[0m\u001b[0;34m\u001b[0m\u001b[0m\n\u001b[1;32m    238\u001b[0m             \u001b[0mprint\u001b[0m\u001b[0;34m(\u001b[0m\u001b[0;34m'relative path = '\u001b[0m\u001b[0;34m+\u001b[0m\u001b[0msavedir\u001b[0m\u001b[0;34m+\u001b[0m\u001b[0;34m'kmerdf_from_metagenome_fasta_'\u001b[0m\u001b[0;34m+\u001b[0m\u001b[0mstr\u001b[0m\u001b[0;34m(\u001b[0m\u001b[0mkmernum\u001b[0m\u001b[0;34m)\u001b[0m\u001b[0;34m+\u001b[0m\u001b[0;34m'mer_incomplete.pickle'\u001b[0m\u001b[0;34m)\u001b[0m\u001b[0;34m\u001b[0m\u001b[0m\n",
      "\u001b[0;32m~/miniconda3/envs/py360/lib/python3.6/site-packages/pandas/core/generic.py\u001b[0m in \u001b[0;36mto_pickle\u001b[0;34m(self, path, compression, protocol)\u001b[0m\n\u001b[1;32m   2582\u001b[0m         \u001b[0;36m0\u001b[0m    \u001b[0;36m0\u001b[0m    \u001b[0;36m5\u001b[0m\u001b[0;34m\u001b[0m\u001b[0m\n\u001b[1;32m   2583\u001b[0m         \u001b[0;36m1\u001b[0m    \u001b[0;36m1\u001b[0m    \u001b[0;36m6\u001b[0m\u001b[0;34m\u001b[0m\u001b[0m\n\u001b[0;32m-> 2584\u001b[0;31m         \u001b[0;36m2\u001b[0m    \u001b[0;36m2\u001b[0m    \u001b[0;36m7\u001b[0m\u001b[0;34m\u001b[0m\u001b[0m\n\u001b[0m\u001b[1;32m   2585\u001b[0m         \u001b[0;36m3\u001b[0m    \u001b[0;36m3\u001b[0m    \u001b[0;36m8\u001b[0m\u001b[0;34m\u001b[0m\u001b[0m\n\u001b[1;32m   2586\u001b[0m         \u001b[0;36m4\u001b[0m    \u001b[0;36m4\u001b[0m    \u001b[0;36m9\u001b[0m\u001b[0;34m\u001b[0m\u001b[0m\n",
      "\u001b[0;32m~/miniconda3/envs/py360/lib/python3.6/site-packages/pandas/io/pickle.py\u001b[0m in \u001b[0;36mto_pickle\u001b[0;34m(obj, path, compression, protocol)\u001b[0m\n\u001b[1;32m     75\u001b[0m         \u001b[0mprotocol\u001b[0m \u001b[0;34m=\u001b[0m \u001b[0mpkl\u001b[0m\u001b[0;34m.\u001b[0m\u001b[0mHIGHEST_PROTOCOL\u001b[0m\u001b[0;34m\u001b[0m\u001b[0m\n\u001b[1;32m     76\u001b[0m     \u001b[0;32mtry\u001b[0m\u001b[0;34m:\u001b[0m\u001b[0;34m\u001b[0m\u001b[0m\n\u001b[0;32m---> 77\u001b[0;31m         \u001b[0mf\u001b[0m\u001b[0;34m.\u001b[0m\u001b[0mwrite\u001b[0m\u001b[0;34m(\u001b[0m\u001b[0mpkl\u001b[0m\u001b[0;34m.\u001b[0m\u001b[0mdumps\u001b[0m\u001b[0;34m(\u001b[0m\u001b[0mobj\u001b[0m\u001b[0;34m,\u001b[0m \u001b[0mprotocol\u001b[0m\u001b[0;34m=\u001b[0m\u001b[0mprotocol\u001b[0m\u001b[0;34m)\u001b[0m\u001b[0;34m)\u001b[0m\u001b[0;34m\u001b[0m\u001b[0m\n\u001b[0m\u001b[1;32m     78\u001b[0m     \u001b[0;32mfinally\u001b[0m\u001b[0;34m:\u001b[0m\u001b[0;34m\u001b[0m\u001b[0m\n\u001b[1;32m     79\u001b[0m         \u001b[0;32mfor\u001b[0m \u001b[0m_f\u001b[0m \u001b[0;32min\u001b[0m \u001b[0mfh\u001b[0m\u001b[0;34m:\u001b[0m\u001b[0;34m\u001b[0m\u001b[0m\n",
      "\u001b[0;31mMemoryError\u001b[0m: "
     ]
    }
   ],
   "source": [
    "imp.reload(mock)\n",
    "maindir = \"Mock/Archaea_illuminaHS_low<20contigs/\"\n",
    "contig8mer,k8mer = mock.make_kmertable_from_fasta_contigs(maindir+'metagenome_from_allgenomes__feb15.fasta',8,maindir+'stats/') "
   ]
  },
  {
   "cell_type": "code",
   "execution_count": null,
   "metadata": {},
   "outputs": [],
   "source": [
    "k8mer.head()"
   ]
  },
  {
   "cell_type": "code",
   "execution_count": null,
   "metadata": {},
   "outputs": [],
   "source": [
    "imp.reload(mock)\n",
    "maindir = \"Mock/Archaea_illuminaHS_low<20contigs/\"\n",
    "statsdf = pd.read_pickle(maindir+'stats/statsdf__feb15.pickle')\n",
    "tsnedf_8main,optimal8df,hdbsweep8 = mock.perform_complete_analysis(k8mer,contig8mer,statsdf,maindir,'feb15k8mers')"
   ]
  },
  {
   "cell_type": "code",
   "execution_count": null,
   "metadata": {},
   "outputs": [],
   "source": [
    "optimal5df = pd.read_pickle(maindir+'stats/feb15_optimalValues_perPC')\n",
    "optimal6df = pd.read_pickle(maindir+'stats/feb15k6mers_optimalValues_perPC')\n",
    "optimal7df = = pd.read_pickle(maindir+'stats/feb15k7mers_optimalValues_perPC')\n",
    "\n",
    "optimal5df['max'][:-1].plot(style='-o',c='r')\n",
    "optimal6df['max'][:-1].plot(style='-o',c='g')\n",
    "optimal7df['max'][:-1].plot(style='-o',c='b')\n",
    "optimal8df['max'][:-1].plot(style='-o',c='m')\n",
    "plt.plot(4**5,optimal5df.iloc[-1,-1],'+r',ms=20,markeredgewidth=4)\n",
    "plt.plot(4**6,optimal6df.iloc[-1,-1],'+g',ms=20,markeredgewidth=4)\n",
    "plt.plot(4**7,optimal7df.iloc[-1,-1],'+b',ms=20,markeredgewidth=4)\n",
    "plt.plot(4**8,optimal7df.iloc[-1,-1],'+m',ms=20,markeredgewidth=4)\n",
    "plt.xscale('log')\n",
    "plt.ylim(0,1)\n",
    "plt.xlim(3,6e4)\n",
    "plt.xlabel('Number of PCs')\n",
    "plt.ylabel('V-measure')\n",
    "plt.show()"
   ]
  },
  {
   "cell_type": "code",
   "execution_count": null,
   "metadata": {},
   "outputs": [],
   "source": [
    "tsne_8merOpt, stats8merOpt = mock.make_Opt_tSNE(optimal8df,maindir,'stats/feb15k8mers_all_tSNEs','feb15_8mer')    "
   ]
  },
  {
   "cell_type": "code",
   "execution_count": 57,
   "metadata": {},
   "outputs": [
    {
     "name": "stdout",
     "output_type": "stream",
     "text": [
      "no incorrect calls for cluster 0\n",
      "no incorrect calls for cluster 1\n",
      "no incorrect calls for cluster 2\n",
      "no incorrect calls for cluster 4\n",
      "no incorrect calls for cluster 5\n",
      "no incorrect calls for cluster 6\n",
      "no incorrect calls for cluster 7\n"
     ]
    },
    {
     "name": "stderr",
     "output_type": "stream",
     "text": [
      "/home/bojk/miniconda3/envs/py360/lib/python3.6/site-packages/pandas/core/ops.py:1649: FutureWarning: elementwise comparison failed; returning scalar instead, but in the future will perform elementwise comparison\n",
      "  result = method(y)\n"
     ]
    }
   ],
   "source": [
    "imp.reload(mock)\n",
    "subfolder = 'feb15_8mers_optimal'\n",
    "savename = 'feb15_8mers'\n",
    "mock.plot_optimal_clustering(tsne_8merOpt,stats8merOpt,maindir,subfolder,savename)"
   ]
  },
  {
   "cell_type": "code",
   "execution_count": null,
   "metadata": {},
   "outputs": [],
   "source": [
    "import"
   ]
  }
 ],
 "metadata": {
  "kernelspec": {
   "display_name": "Python 3",
   "language": "python",
   "name": "python3"
  },
  "language_info": {
   "codemirror_mode": {
    "name": "ipython",
    "version": 3
   },
   "file_extension": ".py",
   "mimetype": "text/x-python",
   "name": "python",
   "nbconvert_exporter": "python",
   "pygments_lexer": "ipython3",
   "version": "3.6.0"
  }
 },
 "nbformat": 4,
 "nbformat_minor": 2
}
