{
 "cells": [
  {
   "cell_type": "code",
   "execution_count": 2,
   "metadata": {
    "collapsed": true
   },
   "outputs": [],
   "source": [
    "import numpy as np\n",
    "import matplotlib.pyplot as plt\n",
    "import pandas as pd\n",
    "import csv\n",
    "import matplotlib.cm as cm\n",
    "import seaborn as sns\n",
    "from matplotlib import gridspec\n",
    "import matplotlib.animation as manimation\n",
    "import time\n",
    "import matplotlib.patches as patches\n",
    "from Bio import SeqIO\n",
    "\n",
    "#import plotly. as py\n",
    "#import plotly.graph_objs as go\n",
    "font = {'family' : 'DejaVu Sans',\n",
    "        'weight' : 'regular',\n",
    "        'size'   : 16}\n",
    "\n",
    "plt.rc('font', **font)\n",
    "plt.rc('lines',lw=2)"
   ]
  },
  {
   "cell_type": "code",
   "execution_count": null,
   "metadata": {
    "collapsed": true
   },
   "outputs": [],
   "source": []
  },
  {
   "cell_type": "code",
   "execution_count": 3,
   "metadata": {
    "collapsed": true
   },
   "outputs": [],
   "source": [
    "expt_name = 'Obsidian3'; shorthand = 'Obs3'; subfolder = 'pyplots/'"
   ]
  },
  {
   "cell_type": "code",
   "execution_count": 4,
   "metadata": {
    "collapsed": true
   },
   "outputs": [],
   "source": [
    "from kpal.klib import Profile\n",
    "k4counts = Profile.from_fasta(open('fasta/super_contigs.'+expt_name+'.fasta'), 4)\n",
    "k5counts = Profile.from_fasta(open('fasta/super_contigs.'+expt_name+'.fasta'), 5)"
   ]
  },
  {
   "cell_type": "code",
   "execution_count": 6,
   "metadata": {
    "collapsed": false
   },
   "outputs": [
    {
     "data": {
      "text/plain": [
       "array([654918, 310531, 442230, 462675, 285713, 252848, 183897, 280477,\n",
       "       419098, 321747, 344505, 282782, 404542, 260996, 266278, 409642,\n",
       "       257537, 153395, 190231, 241191, 261946, 193782, 182710, 269137,\n",
       "       183189, 189768, 163987, 133253, 172740, 174431, 171829, 282955,\n",
       "       395016, 179506, 274672, 309125, 288791, 261471, 230062, 297321,\n",
       "       323490, 252663, 237594, 267195, 221305, 142332, 157604, 279583,\n",
       "       426627, 233790, 275832, 388142, 303849, 253007, 204736, 312533,\n",
       "       296282, 241176, 271819, 240256, 346622, 258555, 273115, 462408,\n",
       "       346861, 264381, 305293, 275334, 174424, 265586, 169689, 158465,\n",
       "       231051, 316827, 247941, 172764, 265842, 303229, 217802, 267633,\n",
       "       274350, 229974, 270257, 272860, 226736, 175655, 178808, 238114,\n",
       "       196177, 263602, 190735, 165033, 183339, 308277, 249396, 345329,\n",
       "       189579, 181391, 209285, 204556, 212350, 309730, 237576, 231143,\n",
       "       154060, 297630, 177709, 180827, 133778, 183749, 169322, 183055,\n",
       "       215618, 184060, 100036, 277439, 254984, 270157, 209655, 277655,\n",
       "       227211, 281997, 271823, 188450, 257616, 366152, 302763, 445722,\n",
       "       406370, 219918, 364038, 256485, 172207, 188235, 182797, 142118,\n",
       "       273357, 254073, 306323, 173207, 287830, 219457, 300753, 259471,\n",
       "       286418, 190414, 280829, 243045, 273960, 235989, 298851, 254671,\n",
       "       213397, 323162, 260811, 188267, 183685, 252739, 317046, 322747,\n",
       "       300305, 154249, 269711, 251675, 256818, 234882, 308339, 260037,\n",
       "       212982, 236730, 173923, 191671, 197917, 185607, 264352, 252285,\n",
       "       223173, 122588, 183074, 232702, 170319, 153591, 179356, 179037,\n",
       "       192842, 189301, 229846, 151871, 207614, 220081, 260485, 311237,\n",
       "       462188, 208172, 256574, 346964, 209979, 200916, 133797, 220864,\n",
       "       234825, 185058, 182185, 172050, 366150, 290418, 264704, 403906,\n",
       "       373551, 194416, 227265, 297385, 284800, 213875, 155149, 324341,\n",
       "       192064, 214256, 194680, 183320, 237348, 276993, 231187, 421166,\n",
       "       361903, 170282, 253309, 302128, 242724, 257409, 209659, 287642,\n",
       "       285408, 273128, 226041, 260431, 208494, 170598, 172562, 284410,\n",
       "       408524, 225202, 215228, 426946, 363510, 301427, 190591, 397444,\n",
       "       371313, 285005, 271549, 255503, 464075, 408253, 347029, 656001])"
      ]
     },
     "execution_count": 6,
     "metadata": {},
     "output_type": "execute_result"
    }
   ],
   "source": [
    "k4counts.counts"
   ]
  },
  {
   "cell_type": "code",
   "execution_count": 13,
   "metadata": {
    "collapsed": false
   },
   "outputs": [
    {
     "ename": "AttributeError",
     "evalue": "module 'khmer' has no attribute 'new_ktable'",
     "output_type": "error",
     "traceback": [
      "\u001b[0;31m---------------------------------------------------------------------------\u001b[0m",
      "\u001b[0;31mAttributeError\u001b[0m                            Traceback (most recent call last)",
      "\u001b[0;32m<ipython-input-13-59e89bdd8fb9>\u001b[0m in \u001b[0;36m<module>\u001b[0;34m()\u001b[0m\n\u001b[1;32m      1\u001b[0m \u001b[0;32mimport\u001b[0m \u001b[0mkhmer\u001b[0m\u001b[0;34m\u001b[0m\u001b[0m\n\u001b[0;32m----> 2\u001b[0;31m \u001b[0mktable\u001b[0m \u001b[0;34m=\u001b[0m \u001b[0mkhmer\u001b[0m\u001b[0;34m.\u001b[0m\u001b[0mnew_ktable\u001b[0m\u001b[0;34m(\u001b[0m\u001b[0;36m5\u001b[0m\u001b[0;34m)\u001b[0m\u001b[0;34m\u001b[0m\u001b[0m\n\u001b[0m",
      "\u001b[0;31mAttributeError\u001b[0m: module 'khmer' has no attribute 'new_ktable'"
     ]
    }
   ],
   "source": [
    "import khmer\n",
    "ktable = khmer."
   ]
  },
  {
   "cell_type": "code",
   "execution_count": null,
   "metadata": {
    "collapsed": false
   },
   "outputs": [],
   "source": [
    "\n"
   ]
  },
  {
   "cell_type": "code",
   "execution_count": null,
   "metadata": {
    "collapsed": true
   },
   "outputs": [],
   "source": []
  }
 ],
 "metadata": {
  "kernelspec": {
   "display_name": "Python 3",
   "language": "python",
   "name": "python3"
  },
  "language_info": {
   "codemirror_mode": {
    "name": "ipython",
    "version": 3
   },
   "file_extension": ".py",
   "mimetype": "text/x-python",
   "name": "python",
   "nbconvert_exporter": "python",
   "pygments_lexer": "ipython3",
   "version": "3.6.0"
  }
 },
 "nbformat": 4,
 "nbformat_minor": 2
}
