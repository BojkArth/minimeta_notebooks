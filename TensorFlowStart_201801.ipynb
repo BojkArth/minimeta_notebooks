{
 "cells": [
  {
   "cell_type": "code",
   "execution_count": 205,
   "metadata": {
    "collapsed": true
   },
   "outputs": [],
   "source": [
    "import numpy as np\n",
    "import matplotlib.pyplot as plt\n",
    "import pandas as pd\n",
    "import csv\n",
    "import matplotlib.cm as cm\n",
    "import seaborn as sns\n",
    "from matplotlib import gridspec\n",
    "import matplotlib.animation as manimation\n",
    "import time\n",
    "from collections import Counter\n",
    "import sklearn.cluster as cluster\n",
    "import time\n",
    "import hdbscan\n",
    "\n",
    "\n",
    "# load metafiles to have a clear overview of where each final genome came from\n",
    "import numpy as np\n",
    "import matplotlib.pyplot as plt\n",
    "import pandas as pd\n",
    "import csv\n",
    "import matplotlib.cm as cm\n",
    "import seaborn as sns\n",
    "from matplotlib import gridspec\n",
    "import matplotlib.animation as manimation\n",
    "import matplotlib.patches as patches\n",
    "import time\n",
    "from collections import Counter\n",
    "import sklearn.cluster as cluster\n",
    "import time\n",
    "import hdbscan\n",
    "from matplotlib.colors import ListedColormap\n",
    "from matplotlib.colors import LinearSegmentedColormap\n",
    "import re\n",
    "from os import listdir\n",
    "from os.path import isfile, join\n",
    "\n",
    "import HTSeq\n",
    "from Bio import SeqIO\n",
    "\n",
    "font = {'family' : 'DejaVu Sans',\n",
    "        'weight' : 'regular',\n",
    "        'size'   : 16}\n",
    "\n",
    "plt.rc('font', **font)\n",
    "plt.rc('lines',lw=2) \n",
    "sns.set(font_scale = 2)"
   ]
  },
  {
   "cell_type": "code",
   "execution_count": 138,
   "metadata": {},
   "outputs": [
    {
     "name": "stdout",
     "output_type": "stream",
     "text": [
      "Output After Training:\n",
      "[[0.01452497]\n",
      " [0.0145258 ]\n",
      " [0.99113415]\n",
      " [0.99113415]\n",
      " [0.99986817]]\n"
     ]
    }
   ],
   "source": [
    "import numpy as np\n",
    "import pandas as pd\n",
    "\n",
    "# sigmoid function\n",
    "def nonlin(x,deriv=False):\n",
    "    if(deriv==True):\n",
    "        return x*(1-x)\n",
    "    return 1/(1+np.exp(-x))\n",
    "    \n",
    "# input dataset\n",
    "X = np.array([  [0,0,1],\n",
    "                [1,0,0],\n",
    "                [1,1,1],\n",
    "                [1,1,1],\n",
    "                [1,1,0] ])\n",
    "    \n",
    "# output dataset            \n",
    "y = np.array([[0,0,1,1,1]]).T\n",
    "\n",
    "# seed random numbers to make calculation\n",
    "# deterministic (just a good practice)\n",
    "np.random.seed(1)\n",
    "\n",
    "# initialize weights randomly with mean 0\n",
    "syn0 = 2*np.random.random((3,1)) - 1\n",
    "\n",
    "for iter in range(10000):\n",
    "\n",
    "    # forward propagation\n",
    "    l0 = X\n",
    "    l1 = nonlin(np.dot(l0,syn0))\n",
    "    \n",
    "    # how much did we miss?\n",
    "    l1_error = y - l1\n",
    "\n",
    "    # multiply how much we missed by the \n",
    "    # slope of the sigmoid at the values in l1\n",
    "    l1_delta = l1_error * nonlin(l1,True)\n",
    "\n",
    "    # update weights\n",
    "    syn0 += np.dot(l0.T,l1_delta)\n",
    "\n",
    "print(\"Output After Training:\")\n",
    "print(l1)\n"
   ]
  },
  {
   "cell_type": "code",
   "execution_count": 139,
   "metadata": {},
   "outputs": [
    {
     "data": {
      "text/plain": [
       "array([[-4.2172484 ],\n",
       "       [13.15124985],\n",
       "       [-4.21730648]])"
      ]
     },
     "execution_count": 139,
     "metadata": {},
     "output_type": "execute_result"
    }
   ],
   "source": [
    "2*np.random.random((3,1)) - 1\n",
    "syn0"
   ]
  },
  {
   "cell_type": "code",
   "execution_count": 109,
   "metadata": {},
   "outputs": [
    {
     "name": "stdout",
     "output_type": "stream",
     "text": [
      "b'Hello, TensorFlow!'\n"
     ]
    }
   ],
   "source": [
    "import tensorflow as tf\n",
    "hello = tf.constant('Hello, TensorFlow!')\n",
    "sess = tf.Session()\n",
    "print(sess.run(hello))"
   ]
  },
  {
   "cell_type": "code",
   "execution_count": 13,
   "metadata": {
    "collapsed": true
   },
   "outputs": [],
   "source": [
    "path = 'models/samples/core/get_started/'\n",
    "file = 'premade_estimators.py'\n",
    "pathfile = path+file\n",
    "\n"
   ]
  },
  {
   "cell_type": "code",
   "execution_count": 16,
   "metadata": {},
   "outputs": [
    {
     "name": "stdout",
     "output_type": "stream",
     "text": [
      "Downloading data from http://download.tensorflow.org/data/iris_training.csv\n",
      "8192/2194 [================================================================================================================]8192/2194 [================================================================================================================] - 0s 0us/step\n",
      "\n",
      "Downloading data from http://download.tensorflow.org/data/iris_test.csv\n",
      "8192/573 [============================================================================================================================================================================================================================================================================================================================================================================================================================================]8192/573 [============================================================================================================================================================================================================================================================================================================================================================================================================================================] - 0s 0us/step\n",
      "\n",
      "INFO:tensorflow:Using default config.\n"
     ]
    },
    {
     "name": "stderr",
     "output_type": "stream",
     "text": [
      "INFO:tensorflow:Using default config.\n"
     ]
    },
    {
     "name": "stdout",
     "output_type": "stream",
     "text": [
      "WARNING:tensorflow:Using temporary folder as model directory: /tmp/tmpu6uwkypl\n"
     ]
    },
    {
     "name": "stderr",
     "output_type": "stream",
     "text": [
      "WARNING:tensorflow:Using temporary folder as model directory: /tmp/tmpu6uwkypl\n"
     ]
    },
    {
     "name": "stdout",
     "output_type": "stream",
     "text": [
      "INFO:tensorflow:Using config: {'_model_dir': '/tmp/tmpu6uwkypl', '_tf_random_seed': None, '_save_summary_steps': 100, '_save_checkpoints_steps': None, '_save_checkpoints_secs': 600, '_session_config': None, '_keep_checkpoint_max': 5, '_keep_checkpoint_every_n_hours': 10000, '_log_step_count_steps': 100, '_service': None, '_cluster_spec': <tensorflow.python.training.server_lib.ClusterSpec object at 0x7f51d81ad438>, '_task_type': 'worker', '_task_id': 0, '_master': '', '_is_chief': True, '_num_ps_replicas': 0, '_num_worker_replicas': 1}\n"
     ]
    },
    {
     "name": "stderr",
     "output_type": "stream",
     "text": [
      "INFO:tensorflow:Using config: {'_model_dir': '/tmp/tmpu6uwkypl', '_tf_random_seed': None, '_save_summary_steps': 100, '_save_checkpoints_steps': None, '_save_checkpoints_secs': 600, '_session_config': None, '_keep_checkpoint_max': 5, '_keep_checkpoint_every_n_hours': 10000, '_log_step_count_steps': 100, '_service': None, '_cluster_spec': <tensorflow.python.training.server_lib.ClusterSpec object at 0x7f51d81ad438>, '_task_type': 'worker', '_task_id': 0, '_master': '', '_is_chief': True, '_num_ps_replicas': 0, '_num_worker_replicas': 1}\n"
     ]
    },
    {
     "name": "stdout",
     "output_type": "stream",
     "text": [
      "INFO:tensorflow:Create CheckpointSaverHook.\n"
     ]
    },
    {
     "name": "stderr",
     "output_type": "stream",
     "text": [
      "INFO:tensorflow:Create CheckpointSaverHook.\n"
     ]
    },
    {
     "name": "stdout",
     "output_type": "stream",
     "text": [
      "INFO:tensorflow:Saving checkpoints for 1 into /tmp/tmpu6uwkypl/model.ckpt.\n"
     ]
    },
    {
     "name": "stderr",
     "output_type": "stream",
     "text": [
      "INFO:tensorflow:Saving checkpoints for 1 into /tmp/tmpu6uwkypl/model.ckpt.\n"
     ]
    },
    {
     "name": "stdout",
     "output_type": "stream",
     "text": [
      "INFO:tensorflow:loss = 111.11407, step = 1\n"
     ]
    },
    {
     "name": "stderr",
     "output_type": "stream",
     "text": [
      "INFO:tensorflow:loss = 111.11407, step = 1\n"
     ]
    },
    {
     "name": "stdout",
     "output_type": "stream",
     "text": [
      "INFO:tensorflow:global_step/sec: 1381.94\n"
     ]
    },
    {
     "name": "stderr",
     "output_type": "stream",
     "text": [
      "INFO:tensorflow:global_step/sec: 1381.94\n"
     ]
    },
    {
     "name": "stdout",
     "output_type": "stream",
     "text": [
      "INFO:tensorflow:loss = 17.297813, step = 101 (0.073 sec)\n"
     ]
    },
    {
     "name": "stderr",
     "output_type": "stream",
     "text": [
      "INFO:tensorflow:loss = 17.297813, step = 101 (0.073 sec)\n"
     ]
    },
    {
     "name": "stdout",
     "output_type": "stream",
     "text": [
      "INFO:tensorflow:global_step/sec: 1831.34\n"
     ]
    },
    {
     "name": "stderr",
     "output_type": "stream",
     "text": [
      "INFO:tensorflow:global_step/sec: 1831.34\n"
     ]
    },
    {
     "name": "stdout",
     "output_type": "stream",
     "text": [
      "INFO:tensorflow:loss = 9.810214, step = 201 (0.054 sec)\n"
     ]
    },
    {
     "name": "stderr",
     "output_type": "stream",
     "text": [
      "INFO:tensorflow:loss = 9.810214, step = 201 (0.054 sec)\n"
     ]
    },
    {
     "name": "stdout",
     "output_type": "stream",
     "text": [
      "INFO:tensorflow:global_step/sec: 1809.65\n"
     ]
    },
    {
     "name": "stderr",
     "output_type": "stream",
     "text": [
      "INFO:tensorflow:global_step/sec: 1809.65\n"
     ]
    },
    {
     "name": "stdout",
     "output_type": "stream",
     "text": [
      "INFO:tensorflow:loss = 7.6559367, step = 301 (0.055 sec)\n"
     ]
    },
    {
     "name": "stderr",
     "output_type": "stream",
     "text": [
      "INFO:tensorflow:loss = 7.6559367, step = 301 (0.055 sec)\n"
     ]
    },
    {
     "name": "stdout",
     "output_type": "stream",
     "text": [
      "INFO:tensorflow:global_step/sec: 1775.4\n"
     ]
    },
    {
     "name": "stderr",
     "output_type": "stream",
     "text": [
      "INFO:tensorflow:global_step/sec: 1775.4\n"
     ]
    },
    {
     "name": "stdout",
     "output_type": "stream",
     "text": [
      "INFO:tensorflow:loss = 8.855346, step = 401 (0.056 sec)\n"
     ]
    },
    {
     "name": "stderr",
     "output_type": "stream",
     "text": [
      "INFO:tensorflow:loss = 8.855346, step = 401 (0.056 sec)\n"
     ]
    },
    {
     "name": "stdout",
     "output_type": "stream",
     "text": [
      "INFO:tensorflow:global_step/sec: 1826.02\n"
     ]
    },
    {
     "name": "stderr",
     "output_type": "stream",
     "text": [
      "INFO:tensorflow:global_step/sec: 1826.02\n"
     ]
    },
    {
     "name": "stdout",
     "output_type": "stream",
     "text": [
      "INFO:tensorflow:loss = 3.9056554, step = 501 (0.055 sec)\n"
     ]
    },
    {
     "name": "stderr",
     "output_type": "stream",
     "text": [
      "INFO:tensorflow:loss = 3.9056554, step = 501 (0.055 sec)\n"
     ]
    },
    {
     "name": "stdout",
     "output_type": "stream",
     "text": [
      "INFO:tensorflow:global_step/sec: 1842.48\n"
     ]
    },
    {
     "name": "stderr",
     "output_type": "stream",
     "text": [
      "INFO:tensorflow:global_step/sec: 1842.48\n"
     ]
    },
    {
     "name": "stdout",
     "output_type": "stream",
     "text": [
      "INFO:tensorflow:loss = 6.391595, step = 601 (0.054 sec)\n"
     ]
    },
    {
     "name": "stderr",
     "output_type": "stream",
     "text": [
      "INFO:tensorflow:loss = 6.391595, step = 601 (0.054 sec)\n"
     ]
    },
    {
     "name": "stdout",
     "output_type": "stream",
     "text": [
      "INFO:tensorflow:global_step/sec: 1559.5\n"
     ]
    },
    {
     "name": "stderr",
     "output_type": "stream",
     "text": [
      "INFO:tensorflow:global_step/sec: 1559.5\n"
     ]
    },
    {
     "name": "stdout",
     "output_type": "stream",
     "text": [
      "INFO:tensorflow:loss = 5.8906384, step = 701 (0.064 sec)\n"
     ]
    },
    {
     "name": "stderr",
     "output_type": "stream",
     "text": [
      "INFO:tensorflow:loss = 5.8906384, step = 701 (0.064 sec)\n"
     ]
    },
    {
     "name": "stdout",
     "output_type": "stream",
     "text": [
      "INFO:tensorflow:global_step/sec: 1606.23\n"
     ]
    },
    {
     "name": "stderr",
     "output_type": "stream",
     "text": [
      "INFO:tensorflow:global_step/sec: 1606.23\n"
     ]
    },
    {
     "name": "stdout",
     "output_type": "stream",
     "text": [
      "INFO:tensorflow:loss = 2.195941, step = 801 (0.062 sec)\n"
     ]
    },
    {
     "name": "stderr",
     "output_type": "stream",
     "text": [
      "INFO:tensorflow:loss = 2.195941, step = 801 (0.062 sec)\n"
     ]
    },
    {
     "name": "stdout",
     "output_type": "stream",
     "text": [
      "INFO:tensorflow:global_step/sec: 1732.45\n"
     ]
    },
    {
     "name": "stderr",
     "output_type": "stream",
     "text": [
      "INFO:tensorflow:global_step/sec: 1732.45\n"
     ]
    },
    {
     "name": "stdout",
     "output_type": "stream",
     "text": [
      "INFO:tensorflow:loss = 5.4182415, step = 901 (0.058 sec)\n"
     ]
    },
    {
     "name": "stderr",
     "output_type": "stream",
     "text": [
      "INFO:tensorflow:loss = 5.4182415, step = 901 (0.058 sec)\n"
     ]
    },
    {
     "name": "stdout",
     "output_type": "stream",
     "text": [
      "INFO:tensorflow:Saving checkpoints for 1000 into /tmp/tmpu6uwkypl/model.ckpt.\n"
     ]
    },
    {
     "name": "stderr",
     "output_type": "stream",
     "text": [
      "INFO:tensorflow:Saving checkpoints for 1000 into /tmp/tmpu6uwkypl/model.ckpt.\n"
     ]
    },
    {
     "name": "stdout",
     "output_type": "stream",
     "text": [
      "INFO:tensorflow:Loss for final step: 3.8688936.\n"
     ]
    },
    {
     "name": "stderr",
     "output_type": "stream",
     "text": [
      "INFO:tensorflow:Loss for final step: 3.8688936.\n"
     ]
    },
    {
     "name": "stdout",
     "output_type": "stream",
     "text": [
      "INFO:tensorflow:Starting evaluation at 2018-01-30-02:01:36\n"
     ]
    },
    {
     "name": "stderr",
     "output_type": "stream",
     "text": [
      "INFO:tensorflow:Starting evaluation at 2018-01-30-02:01:36\n"
     ]
    },
    {
     "name": "stdout",
     "output_type": "stream",
     "text": [
      "INFO:tensorflow:Restoring parameters from /tmp/tmpu6uwkypl/model.ckpt-1000\n"
     ]
    },
    {
     "name": "stderr",
     "output_type": "stream",
     "text": [
      "INFO:tensorflow:Restoring parameters from /tmp/tmpu6uwkypl/model.ckpt-1000\n"
     ]
    },
    {
     "name": "stdout",
     "output_type": "stream",
     "text": [
      "INFO:tensorflow:Finished evaluation at 2018-01-30-02:01:36\n"
     ]
    },
    {
     "name": "stderr",
     "output_type": "stream",
     "text": [
      "INFO:tensorflow:Finished evaluation at 2018-01-30-02:01:36\n"
     ]
    },
    {
     "name": "stdout",
     "output_type": "stream",
     "text": [
      "INFO:tensorflow:Saving dict for global step 1000: accuracy = 0.93333334, average_loss = 0.05818855, global_step = 1000, loss = 1.7456565\n"
     ]
    },
    {
     "name": "stderr",
     "output_type": "stream",
     "text": [
      "INFO:tensorflow:Saving dict for global step 1000: accuracy = 0.93333334, average_loss = 0.05818855, global_step = 1000, loss = 1.7456565\n"
     ]
    },
    {
     "name": "stdout",
     "output_type": "stream",
     "text": [
      "\n",
      "Test set accuracy: 0.933\n",
      "\n",
      "INFO:tensorflow:Restoring parameters from /tmp/tmpu6uwkypl/model.ckpt-1000\n"
     ]
    },
    {
     "name": "stderr",
     "output_type": "stream",
     "text": [
      "INFO:tensorflow:Restoring parameters from /tmp/tmpu6uwkypl/model.ckpt-1000\n"
     ]
    },
    {
     "name": "stdout",
     "output_type": "stream",
     "text": [
      "\n",
      "Prediction is \"Sentosa\" (99.9%), expected \"Setosa\"\n",
      "\n",
      "Prediction is \"Versicolor\" (99.5%), expected \"Versicolor\"\n",
      "\n",
      "Prediction is \"Virginica\" (98.6%), expected \"Virginica\"\n"
     ]
    }
   ],
   "source": [
    "path = 'models/samples/core/get_started/'\n",
    "file = 'premade_estimators.py'\n",
    "pathfile = path+file\n",
    "%run 'models/samples/core/get_started/premade_estimator.py'\n"
   ]
  },
  {
   "cell_type": "code",
   "execution_count": 19,
   "metadata": {
    "collapsed": true
   },
   "outputs": [],
   "source": [
    "TRAIN_URL = \"http://download.tensorflow.org/data/iris_training.csv\"\n",
    "TEST_URL = \"http://download.tensorflow.org/data/iris_test.csv\"\n",
    "\n",
    "\n",
    "CSV_COLUMN_NAMES = ['SepalLength', 'SepalWidth',\n",
    "                    'PetalLength', 'PetalWidth', 'Species']\n",
    "\n",
    "\n",
    "\n",
    "def load_data(label_name='Species'):\n",
    "    \"\"\"Parses the csv file in TRAIN_URL and TEST_URL.\"\"\"\n",
    "\n",
    "    # Create a local copy of the training set.\n",
    "    train_path = tf.keras.utils.get_file(fname=TRAIN_URL.split('/')[-1],\n",
    "                                         origin=TRAIN_URL)\n",
    "    # train_path now holds the pathname: ~/.keras/datasets/iris_training.csv\n",
    "\n",
    "    # Parse the local CSV file.\n",
    "    train = pd.read_csv(filepath_or_buffer=train_path,\n",
    "                        names=CSV_COLUMN_NAMES,  # list of column names\n",
    "                        header=0  # ignore the first row of the CSV file.\n",
    "                       )\n",
    "    # train now holds a pandas DataFrame, which is data structure\n",
    "    # analogous to a table.\n",
    "\n",
    "    # 1. Assign the DataFrame's labels (the right-most column) to train_label.\n",
    "    # 2. Delete (pop) the labels from the DataFrame.\n",
    "    # 3. Assign the remainder of the DataFrame to train_features\n",
    "    train_features, train_label = train, train.pop(label_name)\n",
    "\n",
    "    # Apply the preceding logic to the test set.\n",
    "    test_path = tf.keras.utils.get_file(TEST_URL.split('/')[-1], TEST_URL)\n",
    "    test = pd.read_csv(test_path, names=CSV_COLUMN_NAMES, header=0)\n",
    "    test_features, test_label = test, test.pop(label_name)\n",
    "\n",
    "    # Return four DataFrames.\n",
    "    return (train_features, train_label), (test_features, test_label)"
   ]
  },
  {
   "cell_type": "code",
   "execution_count": 20,
   "metadata": {
    "collapsed": true
   },
   "outputs": [],
   "source": [
    "# Call load_data() to parse the CSV file.\n",
    "(train_feature, train_label), (test_feature, test_label) = load_data()"
   ]
  },
  {
   "cell_type": "code",
   "execution_count": 24,
   "metadata": {},
   "outputs": [
    {
     "data": {
      "text/plain": [
       "0     1\n",
       "1     2\n",
       "2     0\n",
       "3     1\n",
       "4     1\n",
       "5     1\n",
       "6     0\n",
       "7     2\n",
       "8     1\n",
       "9     2\n",
       "10    2\n",
       "11    0\n",
       "12    2\n",
       "13    1\n",
       "14    1\n",
       "15    0\n",
       "16    1\n",
       "17    0\n",
       "18    0\n",
       "19    2\n",
       "20    0\n",
       "21    1\n",
       "22    2\n",
       "23    1\n",
       "24    1\n",
       "25    1\n",
       "26    0\n",
       "27    1\n",
       "28    2\n",
       "29    1\n",
       "Name: Species, dtype: int64"
      ]
     },
     "execution_count": 24,
     "metadata": {},
     "output_type": "execute_result"
    }
   ],
   "source": [
    "train_feature\n",
    "train_label\n",
    "test_feature\n",
    "test_label"
   ]
  },
  {
   "cell_type": "code",
   "execution_count": 26,
   "metadata": {},
   "outputs": [
    {
     "data": {
      "text/plain": [
       "[_NumericColumn(key='SepalLength', shape=(1,), default_value=None, dtype=tf.float32, normalizer_fn=None)]"
      ]
     },
     "execution_count": 26,
     "metadata": {},
     "output_type": "execute_result"
    }
   ],
   "source": [
    "[tf.feature_column.numeric_column(key='SepalLength')]"
   ]
  },
  {
   "cell_type": "code",
   "execution_count": 27,
   "metadata": {},
   "outputs": [
    {
     "ename": "NameError",
     "evalue": "name 'train_x' is not defined",
     "output_type": "error",
     "traceback": [
      "\u001b[0;31m---------------------------------------------------------------------------\u001b[0m",
      "\u001b[0;31mNameError\u001b[0m                                 Traceback (most recent call last)",
      "\u001b[0;32m<ipython-input-27-b6d1322202e9>\u001b[0m in \u001b[0;36m<module>\u001b[0;34m()\u001b[0m\n\u001b[1;32m      1\u001b[0m \u001b[0;31m# Create feature columns for all features.\u001b[0m\u001b[0;34m\u001b[0m\u001b[0;34m\u001b[0m\u001b[0m\n\u001b[1;32m      2\u001b[0m \u001b[0mmy_feature_columns\u001b[0m \u001b[0;34m=\u001b[0m \u001b[0;34m[\u001b[0m\u001b[0;34m]\u001b[0m\u001b[0;34m\u001b[0m\u001b[0m\n\u001b[0;32m----> 3\u001b[0;31m \u001b[0;32mfor\u001b[0m \u001b[0mkey\u001b[0m \u001b[0;32min\u001b[0m \u001b[0mtrain_x\u001b[0m\u001b[0;34m.\u001b[0m\u001b[0mkeys\u001b[0m\u001b[0;34m(\u001b[0m\u001b[0;34m)\u001b[0m\u001b[0;34m:\u001b[0m\u001b[0;34m\u001b[0m\u001b[0m\n\u001b[0m\u001b[1;32m      4\u001b[0m     \u001b[0mmy_feature_columns\u001b[0m\u001b[0;34m.\u001b[0m\u001b[0mappend\u001b[0m\u001b[0;34m(\u001b[0m\u001b[0mtf\u001b[0m\u001b[0;34m.\u001b[0m\u001b[0mfeature_column\u001b[0m\u001b[0;34m.\u001b[0m\u001b[0mnumeric_column\u001b[0m\u001b[0;34m(\u001b[0m\u001b[0mkey\u001b[0m\u001b[0;34m=\u001b[0m\u001b[0mkey\u001b[0m\u001b[0;34m)\u001b[0m\u001b[0;34m)\u001b[0m\u001b[0;34m\u001b[0m\u001b[0m\n",
      "\u001b[0;31mNameError\u001b[0m: name 'train_x' is not defined"
     ]
    }
   ],
   "source": [
    "# Create feature columns for all features.\n",
    "my_feature_columns = []\n",
    "for key in train_x.keys():\n",
    "    my_feature_columns.append(tf.feature_column.numeric_column(key=key))"
   ]
  },
  {
   "cell_type": "code",
   "execution_count": 28,
   "metadata": {
    "collapsed": true
   },
   "outputs": [],
   "source": [
    "my_feature_columns = [\n",
    "    tf.feature_column.numeric_column(key='SepalLength'),\n",
    "    tf.feature_column.numeric_column(key='SepalWidth'),\n",
    "    tf.feature_column.numeric_column(key='PetalLength'),\n",
    "    tf.feature_column.numeric_column(key='PetalWidth')\n",
    "]"
   ]
  },
  {
   "cell_type": "code",
   "execution_count": 29,
   "metadata": {},
   "outputs": [
    {
     "data": {
      "text/plain": [
       "[_NumericColumn(key='SepalLength', shape=(1,), default_value=None, dtype=tf.float32, normalizer_fn=None),\n",
       " _NumericColumn(key='SepalWidth', shape=(1,), default_value=None, dtype=tf.float32, normalizer_fn=None),\n",
       " _NumericColumn(key='PetalLength', shape=(1,), default_value=None, dtype=tf.float32, normalizer_fn=None),\n",
       " _NumericColumn(key='PetalWidth', shape=(1,), default_value=None, dtype=tf.float32, normalizer_fn=None)]"
      ]
     },
     "execution_count": 29,
     "metadata": {},
     "output_type": "execute_result"
    }
   ],
   "source": [
    "my_feature_columns"
   ]
  },
  {
   "cell_type": "code",
   "execution_count": 219,
   "metadata": {},
   "outputs": [
    {
     "name": "stdout",
     "output_type": "stream",
     "text": [
      "yes\n"
     ]
    }
   ],
   "source": [
    "import urllib\n",
    "import json\n",
    "\n",
    "function = \"TIME_SERIES_WEEKLY_ADJUSTED\"\n",
    "if \"ADJUSTED\" in function:\n",
    "    print('yes')\n",
    "    keyname = \"Weekly Adjusted Time Series\"\n",
    "else:\n",
    "    keyname = \"Weekly Time Series\"\n",
    "    \n",
    "company = \"VxX\"#\"AAPL\"\n",
    "url = \"https://www.alphavantage.co/query?\"+\"function=\"+function+\"&symbol=\"+company+\"&apikey=JSGML6PF72CW6F1U\"\n",
    "json_url = urllib.request.urlopen(url)\n",
    "data = json.loads(json_url.read())\n",
    "dataset = data[keyname]\n",
    "dataset = json.dumps(dataset)\n",
    "\n",
    "\n",
    "dataset_df = pd.read_json(dataset,orient='index')\n"
   ]
  },
  {
   "cell_type": "code",
   "execution_count": 220,
   "metadata": {},
   "outputs": [
    {
     "data": {
      "image/png": "[encoded data removed]",
      "text/plain": [
       "<matplotlib.figure.Figure at 0x7f51480b6048>"
      ]
     },
     "metadata": {},
     "output_type": "display_data"
    }
   ],
   "source": [
    "f = plt.figure()\n",
    "f.set_figwidth(6)\n",
    "f.set_figheight(6)\n",
    "gs = gridspec.GridSpec(1, 1)\n",
    "ax1 = f.add_subplot(gs[0,0])\n",
    "#ax2 = f.add_subplot(gs[1,0])\n",
    "#dataset_df[(dataset_df.index > '2008-08') & (dataset_df.index < '2010')].reset_index().plot(x='index', y='5. adjusted close',logy=False)\n",
    "#dataset_df[(dataset_df.index > '2008') & (dataset_df.index < '2011')].reset_index().plot(x='index', y='4. close')\n",
    "dataset_df.reset_index().plot(x='index', y='5. adjusted close',logy=True,ax=ax1)#,grid=True)\n",
    "#dataset_df.reset_index().plot(x='index', y='4. close',ax=ax2)\n",
    "#dataset_df.columns\n",
    "plt.show()\n",
    "#f.savefig('../finance/VXX_logy.png')"
   ]
  },
  {
   "cell_type": "code",
   "execution_count": 156,
   "metadata": {},
   "outputs": [
    {
     "data": {
      "text/plain": [
       "'{\"2018-01-31\": {\"1. open\": \"28.3000\", \"2. high\": \"30.8700\", \"3. low\": \"27.5800\", \"4. close\": \"29.9300\", \"5. adjusted close\": \"29.9300\", \"6. volume\": \"133017087\", \"7. dividend amount\": \"0.0000\"}, \"2018-01-26\": {\"1. open\": \"27.0300\", \"2. high\": \"28.3100\", \"3. low\": \"26.0500\", \"4. close\": \"27.6400\", \"5. adjusted close\": \"27.6400\", \"6. volume\": \"222528817\", \"7. dividend amount\": \"0.0000\"}, \"2018-01-19\": {\"1. open\": \"26.0200\", \"2. high\": \"27.9067\", \"3. low\": \"25.9600\", \"4. close\": \"26.8200\", \"5. adjusted close\": \"26.8200\", \"6. volume\": \"219964068\", \"7. dividend amount\": \"0.0000\"}, \"2018-01-12\": {\"1. open\": \"26.2400\", \"2. high\": \"26.9100\", \"3. low\": \"25.5900\", \"4. close\": \"25.8500\", \"5. adjusted close\": \"25.8500\", \"6. volume\": \"132313283\", \"7. dividend amount\": \"0.0000\"}, \"2018-01-05\": {\"1. open\": \"27.7600\", \"2. high\": \"27.9000\", \"3. low\": \"26.0100\", \"4. close\": \"26.2800\", \"5. adjusted close\": \"26.2800\", \"6. volume\": \"98809631\", \"7. dividend amount\": \"0.0000\"}, \"2017-12-29\": {\"1. open\": \"28.0400\", \"2. high\": \"28.0400\", \"3. low\": \"27.3300\", \"4. close\": \"27.9200\", \"5. adjusted close\": \"27.9200\", \"6. volume\": \"88392881\", \"7. dividend amount\": \"0.0000\"}, \"2017-12-22\": {\"1. open\": \"27.7700\", \"2. high\": \"28.2350\", \"3. low\": \"27.4000\", \"4. close\": \"27.7300\", \"5. adjusted close\": \"27.7300\", \"6. volume\": \"154286750\", \"7. dividend amount\": \"0.0000\"}, \"2017-12-15\": {\"1. open\": \"30.2400\", \"2. high\": \"30.2700\", \"3. low\": \"27.9400\", \"4. close\": \"28.1900\", \"5. adjusted close\": \"28.1900\", \"6. volume\": \"154650375\", \"7. dividend amount\": \"0.0000\"}, \"2017-12-08\": {\"1. open\": \"31.3600\", \"2. high\": \"32.9900\", \"3. low\": \"30.2800\", \"4. close\": \"30.3300\", \"5. adjusted close\": \"30.3300\", \"6. volume\": \"182444785\", \"7. dividend amount\": \"0.0000\"}, \"2017-12-01\": {\"1. open\": \"31.7400\", \"2. high\": \"36.1700\", \"3. low\": \"31.0500\", \"4. close\": \"32.8300\", \"5. adjusted close\": \"32.8300\", \"6. volume\": \"245553716\", \"7. dividend amount\": \"0.0000\"}, \"2017-11-24\": {\"1. open\": \"33.9600\", \"2. high\": \"34.0900\", \"3. low\": \"31.5000\", \"4. close\": \"31.6400\", \"5. adjusted close\": \"31.6400\", \"6. volume\": \"106598438\", \"7. dividend amount\": \"0.0000\"}, \"2017-11-17\": {\"1. open\": \"35.4200\", \"2. high\": \"37.1000\", \"3. low\": \"34.2300\", \"4. close\": \"34.4500\", \"5. adjusted close\": \"34.4500\", \"6. volume\": \"202316481\", \"7. dividend amount\": \"0.0000\"}, \"2017-11-10\": {\"1. open\": \"33.5800\", \"2. high\": \"35.9100\", \"3. low\": \"33.1100\", \"4. close\": \"34.8000\", \"5. adjusted close\": \"34.8000\", \"6. volume\": \"188081454\", \"7. dividend amount\": \"0.0000\"}, \"2017-11-03\": {\"1. open\": \"35.3500\", \"2. high\": \"35.3800\", \"3. low\": \"33.4200\", \"4. close\": \"33.6600\", \"5. adjusted close\": \"33.6600\", \"6. volume\": \"166303934\", \"7. dividend amount\": \"0.0000\"}, \"2017-10-27\": {\"1. open\": \"33.5700\", \"2. high\": \"38.8500\", \"3. low\": \"33.5400\", \"4. close\": \"34.2600\", \"5. adjusted close\": \"34.2600\", \"6. volume\": \"234505300\", \"7. dividend amount\": \"0.0000\"}, \"2017-10-20\": {\"1. open\": \"35.0300\", \"2. high\": \"36.1900\", \"3. low\": \"33.7100\", \"4. close\": \"33.7900\", \"5. adjusted close\": \"33.7900\", \"6. volume\": \"133934187\", \"7. dividend amount\": \"0.0000\"}, \"2017-10-13\": {\"1. open\": \"36.9500\", \"2. high\": \"38.2400\", \"3. low\": \"35.0300\", \"4. close\": \"35.3400\", \"5. adjusted close\": \"35.3400\", \"6. volume\": \"113269888\", \"7. dividend amount\": \"0.0000\"}, \"2017-10-06\": {\"1. open\": \"38.9600\", \"2. high\": \"38.9800\", \"3. low\": \"37.0100\", \"4. close\": \"37.0800\", \"5. adjusted close\": \"37.0800\", \"6. volume\": \"123330670\", \"7. dividend amount\": \"0.0000\"}, \"2017-09-29\": {\"1. open\": \"41.3400\", \"2. high\": \"42.5400\", \"3. low\": \"39.1000\", \"4. close\": \"39.1900\", \"5. adjusted close\": \"39.1900\", \"6. volume\": \"123432422\", \"7. dividend amount\": \"0.0000\"}, \"2017-09-22\": {\"1. open\": \"42.2500\", \"2. high\": \"42.5700\", \"3. low\": \"40.6200\", \"4. close\": \"41.2500\", \"5. adjusted close\": \"41.2500\", \"6. volume\": \"127327753\", \"7. dividend amount\": \"0.0000\"}, \"2017-09-15\": {\"1. open\": \"46.7400\", \"2. high\": \"46.7500\", \"3. low\": \"42.7300\", \"4. close\": \"42.8200\", \"5. adjusted close\": \"42.8200\", \"6. volume\": \"123757852\", \"7. dividend amount\": \"0.0000\"}, \"2017-09-08\": {\"1. open\": \"47.8700\", \"2. high\": \"50.7400\", \"3. low\": \"46.9400\", \"4. close\": \"48.5200\", \"5. adjusted close\": \"48.5200\", \"6. volume\": \"166622468\", \"7. dividend amount\": \"0.0000\"}, \"2017-09-01\": {\"1. open\": \"47.0800\", \"2. high\": \"51.0100\", \"3. low\": \"45.7200\", \"4. close\": \"46.1700\", \"5. adjusted close\": \"46.1700\", \"6. volume\": \"154433992\", \"7. dividend amount\": \"0.0000\"}, \"2017-08-25\": {\"1. open\": \"13.2000\", \"2. high\": \"50.1100\", \"3. low\": \"11.7900\", \"4. close\": \"47.6800\", \"5. adjusted close\": \"47.6800\", \"6. volume\": \"346478053\", \"7. dividend amount\": \"0.0000\"}, \"2017-08-18\": {\"1. open\": \"12.6200\", \"2. high\": \"13.7300\", \"3. low\": \"11.5800\", \"4. close\": \"13.3000\", \"5. adjusted close\": \"53.2000\", \"6. volume\": \"762314654\", \"7. dividend amount\": \"0.0000\"}, \"2017-08-11\": {\"1. open\": \"11.2000\", \"2. high\": \"14.0700\", \"3. low\": \"10.9300\", \"4. close\": \"13.6600\", \"5. adjusted close\": \"54.6400\", \"6. volume\": \"664786322\", \"7. dividend amount\": \"0.0000\"}, \"2017-08-04\": {\"1. open\": \"11.1300\", \"2. high\": \"11.3400\", \"3. low\": \"10.9900\", \"4. close\": \"11.1900\", \"5. adjusted close\": \"44.7600\", \"6. volume\": \"236704555\", \"7. dividend amount\": \"0.0000\"}, \"2017-07-28\": {\"1. open\": \"11.1900\", \"2. high\": \"11.8000\", \"3. low\": \"10.9100\", \"4. close\": \"11.2900\", \"5. adjusted close\": \"45.1600\", \"6. volume\": \"294605839\", \"7. dividend amount\": \"0.0000\"}, \"2017-07-21\": {\"1. open\": \"11.7900\", \"2. high\": \"11.9400\", \"3. low\": \"11.2000\", \"4. close\": \"11.2000\", \"5. adjusted close\": \"44.8000\", \"6. volume\": \"269004547\", \"7. dividend amount\": \"0.0000\"}, \"2017-07-14\": {\"1. open\": \"13.0900\", \"2. high\": \"13.3400\", \"3. low\": \"11.9300\", \"4. close\": \"12.0100\", \"5. adjusted close\": \"48.0400\", \"6. volume\": \"275602455\", \"7. dividend amount\": \"0.0000\"}, \"2017-07-07\": {\"1. open\": \"12.5500\", \"2. high\": \"13.6800\", \"3. low\": \"12.4700\", \"4. close\": \"13.0800\", \"5. adjusted close\": \"52.3200\", \"6. volume\": \"270323753\", \"7. dividend amount\": \"0.0000\"}, \"2017-06-30\": {\"1. open\": \"12.3800\", \"2. high\": \"14.1600\", \"3. low\": \"12.1900\", \"4. close\": \"12.7600\", \"5. adjusted close\": \"51.0400\", \"6. volume\": \"468398449\", \"7. dividend amount\": \"0.0000\"}, \"2017-06-23\": {\"1. open\": \"12.7500\", \"2. high\": \"12.9700\", \"3. low\": \"12.5000\", \"4. close\": \"12.5400\", \"5. adjusted close\": \"50.1600\", \"6. volume\": \"272422004\", \"7. dividend amount\": \"0.0000\"}, \"2017-06-16\": {\"1. open\": \"13.4800\", \"2. high\": \"13.8200\", \"3. low\": \"12.8900\", \"4. close\": \"12.9900\", \"5. adjusted close\": \"51.9600\", \"6. volume\": \"360352142\", \"7. dividend amount\": \"0.0000\"}, \"2017-06-09\": {\"1. open\": \"13.2800\", \"2. high\": \"13.9100\", \"3. low\": \"12.8500\", \"4. close\": \"13.3100\", \"5. adjusted close\": \"53.2400\", \"6. volume\": \"305031476\", \"7. dividend amount\": \"0.0000\"}, \"2017-06-02\": {\"1. open\": \"13.6600\", \"2. high\": \"13.8200\", \"3. low\": \"13.0900\", \"4. close\": \"13.2100\", \"5. adjusted close\": \"52.8400\", \"6. volume\": \"198073498\", \"7. dividend amount\": \"0.0000\"}, \"2017-05-26\": {\"1. open\": \"14.2200\", \"2. high\": \"14.2300\", \"3. low\": \"13.4500\", \"4. close\": \"13.4600\", \"5. adjusted close\": \"53.8400\", \"6. volume\": \"255239673\", \"7. dividend amount\": \"0.0000\"}, \"2017-05-19\": {\"1. open\": \"13.9300\", \"2. high\": \"16.1100\", \"3. low\": \"13.5500\", \"4. close\": \"14.6400\", \"5. adjusted close\": \"58.5600\", \"6. volume\": \"517582495\", \"7. dividend amount\": \"0.0000\"}, \"2017-05-12\": {\"1. open\": \"14.2600\", \"2. high\": \"14.6100\", \"3. low\": \"13.8600\", \"4. close\": \"14.0400\", \"5. adjusted close\": \"56.1600\", \"6. volume\": \"236052933\", \"7. dividend amount\": \"0.0000\"}, \"2017-05-05\": {\"1. open\": \"14.8600\", \"2. high\": \"14.9000\", \"3. low\": \"14.2900\", \"4. close\": \"14.4500\", \"5. adjusted close\": \"57.8000\", \"6. volume\": \"233656726\", \"7. dividend amount\": \"0.0000\"}, \"2017-04-28\": {\"1. open\": \"15.8300\", \"2. high\": \"16.0600\", \"3. low\": \"14.9700\", \"4. close\": \"15.0100\", \"5. adjusted close\": \"60.0400\", \"6. volume\": \"245538083\", \"7. dividend amount\": \"0.0000\"}, \"2017-04-21\": {\"1. open\": \"17.9600\", \"2. high\": \"17.9900\", \"3. low\": \"16.8300\", \"4. close\": \"17.2000\", \"5. adjusted close\": \"68.8000\", \"6. volume\": \"314493264\", \"7. dividend amount\": \"0.0000\"}, \"2017-04-13\": {\"1. open\": \"16.5200\", \"2. high\": \"18.4000\", \"3. low\": \"16.3200\", \"4. close\": \"18.2600\", \"5. adjusted close\": \"73.0400\", \"6. volume\": \"315565110\", \"7. dividend amount\": \"0.0000\"}, \"2017-04-07\": {\"1. open\": \"15.8100\", \"2. high\": \"16.5200\", \"3. low\": \"15.3300\", \"4. close\": \"16.4500\", \"5. adjusted close\": \"65.8000\", \"6. volume\": \"298683044\", \"7. dividend amount\": \"0.0000\"}, \"2017-03-31\": {\"1. open\": \"17.4100\", \"2. high\": \"17.5200\", \"3. low\": \"15.3000\", \"4. close\": \"15.7900\", \"5. adjusted close\": \"63.1600\", \"6. volume\": \"262048356\", \"7. dividend amount\": \"0.0000\"}, \"2017-03-24\": {\"1. open\": \"15.7900\", \"2. high\": \"17.5000\", \"3. low\": \"15.4100\", \"4. close\": \"16.7700\", \"5. adjusted close\": \"67.0800\", \"6. volume\": \"373884673\", \"7. dividend amount\": \"0.0000\"}, \"2017-03-17\": {\"1. open\": \"16.9300\", \"2. high\": \"17.0900\", \"3. low\": \"15.5700\", \"4. close\": \"15.8100\", \"5. adjusted close\": \"63.2400\", \"6. volume\": \"213223341\", \"7. dividend amount\": \"0.0000\"}, \"2017-03-10\": {\"1. open\": \"17.5000\", \"2. high\": \"17.5800\", \"3. low\": \"16.8700\", \"4. close\": \"17.0100\", \"5. adjusted close\": \"68.0400\", \"6. volume\": \"186372387\", \"7. dividend amount\": \"0.0000\"}, \"2017-03-03\": {\"1. open\": \"18.0800\", \"2. high\": \"18.5500\", \"3. low\": \"17.4400\", \"4. close\": \"17.5400\", \"5. adjusted close\": \"70.1600\", \"6. volume\": \"217118873\", \"7. dividend amount\": \"0.0000\"}, \"2017-02-24\": {\"1. open\": \"17.3000\", \"2. high\": \"19.0600\", \"3. low\": \"17.2400\", \"4. close\": \"18.0900\", \"5. adjusted close\": \"72.3600\", \"6. volume\": \"195866246\", \"7. dividend amount\": \"0.0000\"}, \"2017-02-17\": {\"1. open\": \"17.8900\", \"2. high\": \"18.4000\", \"3. low\": \"16.7600\", \"4. close\": \"17.5400\", \"5. adjusted close\": \"70.1600\", \"6. volume\": \"286622955\", \"7. dividend amount\": \"0.0000\"}, \"2017-02-10\": {\"1. open\": \"19.0300\", \"2. high\": \"19.2700\", \"3. low\": \"18.0800\", \"4. close\": \"18.2100\", \"5. adjusted close\": \"72.8400\", \"6. volume\": \"186421218\", \"7. dividend amount\": \"0.0000\"}, \"2017-02-03\": {\"1. open\": \"19.3500\", \"2. high\": \"20.3200\", \"3. low\": \"18.6200\", \"4. close\": \"18.8200\", \"5. adjusted close\": \"75.2800\", \"6. volume\": \"225053955\", \"7. dividend amount\": \"0.0000\"}, \"2017-01-27\": {\"1. open\": \"20.7100\", \"2. high\": \"21.1000\", \"3. low\": \"18.8900\", \"4. close\": \"18.9700\", \"5. adjusted close\": \"75.8800\", \"6. volume\": \"181889721\", \"7. dividend amount\": \"0.0000\"}, \"2017-01-20\": {\"1. open\": \"21.7500\", \"2. high\": \"21.8200\", \"3. low\": \"20.6800\", \"4. close\": \"20.7100\", \"5. adjusted close\": \"82.8400\", \"6. volume\": \"167991188\", \"7. dividend amount\": \"0.0000\"}, \"2017-01-13\": {\"1. open\": \"22.2000\", \"2. high\": \"22.5100\", \"3. low\": \"21.1600\", \"4. close\": \"21.4500\", \"5. adjusted close\": \"85.8000\", \"6. volume\": \"188164325\", \"7. dividend amount\": \"0.0000\"}, \"2017-01-06\": {\"1. open\": \"24.4800\", \"2. high\": \"24.6625\", \"3. low\": \"21.6300\", \"4. close\": \"22.1300\", \"5. adjusted close\": \"88.5200\", \"6. volume\": \"143441806\", \"7. dividend amount\": \"0.0000\"}, \"2016-12-30\": {\"1. open\": \"24.1100\", \"2. high\": \"25.7900\", \"3. low\": \"23.6200\", \"4. close\": \"25.5100\", \"5. adjusted close\": \"102.0400\", \"6. volume\": \"104246428\", \"7. dividend amount\": \"0.0000\"}, \"2016-12-23\": {\"1. open\": \"25.3300\", \"2. high\": \"25.3400\", \"3. low\": \"23.7400\", \"4. close\": \"24.1500\", \"5. adjusted close\": \"96.6000\", \"6. volume\": \"114748728\", \"7. dividend amount\": \"0.0000\"}, \"2016-12-16\": {\"1. open\": \"26.0000\", \"2. high\": \"26.8700\", \"3. low\": \"25.4500\", \"4. close\": \"25.6100\", \"5. adjusted close\": \"102.4400\", \"6. volume\": \"181585757\", \"7. dividend amount\": \"0.0000\"}, \"2016-12-09\": {\"1. open\": \"27.9600\", \"2. high\": \"28.0800\", \"3. low\": \"25.5100\", \"4. close\": \"25.9700\", \"5. adjusted close\": \"103.8800\", \"6. volume\": \"187190661\", \"7. dividend amount\": \"0.0000\"}, \"2016-12-02\": {\"1. open\": \"28.1500\", \"2. high\": \"29.4800\", \"3. low\": \"27.4000\", \"4. close\": \"28.9700\", \"5. adjusted close\": \"115.8800\", \"6. volume\": \"156588851\", \"7. dividend amount\": \"0.0000\"}, \"2016-11-25\": {\"1. open\": \"28.7200\", \"2. high\": \"28.7400\", \"3. low\": \"27.6400\", \"4. close\": \"27.8200\", \"5. adjusted close\": \"111.2800\", \"6. volume\": \"95592472\", \"7. dividend amount\": \"0.0000\"}, \"2016-11-18\": {\"1. open\": \"31.6000\", \"2. high\": \"32.4600\", \"3. low\": \"28.8900\", \"4. close\": \"29.0600\", \"5. adjusted close\": \"116.2400\", \"6. volume\": \"178788632\", \"7. dividend amount\": \"0.0000\"}, \"2016-11-11\": {\"1. open\": \"34.6600\", \"2. high\": \"35.0300\", \"3. low\": \"30.1900\", \"4. close\": \"31.4400\", \"5. adjusted close\": \"125.7600\", \"6. volume\": \"319803825\", \"7. dividend amount\": \"0.0000\"}, \"2016-11-04\": {\"1. open\": \"33.2400\", \"2. high\": \"38.3700\", \"3. low\": \"33.1500\", \"4. close\": \"37.9400\", \"5. adjusted close\": \"151.7600\", \"6. volume\": \"244504511\", \"7. dividend amount\": \"0.0000\"}, \"2016-10-28\": {\"1. open\": \"30.8800\", \"2. high\": \"34.0000\", \"3. low\": \"30.3400\", \"4. close\": \"33.4300\", \"5. adjusted close\": \"133.7200\", \"6. volume\": \"171003968\", \"7. dividend amount\": \"0.0000\"}, \"2016-10-21\": {\"1. open\": \"34.8300\", \"2. high\": \"35.3500\", \"3. low\": \"31.5300\", \"4. close\": \"31.5700\", \"5. adjusted close\": \"126.2800\", \"6. volume\": \"153617008\", \"7. dividend amount\": \"0.0000\"}, \"2016-10-14\": {\"1. open\": \"32.8600\", \"2. high\": \"36.6300\", \"3. low\": \"32.2728\", \"4. close\": \"35.0600\", \"5. adjusted close\": \"140.2400\", \"6. volume\": \"210326340\", \"7. dividend amount\": \"0.0000\"}, \"2016-10-07\": {\"1. open\": \"34.4100\", \"2. high\": \"34.7000\", \"3. low\": \"32.8800\", \"4. close\": \"33.2800\", \"5. adjusted close\": \"133.1200\", \"6. volume\": \"174768156\", \"7. dividend amount\": \"0.0000\"}, \"2016-09-30\": {\"1. open\": \"35.0400\", \"2. high\": \"36.6400\", \"3. low\": \"33.0000\", \"4. close\": \"34.0700\", \"5. adjusted close\": \"136.2800\", \"6. volume\": \"242811265\", \"7. dividend amount\": \"0.0000\"}, \"2016-09-23\": {\"1. open\": \"37.5600\", \"2. high\": \"38.6700\", \"3. low\": \"33.3600\", \"4. close\": \"33.8000\", \"5. adjusted close\": \"135.2000\", \"6. volume\": \"208619523\", \"7. dividend amount\": \"0.0000\"}, \"2016-09-16\": {\"1. open\": \"39.2900\", \"2. high\": \"42.4100\", \"3. low\": \"35.8800\", \"4. close\": \"38.9100\", \"5. adjusted close\": \"155.6400\", \"6. volume\": \"354132058\", \"7. dividend amount\": \"0.0000\"}, \"2016-09-09\": {\"1. open\": \"34.4700\", \"2. high\": \"38.9500\", \"3. low\": \"33.3200\", \"4. close\": \"38.8900\", \"5. adjusted close\": \"155.5600\", \"6. volume\": \"146303305\", \"7. dividend amount\": \"0.0000\"}, \"2016-09-02\": {\"1. open\": \"36.9700\", \"2. high\": \"37.1700\", \"3. low\": \"34.7500\", \"4. close\": \"34.8000\", \"5. adjusted close\": \"139.2000\", \"6. volume\": \"131333786\", \"7. dividend amount\": \"0.0000\"}, \"2016-08-26\": {\"1. open\": \"36.3800\", \"2. high\": \"38.3500\", \"3. low\": \"35.6600\", \"4. close\": \"37.1100\", \"5. adjusted close\": \"148.4400\", \"6. volume\": \"160300485\", \"7. dividend amount\": \"0.0000\"}, \"2016-08-19\": {\"1. open\": \"36.5400\", \"2. high\": \"38.4400\", \"3. low\": \"35.9600\", \"4. close\": \"36.1300\", \"5. adjusted close\": \"144.5200\", \"6. volume\": \"136704559\", \"7. dividend amount\": \"0.0000\"}, \"2016-08-12\": {\"1. open\": \"9.4000\", \"2. high\": \"38.2100\", \"3. low\": \"9.3000\", \"4. close\": \"36.9500\", \"5. adjusted close\": \"147.8000\", \"6. volume\": \"169976329\", \"7. dividend amount\": \"0.0000\"}, \"2016-08-05\": {\"1. open\": \"10.1100\", \"2. high\": \"10.7100\", \"3. low\": \"9.3900\", \"4. close\": \"9.5208\", \"5. adjusted close\": \"152.3328\", \"6. volume\": \"323349875\", \"7. dividend amount\": \"0.0000\"}, \"2016-07-29\": {\"1. open\": \"11.1000\", \"2. high\": \"11.5350\", \"3. low\": \"10.1000\", \"4. close\": \"10.1800\", \"5. adjusted close\": \"162.8800\", \"6. volume\": \"297433283\", \"7. dividend amount\": \"0.0000\"}, \"2016-07-22\": {\"1. open\": \"11.7200\", \"2. high\": \"11.7800\", \"3. low\": \"11.0400\", \"4. close\": \"11.1708\", \"5. adjusted close\": \"178.7328\", \"6. volume\": \"282879064\", \"7. dividend amount\": \"0.0000\"}, \"2016-07-15\": {\"1. open\": \"12.0100\", \"2. high\": \"12.2500\", \"3. low\": \"11.5300\", \"4. close\": \"11.6800\", \"5. adjusted close\": \"186.8800\", \"6. volume\": \"308966903\", \"7. dividend amount\": \"0.0000\"}, \"2016-07-08\": {\"1. open\": \"13.6200\", \"2. high\": \"14.1450\", \"3. low\": \"12.1200\", \"4. close\": \"12.2100\", \"5. adjusted close\": \"195.3600\", \"6. volume\": \"298047447\", \"7. dividend amount\": \"0.0000\"}, \"2016-07-01\": {\"1. open\": \"16.9000\", \"2. high\": \"17.8700\", \"3. low\": \"13.3100\", \"4. close\": \"13.3900\", \"5. adjusted close\": \"214.2400\", \"6. volume\": \"549180602\", \"7. dividend amount\": \"0.0000\"}, \"2016-06-24\": {\"1. open\": \"14.5500\", \"2. high\": \"17.2000\", \"3. low\": \"13.5201\", \"4. close\": \"16.9200\", \"5. adjusted close\": \"270.7200\", \"6. volume\": \"532952309\", \"7. dividend amount\": \"0.0000\"}, \"2016-06-17\": {\"1. open\": \"15.0200\", \"2. high\": \"17.3000\", \"3. low\": \"14.6600\", \"4. close\": \"15.5800\", \"5. adjusted close\": \"249.2800\", \"6. volume\": \"624246129\", \"7. dividend amount\": \"0.0000\"}, \"2016-06-10\": {\"1. open\": \"12.9500\", \"2. high\": \"14.4550\", \"3. low\": \"12.6000\", \"4. close\": \"14.3900\", \"5. adjusted close\": \"230.2400\", \"6. volume\": \"308487610\", \"7. dividend amount\": \"0.0000\"}, \"2016-06-03\": {\"1. open\": \"13.3900\", \"2. high\": \"13.9700\", \"3. low\": \"12.9400\", \"4. close\": \"13.0200\", \"5. adjusted close\": \"208.3200\", \"6. volume\": \"244713585\", \"7. dividend amount\": \"0.0000\"}, \"2016-05-27\": {\"1. open\": \"15.0700\", \"2. high\": \"15.2074\", \"3. low\": \"13.5700\", \"4. close\": \"13.5850\", \"5. adjusted close\": \"217.3600\", \"6. volume\": \"249882715\", \"7. dividend amount\": \"0.0000\"}, \"2016-05-20\": {\"1. open\": \"15.5800\", \"2. high\": \"16.4700\", \"3. low\": \"14.7600\", \"4. close\": \"15.1000\", \"5. adjusted close\": \"241.6000\", \"6. volume\": \"394101825\", \"7. dividend amount\": \"0.0000\"}, \"2016-05-13\": {\"1. open\": \"15.8000\", \"2. high\": \"15.8500\", \"3. low\": \"14.6400\", \"4. close\": \"15.6708\", \"5. adjusted close\": \"250.7328\", \"6. volume\": \"330729475\", \"7. dividend amount\": \"0.0000\"}, \"2016-05-06\": {\"1. open\": \"16.4800\", \"2. high\": \"17.1000\", \"3. low\": \"15.6200\", \"4. close\": \"15.9700\", \"5. adjusted close\": \"255.5200\", \"6. volume\": \"351482640\", \"7. dividend amount\": \"0.0000\"}, \"2016-04-29\": {\"1. open\": \"16.2400\", \"2. high\": \"17.5600\", \"3. low\": \"15.1000\", \"4. close\": \"16.8300\", \"5. adjusted close\": \"269.2800\", \"6. volume\": \"363939211\", \"7. dividend amount\": \"0.0000\"}, \"2016-04-22\": {\"1. open\": \"17.1300\", \"2. high\": \"17.1400\", \"3. low\": \"15.5600\", \"4. close\": \"15.9992\", \"5. adjusted close\": \"255.9872\", \"6. volume\": \"314632368\", \"7. dividend amount\": \"0.0000\"}, \"2016-04-15\": {\"1. open\": \"18.1500\", \"2. high\": \"19.1900\", \"3. low\": \"16.9000\", \"4. close\": \"16.9300\", \"5. adjusted close\": \"270.8800\", \"6. volume\": \"299065384\", \"7. dividend amount\": \"0.0000\"}, \"2016-04-08\": {\"1. open\": \"17.0900\", \"2. high\": \"19.3700\", \"3. low\": \"17.0000\", \"4. close\": \"18.4608\", \"5. adjusted close\": \"295.3728\", \"6. volume\": \"388483660\", \"7. dividend amount\": \"0.0000\"}, \"2016-04-01\": {\"1. open\": \"19.1200\", \"2. high\": \"19.4500\", \"3. low\": \"17.0600\", \"4. close\": \"17.1200\", \"5. adjusted close\": \"273.9200\", \"6. volume\": \"347439786\", \"7. dividend amount\": \"0.0000\"}, \"2016-03-24\": {\"1. open\": \"19.3300\", \"2. high\": \"20.2500\", \"3. low\": \"18.4000\", \"4. close\": \"19.3000\", \"5. adjusted close\": \"308.8000\", \"6. volume\": \"275903428\", \"7. dividend amount\": \"0.0000\"}, \"2016-03-18\": {\"1. open\": \"21.0400\", \"2. high\": \"21.2700\", \"3. low\": \"19.0000\", \"4. close\": \"19.3500\", \"5. adjusted close\": \"309.6000\", \"6. volume\": \"314450896\", \"7. dividend amount\": \"0.0000\"}, \"2016-03-11\": {\"1. open\": \"22.2800\", \"2. high\": \"23.0800\", \"3. low\": \"20.8900\", \"4. close\": \"20.9000\", \"5. adjusted close\": \"334.4000\", \"6. volume\": \"388049938\", \"7. dividend amount\": \"0.0000\"}, \"2016-03-04\": {\"1. open\": \"24.3950\", \"2. high\": \"24.9200\", \"3. low\": \"21.1300\", \"4. close\": \"21.8592\", \"5. adjusted close\": \"349.7472\", \"6. volume\": \"314917418\", \"7. dividend amount\": \"0.0000\"}, \"2016-02-26\": {\"1. open\": \"24.7100\", \"2. high\": \"26.6500\", \"3. low\": \"23.6400\", \"4. close\": \"24.5000\", \"5. adjusted close\": \"392.0000\", \"6. volume\": \"309550334\", \"7. dividend amount\": \"0.0000\"}, \"2016-02-19\": {\"1. open\": \"27.5800\", \"2. high\": \"28.0600\", \"3. low\": \"25.3600\", \"4. close\": \"25.4200\", \"5. adjusted close\": \"406.7200\", \"6. volume\": \"232734683\", \"7. dividend amount\": \"0.0000\"}, \"2016-02-12\": {\"1. open\": \"27.3700\", \"2. high\": \"30.8500\", \"3. low\": \"26.8400\", \"4. close\": \"28.5600\", \"5. adjusted close\": \"456.9600\", \"6. volume\": \"488536435\", \"7. dividend amount\": \"0.0000\"}, \"2016-02-05\": {\"1. open\": \"24.2500\", \"2. high\": \"26.8600\", \"3. low\": \"23.5500\", \"4. close\": \"26.3600\", \"5. adjusted close\": \"421.7600\", \"6. volume\": \"406890150\", \"7. dividend amount\": \"0.0000\"}, \"2016-01-29\": {\"1. open\": \"25.3150\", \"2. high\": \"26.3800\", \"3. low\": \"24.0450\", \"4. close\": \"24.1200\", \"5. adjusted close\": \"385.9200\", \"6. volume\": \"405188701\", \"7. dividend amount\": \"0.0000\"}, \"2016-01-22\": {\"1. open\": \"25.6900\", \"2. high\": \"29.7100\", \"3. low\": \"24.9800\", \"4. close\": \"25.0000\", \"5. adjusted close\": \"400.0000\", \"6. volume\": \"497980101\", \"7. dividend amount\": \"0.0000\"}, \"2016-01-15\": {\"1. open\": \"24.5500\", \"2. high\": \"27.6400\", \"3. low\": \"22.3900\", \"4. close\": \"26.7000\", \"5. adjusted close\": \"427.2000\", \"6. volume\": \"615125126\", \"7. dividend amount\": \"0.0000\"}, \"2016-01-08\": {\"1. open\": \"21.6600\", \"2. high\": \"25.1600\", \"3. low\": \"20.4800\", \"4. close\": \"24.8300\", \"5. adjusted close\": \"397.2800\", \"6. volume\": \"445351887\", \"7. dividend amount\": \"0.0000\"}, \"2015-12-31\": {\"1. open\": \"19.9600\", \"2. high\": \"20.3600\", \"3. low\": \"18.9400\", \"4. close\": \"20.1000\", \"5. adjusted close\": \"321.6000\", \"6. volume\": \"144634606\", \"7. dividend amount\": \"0.0000\"}, \"2015-12-24\": {\"1. open\": \"20.9600\", \"2. high\": \"21.7750\", \"3. low\": \"19.1100\", \"4. close\": \"19.6200\", \"5. adjusted close\": \"313.9200\", \"6. volume\": \"188157138\", \"7. dividend amount\": \"0.0000\"}, \"2015-12-18\": {\"1. open\": \"23.1400\", \"2. high\": \"24.2800\", \"3. low\": \"18.9700\", \"4. close\": \"21.7700\", \"5. adjusted close\": \"348.3200\", \"6. volume\": \"490706897\", \"7. dividend amount\": \"0.0000\"}, \"2015-12-11\": {\"1. open\": \"18.2300\", \"2. high\": \"23.7300\", \"3. low\": \"18.2300\", \"4. close\": \"23.3200\", \"5. adjusted close\": \"373.1200\", \"6. volume\": \"401838249\", \"7. dividend amount\": \"0.0000\"}, \"2015-12-04\": {\"1. open\": \"18.7800\", \"2. high\": \"20.4800\", \"3. low\": \"17.7200\", \"4. close\": \"18.2185\", \"5. adjusted close\": \"291.4960\", \"6. volume\": \"308632770\", \"7. dividend amount\": \"0.0000\"}, \"2015-11-27\": {\"1. open\": \"19.3200\", \"2. high\": \"19.6700\", \"3. low\": \"18.6210\", \"4. close\": \"18.9100\", \"5. adjusted close\": \"302.5600\", \"6. volume\": \"152852585\", \"7. dividend amount\": \"0.0000\"}, \"2015-11-20\": {\"1. open\": \"21.8900\", \"2. high\": \"22.0600\", \"3. low\": \"19.1900\", \"4. close\": \"19.4300\", \"5. adjusted close\": \"310.8800\", \"6. volume\": \"293509858\", \"7. dividend amount\": \"0.0000\"}, \"2015-11-13\": {\"1. open\": \"18.1500\", \"2. high\": \"22.0700\", \"3. low\": \"18.0700\", \"4. close\": \"21.9600\", \"5. adjusted close\": \"351.3600\", \"6. volume\": \"304515129\", \"7. dividend amount\": \"0.0000\"}, \"2015-11-06\": {\"1. open\": \"18.8000\", \"2. high\": \"19.1700\", \"3. low\": \"17.7210\", \"4. close\": \"18.0400\", \"5. adjusted close\": \"288.6400\", \"6. volume\": \"255381861\", \"7. dividend amount\": \"0.0000\"}, \"2015-10-30\": {\"1. open\": \"18.9100\", \"2. high\": \"19.5300\", \"3. low\": \"18.2700\", \"4. close\": \"18.8300\", \"5. adjusted close\": \"301.2800\", \"6. volume\": \"256547610\", \"7. dividend amount\": \"0.0000\"}, \"2015-10-23\": {\"1. open\": \"19.7500\", \"2. high\": \"20.3900\", \"3. low\": \"17.9600\", \"4. close\": \"18.6300\", \"5. adjusted close\": \"298.0800\", \"6. volume\": \"367624083\", \"7. dividend amount\": \"0.0000\"}, \"2015-10-16\": {\"1. open\": \"21.2100\", \"2. high\": \"21.9900\", \"3. low\": \"19.5400\", \"4. close\": \"19.6900\", \"5. adjusted close\": \"315.0400\", \"6. volume\": \"307051063\", \"7. dividend amount\": \"0.0000\"}, \"2015-10-09\": {\"1. open\": \"23.5300\", \"2. high\": \"23.6000\", \"3. low\": \"20.9700\", \"4. close\": \"21.2700\", \"5. adjusted close\": \"340.3200\", \"6. volume\": \"268349925\", \"7. dividend amount\": \"0.0000\"}, \"2015-10-02\": {\"1. open\": \"25.9700\", \"2. high\": \"27.5400\", \"3. low\": \"24.0000\", \"4. close\": \"24.0300\", \"5. adjusted close\": \"384.4800\", \"6. volume\": \"373950244\", \"7. dividend amount\": \"0.0000\"}, \"2015-09-25\": {\"1. open\": \"23.9200\", \"2. high\": \"26.1900\", \"3. low\": \"22.9600\", \"4. close\": \"25.0900\", \"5. adjusted close\": \"401.4400\", \"6. volume\": \"411865592\", \"7. dividend amount\": \"0.0000\"}, \"2015-09-18\": {\"1. open\": \"25.9700\", \"2. high\": \"26.6500\", \"3. low\": \"20.0400\", \"4. close\": \"24.6800\", \"5. adjusted close\": \"394.8800\", \"6. volume\": \"382656020\", \"7. dividend amount\": \"0.0000\"}, \"2015-09-11\": {\"1. open\": \"27.6000\", \"2. high\": \"28.3100\", \"3. low\": \"25.2600\", \"4. close\": \"26.0400\", \"5. adjusted close\": \"416.6400\", \"6. volume\": \"298220853\", \"7. dividend amount\": \"0.0000\"}, \"2015-09-04\": {\"1. open\": \"26.2100\", \"2. high\": \"31.4800\", \"3. low\": \"25.4600\", \"4. close\": \"29.3200\", \"5. adjusted close\": \"469.1200\", \"6. volume\": \"481335846\", \"7. dividend amount\": \"0.0000\"}, \"2015-08-28\": {\"1. open\": \"27.1500\", \"2. high\": \"28.2200\", \"3. low\": \"21.5600\", \"4. close\": \"25.8400\", \"5. adjusted close\": \"413.4400\", \"6. volume\": \"759811667\", \"7. dividend amount\": \"0.0000\"}, \"2015-08-21\": {\"1. open\": \"16.1600\", \"2. high\": \"20.7300\", \"3. low\": \"15.7100\", \"4. close\": \"20.7200\", \"5. adjusted close\": \"331.5200\", \"6. volume\": \"488797948\", \"7. dividend amount\": \"0.0000\"}, \"2015-08-14\": {\"1. open\": \"15.7400\", \"2. high\": \"17.4100\", \"3. low\": \"15.5100\", \"4. close\": \"15.9900\", \"5. adjusted close\": \"255.8400\", \"6. volume\": \"268738357\", \"7. dividend amount\": \"0.0000\"}, \"2015-08-07\": {\"1. open\": \"15.9700\", \"2. high\": \"16.6100\", \"3. low\": \"15.4800\", \"4. close\": \"16.1300\", \"5. adjusted close\": \"258.0800\", \"6. volume\": \"242912501\", \"7. dividend amount\": \"0.0000\"}, \"2015-07-31\": {\"1. open\": \"17.5200\", \"2. high\": \"18.1200\", \"3. low\": \"15.7900\", \"4. close\": \"16.0200\", \"5. adjusted close\": \"256.3200\", \"6. volume\": \"281021085\", \"7. dividend amount\": \"0.0000\"}, \"2015-07-24\": {\"1. open\": \"16.3700\", \"2. high\": \"17.0900\", \"3. low\": \"15.8900\", \"4. close\": \"16.8400\", \"5. adjusted close\": \"269.4400\", \"6. volume\": \"245942947\", \"7. dividend amount\": \"0.0000\"}, \"2015-07-17\": {\"1. open\": \"18.7500\", \"2. high\": \"18.8700\", \"3. low\": \"16.3700\", \"4. close\": \"16.4000\", \"5. adjusted close\": \"262.4000\", \"6. volume\": \"239654139\", \"7. dividend amount\": \"0.0000\"}, \"2015-07-10\": {\"1. open\": \"20.9100\", \"2. high\": \"21.6400\", \"3. low\": \"19.4000\", \"4. close\": \"19.8600\", \"5. adjusted close\": \"317.7600\", \"6. volume\": \"396350569\", \"7. dividend amount\": \"0.0000\"}, \"2015-07-02\": {\"1. open\": \"18.4400\", \"2. high\": \"21.1100\", \"3. low\": \"18.1600\", \"4. close\": \"19.9700\", \"5. adjusted close\": \"319.5200\", \"6. volume\": \"389236724\", \"7. dividend amount\": \"0.0000\"}, \"2015-06-26\": {\"1. open\": \"17.8200\", \"2. high\": \"17.9500\", \"3. low\": \"16.8500\", \"4. close\": \"17.3500\", \"5. adjusted close\": \"277.6000\", \"6. volume\": \"209479699\", \"7. dividend amount\": \"0.0000\"}, \"2015-06-19\": {\"1. open\": \"18.7000\", \"2. high\": \"19.3000\", \"3. low\": \"17.8700\", \"4. close\": \"18.2300\", \"5. adjusted close\": \"291.6800\", \"6. volume\": \"237007955\", \"7. dividend amount\": \"0.0000\"}, \"2015-06-12\": {\"1. open\": \"19.1600\", \"2. high\": \"19.7300\", \"3. low\": \"17.9200\", \"4. close\": \"18.2500\", \"5. adjusted close\": \"292.0000\", \"6. volume\": \"195742453\", \"7. dividend amount\": \"0.0000\"}, \"2015-06-05\": {\"1. open\": \"18.7800\", \"2. high\": \"19.6200\", \"3. low\": \"18.6150\", \"4. close\": \"19.1000\", \"5. adjusted close\": \"305.6000\", \"6. volume\": \"202715348\", \"7. dividend amount\": \"0.0000\"}, \"2015-05-29\": {\"1. open\": \"18.8800\", \"2. high\": \"19.5800\", \"3. low\": \"18.5500\", \"4. close\": \"19.0200\", \"5. adjusted close\": \"304.3200\", \"6. volume\": \"173937290\", \"7. dividend amount\": \"0.0000\"}, \"2015-05-22\": {\"1. open\": \"20.0500\", \"2. high\": \"20.1000\", \"3. low\": \"18.4500\", \"4. close\": \"18.6800\", \"5. adjusted close\": \"298.8800\", \"6. volume\": \"172501928\", \"7. dividend amount\": \"0.0000\"}, \"2015-05-15\": {\"1. open\": \"20.6200\", \"2. high\": \"21.7500\", \"3. low\": \"20.0500\", \"4. close\": \"20.0600\", \"5. adjusted close\": \"320.9600\", \"6. volume\": \"162272708\", \"7. dividend amount\": \"0.0000\"}, \"2015-05-08\": {\"1. open\": \"20.6300\", \"2. high\": \"22.5800\", \"3. low\": \"20.4800\", \"4. close\": \"20.6100\", \"5. adjusted close\": \"329.7600\", \"6. volume\": \"203926067\", \"7. dividend amount\": \"0.0000\"}, \"2015-05-01\": {\"1. open\": \"20.6900\", \"2. high\": \"22.2900\", \"3. low\": \"20.6200\", \"4. close\": \"20.8100\", \"5. adjusted close\": \"332.9600\", \"6. volume\": \"216230683\", \"7. dividend amount\": \"0.0000\"}, \"2015-04-24\": {\"1. open\": \"21.8200\", \"2. high\": \"21.9450\", \"3. low\": \"20.8100\", \"4. close\": \"20.8900\", \"5. adjusted close\": \"334.2400\", \"6. volume\": \"133680056\", \"7. dividend amount\": \"0.0000\"}, \"2015-04-17\": {\"1. open\": \"21.8200\", \"2. high\": \"23.1200\", \"3. low\": \"21.3100\", \"4. close\": \"22.2900\", \"5. adjusted close\": \"356.6400\", \"6. volume\": \"234892371\", \"7. dividend amount\": \"0.0000\"}, \"2015-04-10\": {\"1. open\": \"25.3100\", \"2. high\": \"25.4100\", \"3. low\": \"22.1000\", \"4. close\": \"22.1300\", \"5. adjusted close\": \"354.0800\", \"6. volume\": \"184414094\", \"7. dividend amount\": \"0.0000\"}, \"2015-04-02\": {\"1. open\": \"25.1100\", \"2. high\": \"26.9800\", \"3. low\": \"24.5000\", \"4. close\": \"25.0570\", \"5. adjusted close\": \"400.9120\", \"6. volume\": \"126661400\", \"7. dividend amount\": \"0.0000\"}, \"2015-03-27\": {\"1. open\": \"25.5200\", \"2. high\": \"27.0400\", \"3. low\": \"24.6600\", \"4. close\": \"25.7400\", \"5. adjusted close\": \"411.8400\", \"6. volume\": \"211837042\", \"7. dividend amount\": \"0.0000\"}, \"2015-03-20\": {\"1. open\": \"27.7400\", \"2. high\": \"28.0200\", \"3. low\": \"24.9400\", \"4. close\": \"25.7290\", \"5. adjusted close\": \"411.6640\", \"6. volume\": \"226234363\", \"7. dividend amount\": \"0.0000\"}, \"2015-03-13\": {\"1. open\": \"27.8600\", \"2. high\": \"29.4400\", \"3. low\": \"27.3900\", \"4. close\": \"28.1000\", \"5. adjusted close\": \"449.6000\", \"6. volume\": \"231905106\", \"7. dividend amount\": \"0.0000\"}, \"2015-03-06\": {\"1. open\": \"27.4700\", \"2. high\": \"28.2600\", \"3. low\": \"26.6700\", \"4. close\": \"28.0300\", \"5. adjusted close\": \"448.4800\", \"6. volume\": \"212564336\", \"7. dividend amount\": \"0.0000\"}, \"2015-02-27\": {\"1. open\": \"29.3200\", \"2. high\": \"29.5300\", \"3. low\": \"26.8300\", \"4. close\": \"27.6190\", \"5. adjusted close\": \"441.9040\", \"6. volume\": \"195317761\", \"7. dividend amount\": \"0.0000\"}, \"2015-02-20\": {\"1. open\": \"31.2200\", \"2. high\": \"31.4900\", \"3. low\": \"28.8000\", \"4. close\": \"29.0500\", \"5. adjusted close\": \"464.8000\", \"6. volume\": \"130149158\", \"7. dividend amount\": \"0.0000\"}, \"2015-02-13\": {\"1. open\": \"34.9200\", \"2. high\": \"35.2200\", \"3. low\": \"30.8000\", \"4. close\": \"30.9700\", \"5. adjusted close\": \"495.5200\", \"6. volume\": \"183800576\", \"7. dividend amount\": \"0.0000\"}, \"2015-02-06\": {\"1. open\": \"35.6600\", \"2. high\": \"37.3500\", \"3. low\": \"32.2900\", \"4. close\": \"34.3000\", \"5. adjusted close\": \"548.8000\", \"6. volume\": \"256321780\", \"7. dividend amount\": \"0.0000\"}, \"2015-01-30\": {\"1. open\": \"31.8000\", \"2. high\": \"37.0700\", \"3. low\": \"30.6300\", \"4. close\": \"36.8701\", \"5. adjusted close\": \"589.9216\", \"6. volume\": \"287298493\", \"7. dividend amount\": \"0.0000\"}, \"2015-01-23\": {\"1. open\": \"34.3600\", \"2. high\": \"36.2900\", \"3. low\": \"30.8300\", \"4. close\": \"32.1000\", \"5. adjusted close\": \"513.6000\", \"6. volume\": \"205899581\", \"7. dividend amount\": \"0.0000\"}, \"2015-01-16\": {\"1. open\": \"32.2600\", \"2. high\": \"36.9500\", \"3. low\": \"32.1100\", \"4. close\": \"35.4700\", \"5. adjusted close\": \"567.5200\", \"6. volume\": \"291680220\", \"7. dividend amount\": \"0.0000\"}, \"2015-01-09\": {\"1. open\": \"31.8500\", \"2. high\": \"35.2000\", \"3. low\": \"30.4100\", \"4. close\": \"31.9800\", \"5. adjusted close\": \"511.6800\", \"6. volume\": \"293340992\", \"7. dividend amount\": \"0.0000\"}, \"2015-01-02\": {\"1. open\": \"28.7600\", \"2. high\": \"32.8200\", \"3. low\": \"28.2700\", \"4. close\": \"30.9900\", \"5. adjusted close\": \"495.8400\", \"6. volume\": \"152230449\", \"7. dividend amount\": \"0.0000\"}, \"2014-12-26\": {\"1. open\": \"29.1200\", \"2. high\": \"29.3300\", \"3. low\": \"28.1000\", \"4. close\": \"28.5900\", \"5. adjusted close\": \"457.4400\", \"6. volume\": \"86994093\", \"7. dividend amount\": \"0.0000\"}, \"2014-12-19\": {\"1. open\": \"32.2900\", \"2. high\": \"35.1300\", \"3. low\": \"29.4800\", \"4. close\": \"29.9000\", \"5. adjusted close\": \"478.4000\", \"6. volume\": \"370176759\", \"7. dividend amount\": \"0.0000\"}, \"2014-12-12\": {\"1. open\": \"26.2500\", \"2. high\": \"34.1100\", \"3. low\": \"25.8300\", \"4. close\": \"33.8900\", \"5. adjusted close\": \"542.2400\", \"6. volume\": \"319079653\", \"7. dividend amount\": \"0.0000\"}, \"2014-12-05\": {\"1. open\": \"27.9400\", \"2. high\": \"28.8100\", \"3. low\": \"25.6411\", \"4. close\": \"26.1000\", \"5. adjusted close\": \"417.6000\", \"6. volume\": \"145274529\", \"7. dividend amount\": \"0.0000\"}, \"2014-11-28\": {\"1. open\": \"27.6400\", \"2. high\": \"27.8000\", \"3. low\": \"26.5900\", \"4. close\": \"27.4000\", \"5. adjusted close\": \"438.4000\", \"6. volume\": \"77228197\", \"7. dividend amount\": \"0.0000\"}, \"2014-11-21\": {\"1. open\": \"28.9100\", \"2. high\": \"29.3700\", \"3. low\": \"27.6000\", \"4. close\": \"27.9200\", \"5. adjusted close\": \"446.7200\", \"6. volume\": \"129539689\", \"7. dividend amount\": \"0.0000\"}, \"2014-11-14\": {\"1. open\": \"28.8700\", \"2. high\": \"29.3800\", \"3. low\": \"27.6300\", \"4. close\": \"28.6600\", \"5. adjusted close\": \"458.5600\", \"6. volume\": \"137036150\", \"7. dividend amount\": \"0.0000\"}, \"2014-11-07\": {\"1. open\": \"30.2800\", \"2. high\": \"31.9100\", \"3. low\": \"28.9649\", \"4. close\": \"29.0300\", \"5. adjusted close\": \"464.4800\", \"6. volume\": \"142553431\", \"7. dividend amount\": \"0.0000\"}, \"2014-10-31\": {\"1. open\": \"33.6700\", \"2. high\": \"34.2900\", \"3. low\": \"30.1000\", \"4. close\": \"30.3200\", \"5. adjusted close\": \"485.1200\", \"6. volume\": \"226840396\", \"7. dividend amount\": \"0.0000\"}, \"2014-10-24\": {\"1. open\": \"38.8000\", \"2. high\": \"39.0100\", \"3. low\": \"32.2900\", \"4. close\": \"33.1700\", \"5. adjusted close\": \"530.7200\", \"6. volume\": \"348677809\", \"7. dividend amount\": \"0.0000\"}, \"2014-10-17\": {\"1. open\": \"35.2400\", \"2. high\": \"44.6000\", \"3. low\": \"34.6400\", \"4. close\": \"38.5800\", \"5. adjusted close\": \"617.2800\", \"6. volume\": \"606368748\", \"7. dividend amount\": \"0.0000\"}, \"2014-10-10\": {\"1. open\": \"28.9700\", \"2. high\": \"35.8900\", \"3. low\": \"28.6700\", \"4. close\": \"35.8500\", \"5. adjusted close\": \"573.6000\", \"6. volume\": \"349213948\", \"7. dividend amount\": \"0.0000\"}, \"2014-10-03\": {\"1. open\": \"30.9600\", \"2. high\": \"32.9500\", \"3. low\": \"29.3100\", \"4. close\": \"29.6200\", \"5. adjusted close\": \"473.9200\", \"6. volume\": \"271344402\", \"7. dividend amount\": \"0.0000\"}, \"2014-09-26\": {\"1. open\": \"27.5500\", \"2. high\": \"30.8000\", \"3. low\": \"27.5100\", \"4. close\": \"29.3700\", \"5. adjusted close\": \"469.9200\", \"6. volume\": \"221726857\", \"7. dividend amount\": \"0.0000\"}, \"2014-09-19\": {\"1. open\": \"28.7400\", \"2. high\": \"29.6900\", \"3. low\": \"26.8101\", \"4. close\": \"27.2300\", \"5. adjusted close\": \"435.6800\", \"6. volume\": \"184374756\", \"7. dividend amount\": \"0.0000\"}, \"2014-09-12\": {\"1. open\": \"27.5300\", \"2. high\": \"29.0800\", \"3. low\": \"27.3900\", \"4. close\": \"28.6199\", \"5. adjusted close\": \"457.9184\", \"6. volume\": \"142283466\", \"7. dividend amount\": \"0.0000\"}, \"2014-09-05\": {\"1. open\": \"28.0600\", \"2. high\": \"28.5300\", \"3. low\": \"27.3800\", \"4. close\": \"27.4500\", \"5. adjusted close\": \"439.2000\", \"6. volume\": \"101099404\", \"7. dividend amount\": \"0.0000\"}, \"2014-08-29\": {\"1. open\": \"27.3600\", \"2. high\": \"28.7300\", \"3. low\": \"27.2400\", \"4. close\": \"28.1100\", \"5. adjusted close\": \"449.7600\", \"6. volume\": \"106461490\", \"7. dividend amount\": \"0.0000\"}, \"2014-08-22\": {\"1. open\": \"27.9900\", \"2. high\": \"28.2900\", \"3. low\": \"27.3799\", \"4. close\": \"27.7000\", \"5. adjusted close\": \"443.2000\", \"6. volume\": \"164813279\", \"7. dividend amount\": \"0.0000\"}, \"2014-08-15\": {\"1. open\": \"32.5500\", \"2. high\": \"32.7100\", \"3. low\": \"28.1100\", \"4. close\": \"28.8800\", \"5. adjusted close\": \"462.0800\", \"6. volume\": \"208697981\", \"7. dividend amount\": \"0.0000\"}, \"2014-08-08\": {\"1. open\": \"32.7500\", \"2. high\": \"35.2500\", \"3. low\": \"30.8157\", \"4. close\": \"33.2100\", \"5. adjusted close\": \"531.3600\", \"6. volume\": \"317092878\", \"7. dividend amount\": \"0.0000\"}, \"2014-08-01\": {\"1. open\": \"28.6800\", \"2. high\": \"33.7300\", \"3. low\": \"28.1300\", \"4. close\": \"33.0100\", \"5. adjusted close\": \"528.1600\", \"6. volume\": \"246975164\", \"7. dividend amount\": \"0.0000\"}, \"2014-07-25\": {\"1. open\": \"28.1500\", \"2. high\": \"29.1200\", \"3. low\": \"27.5700\", \"4. close\": \"28.8300\", \"5. adjusted close\": \"461.2800\", \"6. volume\": \"129600730\", \"7. dividend amount\": \"0.0000\"}, \"2014-07-18\": {\"1. open\": \"27.6400\", \"2. high\": \"30.5400\", \"3. low\": \"27.0200\", \"4. close\": \"27.8900\", \"5. adjusted close\": \"446.2400\", \"6. volume\": \"207688665\", \"7. dividend amount\": \"0.0000\"}, \"2014-07-11\": {\"1. open\": \"27.3700\", \"2. high\": \"29.2000\", \"3. low\": \"27.3100\", \"4. close\": \"28.3000\", \"5. adjusted close\": \"452.8000\", \"6. volume\": \"144447283\", \"7. dividend amount\": \"0.0000\"}, \"2014-07-03\": {\"1. open\": \"28.8000\", \"2. high\": \"28.9322\", \"3. low\": \"26.9500\", \"4. close\": \"27.1700\", \"5. adjusted close\": \"434.7200\", \"6. volume\": \"91198108\", \"7. dividend amount\": \"0.0000\"}, \"2014-06-27\": {\"1. open\": \"29.4000\", \"2. high\": \"30.4100\", \"3. low\": \"28.6700\", \"4. close\": \"28.8600\", \"5. adjusted close\": \"461.7600\", \"6. volume\": \"148759582\", \"7. dividend amount\": \"0.0000\"}, \"2014-06-20\": {\"1. open\": \"31.9600\", \"2. high\": \"32.3300\", \"3. low\": \"28.5900\", \"4. close\": \"29.5600\", \"5. adjusted close\": \"472.9600\", \"6. volume\": \"136370561\", \"7. dividend amount\": \"0.0000\"}, \"2014-06-13\": {\"1. open\": \"30.1800\", \"2. high\": \"32.9200\", \"3. low\": \"29.9000\", \"4. close\": \"31.8200\", \"5. adjusted close\": \"509.1200\", \"6. volume\": \"130930608\", \"7. dividend amount\": \"0.0000\"}, \"2014-06-06\": {\"1. open\": \"33.5600\", \"2. high\": \"33.9000\", \"3. low\": \"30.3100\", \"4. close\": \"30.3500\", \"5. adjusted close\": \"485.6000\", \"6. volume\": \"117813058\", \"7. dividend amount\": \"0.0000\"}, \"2014-05-30\": {\"1. open\": \"34.3000\", \"2. high\": \"34.4500\", \"3. low\": \"33.4100\", \"4. close\": \"33.5200\", \"5. adjusted close\": \"536.3200\", \"6. volume\": \"75598091\", \"7. dividend amount\": \"0.0000\"}, \"2014-05-23\": {\"1. open\": \"36.7100\", \"2. high\": \"36.7800\", \"3. low\": \"34.8200\", \"4. close\": \"34.9500\", \"5. adjusted close\": \"559.2000\", \"6. volume\": \"110036202\", \"7. dividend amount\": \"0.0000\"}, \"2014-05-16\": {\"1. open\": \"37.8100\", \"2. high\": \"38.2700\", \"3. low\": \"36.5400\", \"4. close\": \"36.5500\", \"5. adjusted close\": \"584.8000\", \"6. volume\": \"138226500\", \"7. dividend amount\": \"0.0000\"}, \"2014-05-09\": {\"1. open\": \"40.6100\", \"2. high\": \"40.8500\", \"3. low\": \"38.2300\", \"4. close\": \"38.2700\", \"5. adjusted close\": \"612.3200\", \"6. volume\": \"129749280\", \"7. dividend amount\": \"0.0000\"}, \"2014-05-02\": {\"1. open\": \"41.5000\", \"2. high\": \"42.3100\", \"3. low\": \"39.7300\", \"4. close\": \"40.0000\", \"5. adjusted close\": \"640.0000\", \"6. volume\": \"140122615\", \"7. dividend amount\": \"0.0000\"}, \"2014-04-25\": {\"1. open\": \"41.6700\", \"2. high\": \"42.5977\", \"3. low\": \"40.5700\", \"4. close\": \"41.8300\", \"5. adjusted close\": \"669.2800\", \"6. volume\": \"125588986\", \"7. dividend amount\": \"0.0000\"}, \"2014-04-17\": {\"1. open\": \"43.9500\", \"2. high\": \"46.3500\", \"3. low\": \"41.6200\", \"4. close\": \"41.7100\", \"5. adjusted close\": \"667.3600\", \"6. volume\": \"168048346\", \"7. dividend amount\": \"0.0000\"}, \"2014-04-11\": {\"1. open\": \"42.2500\", \"2. high\": \"45.3600\", \"3. low\": \"40.9000\", \"4. close\": \"44.7500\", \"5. adjusted close\": \"716.0000\", \"6. volume\": \"203179094\", \"7. dividend amount\": \"0.0000\"}, \"2014-04-04\": {\"1. open\": \"43.1200\", \"2. high\": \"43.1500\", \"3. low\": \"40.2499\", \"4. close\": \"41.8400\", \"5. adjusted close\": \"669.4400\", \"6. volume\": \"146633204\", \"7. dividend amount\": \"0.0000\"}, \"2014-03-28\": {\"1. open\": \"44.1100\", \"2. high\": \"45.4800\", \"3. low\": \"43.3000\", \"4. close\": \"43.5500\", \"5. adjusted close\": \"696.8000\", \"6. volume\": \"178965787\", \"7. dividend amount\": \"0.0000\"}, \"2014-03-21\": {\"1. open\": \"46.0300\", \"2. high\": \"46.0800\", \"3. low\": \"42.9900\", \"4. close\": \"44.2800\", \"5. adjusted close\": \"708.4800\", \"6. volume\": \"175887971\", \"7. dividend amount\": \"0.0000\"}, \"2014-03-14\": {\"1. open\": \"44.2400\", \"2. high\": \"48.1700\", \"3. low\": \"43.0700\", \"4. close\": \"47.4000\", \"5. adjusted close\": \"758.4000\", \"6. volume\": \"211394137\", \"7. dividend amount\": \"0.0000\"}, \"2014-03-07\": {\"1. open\": \"46.4500\", \"2. high\": \"47.3600\", \"3. low\": \"42.6000\", \"4. close\": \"43.9000\", \"5. adjusted close\": \"702.4000\", \"6. volume\": \"171434777\", \"7. dividend amount\": \"0.0000\"}, \"2014-02-28\": {\"1. open\": \"42.8000\", \"2. high\": \"44.6800\", \"3. low\": \"42.0000\", \"4. close\": \"43.8700\", \"5. adjusted close\": \"701.9200\", \"6. volume\": \"151719753\", \"7. dividend amount\": \"0.0000\"}, \"2014-02-21\": {\"1. open\": \"41.5900\", \"2. high\": \"44.5500\", \"3. low\": \"41.3300\", \"4. close\": \"43.0100\", \"5. adjusted close\": \"688.1600\", \"6. volume\": \"157769928\", \"7. dividend amount\": \"0.0000\"}, \"2014-02-14\": {\"1. open\": \"45.3400\", \"2. high\": \"45.9900\", \"3. low\": \"41.5850\", \"4. close\": \"41.9500\", \"5. adjusted close\": \"671.2000\", \"6. volume\": \"168632400\", \"7. dividend amount\": \"0.0000\"}, \"2014-02-07\": {\"1. open\": \"50.0200\", \"2. high\": \"55.2200\", \"3. low\": \"44.5600\", \"4. close\": \"45.4600\", \"5. adjusted close\": \"727.3600\", \"6. volume\": \"269564420\", \"7. dividend amount\": \"0.0000\"}, \"2014-01-31\": {\"1. open\": \"44.6500\", \"2. high\": \"50.1600\", \"3. low\": \"43.0800\", \"4. close\": \"49.5100\", \"5. adjusted close\": \"792.1600\", \"6. volume\": \"301689870\", \"7. dividend amount\": \"0.0000\"}, \"2014-01-24\": {\"1. open\": \"40.7200\", \"2. high\": \"45.4700\", \"3. low\": \"39.8500\", \"4. close\": \"44.6900\", \"5. adjusted close\": \"715.0400\", \"6. volume\": \"139499295\", \"7. dividend amount\": \"0.0000\"}, \"2014-01-17\": {\"1. open\": \"40.9900\", \"2. high\": \"43.0000\", \"3. low\": \"40.0000\", \"4. close\": \"41.1300\", \"5. adjusted close\": \"658.0800\", \"6. volume\": \"146682214\", \"7. dividend amount\": \"0.0000\"}, \"2014-01-10\": {\"1. open\": \"42.4800\", \"2. high\": \"43.1000\", \"3. low\": \"40.7600\", \"4. close\": \"40.8400\", \"5. adjusted close\": \"653.4400\", \"6. volume\": \"102823032\", \"7. dividend amount\": \"0.0000\"}, \"2014-01-03\": {\"1. open\": \"42.1600\", \"2. high\": \"43.7500\", \"3. low\": \"41.9200\", \"4. close\": \"43.1600\", \"5. adjusted close\": \"690.5600\", \"6. volume\": \"86099373\", \"7. dividend amount\": \"0.0000\"}, \"2013-12-27\": {\"1. open\": \"44.0500\", \"2. high\": \"44.2200\", \"3. low\": \"41.1600\", \"4. close\": \"42.0000\", \"5. adjusted close\": \"672.0000\", \"6. volume\": \"73520092\", \"7. dividend amount\": \"0.0000\"}, \"2013-12-20\": {\"1. open\": \"46.8700\", \"2. high\": \"48.6700\", \"3. low\": \"43.6875\", \"4. close\": \"44.6200\", \"5. adjusted close\": \"713.9200\", \"6. volume\": \"146608667\", \"7. dividend amount\": \"0.0000\"}, \"2013-12-13\": {\"1. open\": \"44.7400\", \"2. high\": \"48.2600\", \"3. low\": \"44.5100\", \"4. close\": \"47.3900\", \"5. adjusted close\": \"758.2400\", \"6. volume\": \"125874934\", \"7. dividend amount\": \"0.0000\"}, \"2013-12-06\": {\"1. open\": \"45.2200\", \"2. high\": \"48.5300\", \"3. low\": \"44.8100\", \"4. close\": \"45.1300\", \"5. adjusted close\": \"722.0800\", \"6. volume\": \"126935289\", \"7. dividend amount\": \"0.0000\"}, \"2013-11-29\": {\"1. open\": \"43.9900\", \"2. high\": \"45.4600\", \"3. low\": \"43.9800\", \"4. close\": \"45.3900\", \"5. adjusted close\": \"726.2400\", \"6. volume\": \"56497875\", \"7. dividend amount\": \"0.0000\"}, \"2013-11-22\": {\"1. open\": \"46.3200\", \"2. high\": \"48.1900\", \"3. low\": \"44.4200\", \"4. close\": \"44.4500\", \"5. adjusted close\": \"711.2000\", \"6. volume\": \"144030679\", \"7. dividend amount\": \"0.0000\"}, \"2013-11-15\": {\"1. open\": \"48.6900\", \"2. high\": \"49.1200\", \"3. low\": \"47.0000\", \"4. close\": \"47.0300\", \"5. adjusted close\": \"752.4800\", \"6. volume\": \"75583940\", \"7. dividend amount\": \"0.0000\"}, \"2013-11-08\": {\"1. open\": \"12.7300\", \"2. high\": \"50.3200\", \"3. low\": \"12.2000\", \"4. close\": \"48.6200\", \"5. adjusted close\": \"777.9200\", \"6. volume\": \"183614157\", \"7. dividend amount\": \"0.0000\"}, \"2013-11-01\": {\"1. open\": \"12.9000\", \"2. high\": \"13.1800\", \"3. low\": \"12.3800\", \"4. close\": \"12.8300\", \"5. adjusted close\": \"821.1200\", \"6. volume\": \"177027885\", \"7. dividend amount\": \"0.0000\"}, \"2013-10-25\": {\"1. open\": \"12.5800\", \"2. high\": \"13.4800\", \"3. low\": \"12.5700\", \"4. close\": \"12.8410\", \"5. adjusted close\": \"821.8240\", \"6. volume\": \"220913472\", \"7. dividend amount\": \"0.0000\"}, \"2013-10-18\": {\"1. open\": \"15.0700\", \"2. high\": \"15.6600\", \"3. low\": \"12.6100\", \"4. close\": \"12.8550\", \"5. adjusted close\": \"822.7200\", \"6. volume\": \"377443725\", \"7. dividend amount\": \"0.0000\"}, \"2013-10-11\": {\"1. open\": \"15.6700\", \"2. high\": \"17.4100\", \"3. low\": \"14.2700\", \"4. close\": \"14.5300\", \"5. adjusted close\": \"929.9200\", \"6. volume\": \"410148313\", \"7. dividend amount\": \"0.0000\"}, \"2013-10-04\": {\"1. open\": \"14.8300\", \"2. high\": \"15.8500\", \"3. low\": \"14.1800\", \"4. close\": \"15.0600\", \"5. adjusted close\": \"963.8400\", \"6. volume\": \"272031691\", \"7. dividend amount\": \"0.0000\"}, \"2013-09-27\": {\"1. open\": \"13.8000\", \"2. high\": \"14.3200\", \"3. low\": \"13.5900\", \"4. close\": \"14.2000\", \"5. adjusted close\": \"908.8000\", \"6. volume\": \"179894377\", \"7. dividend amount\": \"0.0000\"}, \"2013-09-20\": {\"1. open\": \"14.1300\", \"2. high\": \"14.4400\", \"3. low\": \"13.4200\", \"4. close\": \"13.8400\", \"5. adjusted close\": \"885.7600\", \"6. volume\": \"243851899\", \"7. dividend amount\": \"0.0000\"}, \"2013-09-13\": {\"1. open\": \"15.9400\", \"2. high\": \"16.0400\", \"3. low\": \"14.2200\", \"4. close\": \"14.4800\", \"5. adjusted close\": \"926.7200\", \"6. volume\": \"197552210\", \"7. dividend amount\": \"0.0000\"}, \"2013-09-06\": {\"1. open\": \"16.2800\", \"2. high\": \"16.7500\", \"3. low\": \"15.7200\", \"4. close\": \"16.1200\", \"5. adjusted close\": \"1031.6800\", \"6. volume\": \"178624963\", \"7. dividend amount\": \"0.0000\"}, \"2013-08-30\": {\"1. open\": \"14.6700\", \"2. high\": \"17.3400\", \"3. low\": \"14.5600\", \"4. close\": \"17.0400\", \"5. adjusted close\": \"1090.5600\", \"6. volume\": \"284834698\", \"7. dividend amount\": \"0.0000\"}, \"2013-08-23\": {\"1. open\": \"15.0500\", \"2. high\": \"15.7900\", \"3. low\": \"14.8000\", \"4. close\": \"14.8000\", \"5. adjusted close\": \"947.2000\", \"6. volume\": \"205024346\", \"7. dividend amount\": \"0.0000\"}, \"2013-08-16\": {\"1. open\": \"14.9200\", \"2. high\": \"15.3000\", \"3. low\": \"14.2200\", \"4. close\": \"14.9690\", \"5. adjusted close\": \"958.0160\", \"6. volume\": \"178578114\", \"7. dividend amount\": \"0.0000\"}, \"2013-08-09\": {\"1. open\": \"14.1900\", \"2. high\": \"15.0200\", \"3. low\": \"14.0100\", \"4. close\": \"14.6000\", \"5. adjusted close\": \"934.4000\", \"6. volume\": \"143430107\", \"7. dividend amount\": \"0.0000\"}, \"2013-08-02\": {\"1. open\": \"15.6600\", \"2. high\": \"15.8600\", \"3. low\": \"14.2100\", \"4. close\": \"14.2500\", \"5. adjusted close\": \"912.0000\", \"6. volume\": \"163380988\", \"7. dividend amount\": \"0.0000\"}, \"2013-07-26\": {\"1. open\": \"16.0700\", \"2. high\": \"16.2500\", \"3. low\": \"15.4500\", \"4. close\": \"15.5100\", \"5. adjusted close\": \"992.6400\", \"6. volume\": \"166380808\", \"7. dividend amount\": \"0.0000\"}, \"2013-07-19\": {\"1. open\": \"17.1700\", \"2. high\": \"17.6000\", \"3. low\": \"16.0800\", \"4. close\": \"16.1700\", \"5. adjusted close\": \"1034.8800\", \"6. volume\": \"180024103\", \"7. dividend amount\": \"0.0000\"}, \"2013-07-12\": {\"1. open\": \"18.5600\", \"2. high\": \"18.6400\", \"3. low\": \"17.0000\", \"4. close\": \"17.3500\", \"5. adjusted close\": \"1110.4000\", \"6. volume\": \"207102480\", \"7. dividend amount\": \"0.0000\"}, \"2013-07-05\": {\"1. open\": \"20.3900\", \"2. high\": \"20.6500\", \"3. low\": \"19.0600\", \"4. close\": \"19.0600\", \"5. adjusted close\": \"1219.8400\", \"6. volume\": \"162905356\", \"7. dividend amount\": \"0.0000\"}, \"2013-06-28\": {\"1. open\": \"22.6800\", \"2. high\": \"23.1400\", \"3. low\": \"20.3500\", \"4. close\": \"20.7100\", \"5. adjusted close\": \"1325.4400\", \"6. volume\": \"314304973\", \"7. dividend amount\": \"0.0000\"}, \"2013-06-21\": {\"1. open\": \"20.2800\", \"2. high\": \"23.0300\", \"3. low\": \"19.1500\", \"4. close\": \"21.5600\", \"5. adjusted close\": \"1379.8400\", \"6. volume\": \"427100499\", \"7. dividend amount\": \"0.0000\"}, \"2013-06-14\": {\"1. open\": \"18.7800\", \"2. high\": \"21.5000\", \"3. low\": \"18.7200\", \"4. close\": \"20.7900\", \"5. adjusted close\": \"1330.5600\", \"6. volume\": \"333837651\", \"7. dividend amount\": \"0.0000\"}, \"2013-06-07\": {\"1. open\": \"19.1200\", \"2. high\": \"21.2800\", \"3. low\": \"18.9700\", \"4. close\": \"19.0400\", \"5. adjusted close\": \"1218.5600\", \"6. volume\": \"332576420\", \"7. dividend amount\": \"0.0000\"}, \"2013-05-31\": {\"1. open\": \"18.2100\", \"2. high\": \"19.1800\", \"3. low\": \"18.1000\", \"4. close\": \"19.1415\", \"5. adjusted close\": \"1225.0560\", \"6. volume\": \"169667238\", \"7. dividend amount\": \"0.0000\"}, \"2013-05-24\": {\"1. open\": \"18.2600\", \"2. high\": \"19.5700\", \"3. low\": \"18.0000\", \"4. close\": \"18.7300\", \"5. adjusted close\": \"1198.7200\", \"6. volume\": \"227808624\", \"7. dividend amount\": \"0.0000\"}, \"2013-05-17\": {\"1. open\": \"18.4800\", \"2. high\": \"18.7200\", \"3. low\": \"17.9700\", \"4. close\": \"18.0300\", \"5. adjusted close\": \"1153.9200\", \"6. volume\": \"175867924\", \"7. dividend amount\": \"0.0000\"}, \"2013-05-10\": {\"1. open\": \"18.6600\", \"2. high\": \"19.0300\", \"3. low\": \"18.0200\", \"4. close\": \"18.4600\", \"5. adjusted close\": \"1181.4400\", \"6. volume\": \"172830397\", \"7. dividend amount\": \"0.0000\"}, \"2013-05-03\": {\"1. open\": \"18.9400\", \"2. high\": \"19.7900\", \"3. low\": \"18.5800\", \"4. close\": \"18.6880\", \"5. adjusted close\": \"1196.0320\", \"6. volume\": \"190908829\", \"7. dividend amount\": \"0.0000\"}, \"2013-04-26\": {\"1. open\": \"20.5600\", \"2. high\": \"21.0400\", \"3. low\": \"18.7700\", \"4. close\": \"19.2401\", \"5. adjusted close\": \"1231.3664\", \"6. volume\": \"233261029\", \"7. dividend amount\": \"0.0000\"}, \"2013-04-19\": {\"1. open\": \"18.4900\", \"2. high\": \"22.5400\", \"3. low\": \"18.2300\", \"4. close\": \"20.4400\", \"5. adjusted close\": \"1308.1600\", \"6. volume\": \"485442794\", \"7. dividend amount\": \"0.0000\"}, \"2013-04-12\": {\"1. open\": \"19.9500\", \"2. high\": \"20.2400\", \"3. low\": \"18.3100\", \"4. close\": \"18.3500\", \"5. adjusted close\": \"1174.4000\", \"6. volume\": \"210614940\", \"7. dividend amount\": \"0.0000\"}, \"2013-04-05\": {\"1. open\": \"20.1600\", \"2. high\": \"21.2700\", \"3. low\": \"19.5600\", \"4. close\": \"20.1120\", \"5. adjusted close\": \"1287.1680\", \"6. volume\": \"247230322\", \"7. dividend amount\": \"0.0000\"}, \"2013-03-28\": {\"1. open\": \"20.4400\", \"2. high\": \"21.3100\", \"3. low\": \"20.0500\", \"4. close\": \"20.2500\", \"5. adjusted close\": \"1296.0000\", \"6. volume\": \"186580793\", \"7. dividend amount\": \"0.0000\"}, \"2013-03-22\": {\"1. open\": \"21.8300\", \"2. high\": \"22.7400\", \"3. low\": \"20.3000\", \"4. close\": \"20.9500\", \"5. adjusted close\": \"1340.8000\", \"6. volume\": \"351028086\", \"7. dividend amount\": \"0.0000\"}, \"2013-03-15\": {\"1. open\": \"21.6000\", \"2. high\": \"21.7000\", \"3. low\": \"20.4100\", \"4. close\": \"20.5100\", \"5. adjusted close\": \"1312.6400\", \"6. volume\": \"239237920\", \"7. dividend amount\": \"0.0000\"}, \"2013-03-08\": {\"1. open\": \"24.6500\", \"2. high\": \"24.7900\", \"3. low\": \"21.4900\", \"4. close\": \"21.6300\", \"5. adjusted close\": \"1384.3200\", \"6. volume\": \"233622417\", \"7. dividend amount\": \"0.0000\"}, \"2013-03-01\": {\"1. open\": \"21.7100\", \"2. high\": \"26.8100\", \"3. low\": \"21.4200\", \"4. close\": \"24.3280\", \"5. adjusted close\": \"1556.9920\", \"6. volume\": \"419394181\", \"7. dividend amount\": \"0.0000\"}, \"2013-02-22\": {\"1. open\": \"21.7900\", \"2. high\": \"24.0800\", \"3. low\": \"20.9700\", \"4. close\": \"22.4800\", \"5. adjusted close\": \"1438.7200\", \"6. volume\": \"206756880\", \"7. dividend amount\": \"0.0000\"}, \"2013-02-15\": {\"1. open\": \"22.9100\", \"2. high\": \"23.1200\", \"3. low\": \"21.8400\", \"4. close\": \"21.9650\", \"5. adjusted close\": \"1405.7600\", \"6. volume\": \"157507925\", \"7. dividend amount\": \"0.0000\"}, \"2013-02-08\": {\"1. open\": \"23.8000\", \"2. high\": \"24.7000\", \"3. low\": \"22.9100\", \"4. close\": \"22.9900\", \"5. adjusted close\": \"1471.3600\", \"6. volume\": \"197251735\", \"7. dividend amount\": \"0.0000\"}, \"2013-02-01\": {\"1. open\": \"22.8900\", \"2. high\": \"24.6084\", \"3. low\": \"22.6800\", \"4. close\": \"23.0900\", \"5. adjusted close\": \"1477.7600\", \"6. volume\": \"177171092\", \"7. dividend amount\": \"0.0000\"}, \"2013-01-25\": {\"1. open\": \"24.0100\", \"2. high\": \"24.4600\", \"3. low\": \"22.4500\", \"4. close\": \"22.9500\", \"5. adjusted close\": \"1468.8000\", \"6. volume\": \"149415874\", \"7. dividend amount\": \"0.0000\"}, \"2013-01-18\": {\"1. open\": \"26.4100\", \"2. high\": \"26.6300\", \"3. low\": \"23.8800\", \"4. close\": \"23.9800\", \"5. adjusted close\": \"1534.7200\", \"6. volume\": \"134925173\", \"7. dividend amount\": \"0.0000\"}, \"2013-01-11\": {\"1. open\": \"27.8700\", \"2. high\": \"28.0700\", \"3. low\": \"26.4500\", \"4. close\": \"26.4600\", \"5. adjusted close\": \"1693.4400\", \"6. volume\": \"124306660\", \"7. dividend amount\": \"0.0000\"}, \"2013-01-04\": {\"1. open\": \"36.4000\", \"2. high\": \"36.7900\", \"3. low\": \"27.4000\", \"4. close\": \"27.5500\", \"5. adjusted close\": \"1763.2000\", \"6. volume\": \"147309252\", \"7. dividend amount\": \"0.0000\"}, \"2012-12-28\": {\"1. open\": \"32.0100\", \"2. high\": \"35.8800\", \"3. low\": \"31.8700\", \"4. close\": \"35.4300\", \"5. adjusted close\": \"2267.5200\", \"6. volume\": \"112030536\", \"7. dividend amount\": \"0.0000\"}, \"2012-12-21\": {\"1. open\": \"30.4500\", \"2. high\": \"33.1300\", \"3. low\": \"27.9400\", \"4. close\": \"32.5400\", \"5. adjusted close\": \"2082.5600\", \"6. volume\": \"140781981\", \"7. dividend amount\": \"0.0000\"}, \"2012-12-14\": {\"1. open\": \"29.7400\", \"2. high\": \"30.7200\", \"3. low\": \"28.5800\", \"4. close\": \"30.3333\", \"5. adjusted close\": \"1941.3312\", \"6. volume\": \"100106215\", \"7. dividend amount\": \"0.0000\"}, \"2012-12-07\": {\"1. open\": \"28.8900\", \"2. high\": \"31.4300\", \"3. low\": \"28.8100\", \"4. close\": \"29.4400\", \"5. adjusted close\": \"1884.1600\", \"6. volume\": \"128803507\", \"7. dividend amount\": \"0.0000\"}, \"2012-11-30\": {\"1. open\": \"30.5600\", \"2. high\": \"31.4900\", \"3. low\": \"28.8300\", \"4. close\": \"29.6200\", \"5. adjusted close\": \"1895.6800\", \"6. volume\": \"144882786\", \"7. dividend amount\": \"0.0000\"}, \"2012-11-23\": {\"1. open\": \"33.4500\", \"2. high\": \"33.4700\", \"3. low\": \"30.0000\", \"4. close\": \"30.0000\", \"5. adjusted close\": \"1920.0000\", \"6. volume\": \"88406194\", \"7. dividend amount\": \"0.0000\"}, \"2012-11-16\": {\"1. open\": \"36.7400\", \"2. high\": \"37.4900\", \"3. low\": \"33.7500\", \"4. close\": \"34.6799\", \"5. adjusted close\": \"2219.5136\", \"6. volume\": \"181264429\", \"7. dividend amount\": \"0.0000\"}, \"2012-11-09\": {\"1. open\": \"35.3600\", \"2. high\": \"37.6400\", \"3. low\": \"33.8600\", \"4. close\": \"37.1800\", \"5. adjusted close\": \"2379.5200\", \"6. volume\": \"192284151\", \"7. dividend amount\": \"0.0000\"}, \"2012-11-02\": {\"1. open\": \"35.5900\", \"2. high\": \"37.4300\", \"3. low\": \"33.4400\", \"4. close\": \"34.9267\", \"5. adjusted close\": \"2235.3088\", \"6. volume\": \"88715692\", \"7. dividend amount\": \"0.0000\"}, \"2012-10-26\": {\"1. open\": \"34.8500\", \"2. high\": \"37.7300\", \"3. low\": \"34.5200\", \"4. close\": \"36.3000\", \"5. adjusted close\": \"2323.2000\", \"6. volume\": \"164870233\", \"7. dividend amount\": \"0.0000\"}, \"2012-10-19\": {\"1. open\": \"35.1000\", \"2. high\": \"35.8300\", \"3. low\": \"32.4800\", \"4. close\": \"34.9900\", \"5. adjusted close\": \"2239.3600\", \"6. volume\": \"135317405\", \"7. dividend amount\": \"0.0000\"}, \"2012-10-12\": {\"1. open\": \"34.5800\", \"2. high\": \"36.3800\", \"3. low\": \"34.1600\", \"4. close\": \"35.3803\", \"5. adjusted close\": \"2264.3392\", \"6. volume\": \"94155654\", \"7. dividend amount\": \"0.0000\"}, \"2012-10-05\": {\"1. open\": \"8.7700\", \"2. high\": \"34.5300\", \"3. low\": \"8.5400\", \"4. close\": \"34.1200\", \"5. adjusted close\": \"2183.6800\", \"6. volume\": \"188086439\", \"7. dividend amount\": \"0.0000\"}, \"2012-09-28\": {\"1. open\": \"8.7900\", \"2. high\": \"9.7800\", \"3. low\": \"8.4700\", \"4. close\": \"9.0000\", \"5. adjusted close\": \"2304.0000\", \"6. volume\": \"273796586\", \"7. dividend amount\": \"0.0000\"}, \"2012-09-21\": {\"1. open\": \"9.3300\", \"2. high\": \"9.3400\", \"3. low\": \"8.5700\", \"4. close\": \"8.6950\", \"5. adjusted close\": \"2225.9200\", \"6. volume\": \"208639018\", \"7. dividend amount\": \"0.0000\"}, \"2012-09-14\": {\"1. open\": \"9.5500\", \"2. high\": \"10.0100\", \"3. low\": \"8.5500\", \"4. close\": \"9.1800\", \"5. adjusted close\": \"2350.0800\", \"6. volume\": \"273984658\", \"7. dividend amount\": \"0.0000\"}, \"2012-09-07\": {\"1. open\": \"11.5700\", \"2. high\": \"11.7700\", \"3. low\": \"9.3700\", \"4. close\": \"9.4100\", \"5. adjusted close\": \"2408.9600\", \"6. volume\": \"206860894\", \"7. dividend amount\": \"0.0000\"}, \"2012-08-31\": {\"1. open\": \"11.2400\", \"2. high\": \"12.0400\", \"3. low\": \"11.1400\", \"4. close\": \"11.5100\", \"5. adjusted close\": \"2946.5600\", \"6. volume\": \"162847250\", \"7. dividend amount\": \"0.0000\"}, \"2012-08-24\": {\"1. open\": \"11.2900\", \"2. high\": \"11.9900\", \"3. low\": \"11.0200\", \"4. close\": \"11.3300\", \"5. adjusted close\": \"2900.4800\", \"6. volume\": \"210785314\", \"7. dividend amount\": \"0.0000\"}, \"2012-08-17\": {\"1. open\": \"11.4800\", \"2. high\": \"11.9200\", \"3. low\": \"11.1100\", \"4. close\": \"11.2000\", \"5. adjusted close\": \"2867.2000\", \"6. volume\": \"176517976\", \"7. dividend amount\": \"0.0000\"}, \"2012-08-10\": {\"1. open\": \"11.9800\", \"2. high\": \"12.2500\", \"3. low\": \"11.4200\", \"4. close\": \"11.4200\", \"5. adjusted close\": \"2923.5200\", \"6. volume\": \"152289796\", \"7. dividend amount\": \"0.0000\"}, \"2012-08-03\": {\"1. open\": \"12.8900\", \"2. high\": \"13.8300\", \"3. low\": \"12.1400\", \"4. close\": \"12.1610\", \"5. adjusted close\": \"3113.2160\", \"6. volume\": \"198207215\", \"7. dividend amount\": \"0.0000\"}, \"2012-07-27\": {\"1. open\": \"14.2700\", \"2. high\": \"15.1000\", \"3. low\": \"12.7200\", \"4. close\": \"12.9900\", \"5. adjusted close\": \"3325.4400\", \"6. volume\": \"239732594\", \"7. dividend amount\": \"0.0000\"}, \"2012-07-20\": {\"1. open\": \"13.3200\", \"2. high\": \"13.5000\", \"3. low\": \"12.5000\", \"4. close\": \"13.2000\", \"5. adjusted close\": \"3379.2000\", \"6. volume\": \"188212260\", \"7. dividend amount\": \"0.0000\"}, \"2012-07-13\": {\"1. open\": \"14.1700\", \"2. high\": \"14.7800\", \"3. low\": \"13.3400\", \"4. close\": \"13.3500\", \"5. adjusted close\": \"3417.6000\", \"6. volume\": \"200788591\", \"7. dividend amount\": \"0.0000\"}, \"2012-07-06\": {\"1. open\": \"14.8700\", \"2. high\": \"15.0700\", \"3. low\": \"13.7000\", \"4. close\": \"14.2590\", \"5. adjusted close\": \"3650.3040\", \"6. volume\": \"157712069\", \"7. dividend amount\": \"0.0000\"}, \"2012-06-29\": {\"1. open\": \"16.9800\", \"2. high\": \"17.3800\", \"3. low\": \"15.1100\", \"4. close\": \"15.2100\", \"5. adjusted close\": \"3893.7600\", \"6. volume\": \"215080746\", \"7. dividend amount\": \"0.0000\"}, \"2012-06-22\": {\"1. open\": \"18.3900\", \"2. high\": \"18.5600\", \"3. low\": \"15.7600\", \"4. close\": \"15.8900\", \"5. adjusted close\": \"4067.8400\", \"6. volume\": \"305494943\", \"7. dividend amount\": \"0.0000\"}, \"2012-06-15\": {\"1. open\": \"17.7500\", \"2. high\": \"20.9300\", \"3. low\": \"17.6201\", \"4. close\": \"18.4900\", \"5. adjusted close\": \"4733.4400\", \"6. volume\": \"287255679\", \"7. dividend amount\": \"0.0000\"}, \"2012-06-08\": {\"1. open\": \"22.1200\", \"2. high\": \"22.8800\", \"3. low\": \"18.4000\", \"4. close\": \"18.4000\", \"5. adjusted close\": \"4710.4000\", \"6. volume\": \"258185305\", \"7. dividend amount\": \"0.0000\"}, \"2012-06-01\": {\"1. open\": \"19.6100\", \"2. high\": \"22.6500\", \"3. low\": \"19.1700\", \"4. close\": \"22.5800\", \"5. adjusted close\": \"5780.4800\", \"6. volume\": \"235310128\", \"7. dividend amount\": \"0.0000\"}, \"2012-05-25\": {\"1. open\": \"22.2700\", \"2. high\": \"22.5799\", \"3. low\": \"18.7700\", \"4. close\": \"20.2100\", \"5. adjusted close\": \"5173.7600\", \"6. volume\": \"312151256\", \"7. dividend amount\": \"0.0000\"}, \"2012-05-18\": {\"1. open\": \"18.2200\", \"2. high\": \"22.7900\", \"3. low\": \"17.9600\", \"4. close\": \"22.3600\", \"5. adjusted close\": \"5724.1600\", \"6. volume\": \"334966562\", \"7. dividend amount\": \"0.0000\"}, \"2012-05-11\": {\"1. open\": \"17.6500\", \"2. high\": \"18.3000\", \"3. low\": \"16.7700\", \"4. close\": \"17.4800\", \"5. adjusted close\": \"4474.8800\", \"6. volume\": \"230624061\", \"7. dividend amount\": \"0.0000\"}, \"2012-05-04\": {\"1. open\": \"16.4000\", \"2. high\": \"17.5000\", \"3. low\": \"15.8300\", \"4. close\": \"17.2300\", \"5. adjusted close\": \"4410.8800\", \"6. volume\": \"175071961\", \"7. dividend amount\": \"0.0000\"}, \"2012-04-27\": {\"1. open\": \"18.6700\", \"2. high\": \"19.0300\", \"3. low\": \"16.0500\", \"4. close\": \"16.1900\", \"5. adjusted close\": \"4144.6400\", \"6. volume\": \"195044878\", \"7. dividend amount\": \"0.0000\"}, \"2012-04-20\": {\"1. open\": \"18.6000\", \"2. high\": \"19.6300\", \"3. low\": \"17.5700\", \"4. close\": \"17.7700\", \"5. adjusted close\": \"4549.1200\", \"6. volume\": \"232190921\", \"7. dividend amount\": \"0.0000\"}, \"2012-04-13\": {\"1. open\": \"18.9300\", \"2. high\": \"20.5500\", \"3. low\": \"18.2000\", \"4. close\": \"19.2899\", \"5. adjusted close\": \"4938.2144\", \"6. volume\": \"274442875\", \"7. dividend amount\": \"0.0000\"}, \"2012-04-05\": {\"1. open\": \"16.9000\", \"2. high\": \"18.3500\", \"3. low\": \"16.1900\", \"4. close\": \"17.8600\", \"5. adjusted close\": \"4572.1600\", \"6. volume\": \"173456972\", \"7. dividend amount\": \"0.0000\"}, \"2012-03-30\": {\"1. open\": \"16.6300\", \"2. high\": \"18.8500\", \"3. low\": \"15.5700\", \"4. close\": \"16.7805\", \"5. adjusted close\": \"4295.8080\", \"6. volume\": \"277994402\", \"7. dividend amount\": \"0.0000\"}, \"2012-03-23\": {\"1. open\": \"21.4300\", \"2. high\": \"21.5100\", \"3. low\": \"17.2200\", \"4. close\": \"17.3000\", \"5. adjusted close\": \"4428.8000\", \"6. volume\": \"293728090\", \"7. dividend amount\": \"0.0000\"}, \"2012-03-16\": {\"1. open\": \"23.0100\", \"2. high\": \"23.0700\", \"3. low\": \"21.0200\", \"4. close\": \"21.5573\", \"5. adjusted close\": \"5518.6688\", \"6. volume\": \"219157822\", \"7. dividend amount\": \"0.0000\"}, \"2012-03-09\": {\"1. open\": \"24.4150\", \"2. high\": \"26.2500\", \"3. low\": \"22.8400\", \"4. close\": \"23.3400\", \"5. adjusted close\": \"5975.0400\", \"6. volume\": \"176804333\", \"7. dividend amount\": \"0.0000\"}, \"2012-03-02\": {\"1. open\": \"25.9400\", \"2. high\": \"26.0600\", \"3. low\": \"23.8800\", \"4. close\": \"24.2760\", \"5. adjusted close\": \"6214.6560\", \"6. volume\": \"165362196\", \"7. dividend amount\": \"0.0000\"}, \"2012-02-24\": {\"1. open\": \"26.2400\", \"2. high\": \"26.9500\", \"3. low\": \"23.6300\", \"4. close\": \"25.0500\", \"5. adjusted close\": \"6412.8000\", \"6. volume\": \"142901973\", \"7. dividend amount\": \"0.0000\"}, \"2012-02-17\": {\"1. open\": \"26.3600\", \"2. high\": \"29.2100\", \"3. low\": \"25.7200\", \"4. close\": \"26.5950\", \"5. adjusted close\": \"6808.3200\", \"6. volume\": \"193410622\", \"7. dividend amount\": \"0.0000\"}, \"2012-02-10\": {\"1. open\": \"24.2100\", \"2. high\": \"29.4600\", \"3. low\": \"23.6800\", \"4. close\": \"27.8720\", \"5. adjusted close\": \"7135.2320\", \"6. volume\": \"133567427\", \"7. dividend amount\": \"0.0000\"}, \"2012-02-03\": {\"1. open\": \"27.0200\", \"2. high\": \"27.2500\", \"3. low\": \"23.9500\", \"4. close\": \"23.9869\", \"5. adjusted close\": \"6140.6464\", \"6. volume\": \"96702904\", \"7. dividend amount\": \"0.0000\"}, \"2012-01-27\": {\"1. open\": \"28.3800\", \"2. high\": \"28.5800\", \"3. low\": \"25.9700\", \"4. close\": \"26.0700\", \"5. adjusted close\": \"6673.9200\", \"6. volume\": \"103060129\", \"7. dividend amount\": \"0.0000\"}, \"2012-01-20\": {\"1. open\": \"30.4800\", \"2. high\": \"31.4800\", \"3. low\": \"28.3400\", \"4. close\": \"28.4200\", \"5. adjusted close\": \"7275.5200\", \"6. volume\": \"66689409\", \"7. dividend amount\": \"0.0000\"}, \"2012-01-13\": {\"1. open\": \"31.4700\", \"2. high\": \"32.4600\", \"3. low\": \"30.0100\", \"4. close\": \"31.4900\", \"5. adjusted close\": \"8061.4400\", \"6. volume\": \"71248463\", \"7. dividend amount\": \"0.0000\"}, \"2012-01-06\": {\"1. open\": \"33.9100\", \"2. high\": \"34.4900\", \"3. low\": \"31.4000\", \"4. close\": \"31.7600\", \"5. adjusted close\": \"8130.5600\", \"6. volume\": \"46151319\", \"7. dividend amount\": \"0.0000\"}, \"2011-12-30\": {\"1. open\": \"34.5600\", \"2. high\": \"35.9800\", \"3. low\": \"34.0000\", \"4. close\": \"35.5300\", \"5. adjusted close\": \"9095.6800\", \"6. volume\": \"27009985\", \"7. dividend amount\": \"0.0000\"}, \"2011-12-23\": {\"1. open\": \"38.5900\", \"2. high\": \"38.9300\", \"3. low\": \"32.3600\", \"4. close\": \"34.6900\", \"5. adjusted close\": \"8880.6400\", \"6. volume\": \"68634007\", \"7. dividend amount\": \"0.0000\"}, \"2011-12-16\": {\"1. open\": \"41.4600\", \"2. high\": \"42.3200\", \"3. low\": \"37.8500\", \"4. close\": \"39.0000\", \"5. adjusted close\": \"9984.0000\", \"6. volume\": \"84337278\", \"7. dividend amount\": \"0.0000\"}, \"2011-12-09\": {\"1. open\": \"38.9500\", \"2. high\": \"44.0500\", \"3. low\": \"38.9100\", \"4. close\": \"40.6100\", \"5. adjusted close\": \"10396.1600\", \"6. volume\": \"80204010\", \"7. dividend amount\": \"0.0000\"}, \"2011-12-02\": {\"1. open\": \"45.8700\", \"2. high\": \"47.3300\", \"3. low\": \"39.0000\", \"4. close\": \"40.7900\", \"5. adjusted close\": \"10442.2400\", \"6. volume\": \"80193992\", \"7. dividend amount\": \"0.0000\"}, \"2011-11-25\": {\"1. open\": \"49.2800\", \"2. high\": \"49.5100\", \"3. low\": \"46.3400\", \"4. close\": \"49.2000\", \"5. adjusted close\": \"12595.2000\", \"6. volume\": \"82256910\", \"7. dividend amount\": \"0.0000\"}, \"2011-11-18\": {\"1. open\": \"44.1700\", \"2. high\": \"49.4300\", \"3. low\": \"43.6600\", \"4. close\": \"46.8900\", \"5. adjusted close\": \"12003.8400\", \"6. volume\": \"128105358\", \"7. dividend amount\": \"0.0000\"}, \"2011-11-11\": {\"1. open\": \"43.4100\", \"2. high\": \"48.8000\", \"3. low\": \"40.7500\", \"4. close\": \"43.5400\", \"5. adjusted close\": \"11146.2400\", \"6. volume\": \"121011550\", \"7. dividend amount\": \"0.0000\"}, \"2011-11-04\": {\"1. open\": \"37.8600\", \"2. high\": \"47.2400\", \"3. low\": \"37.5500\", \"4. close\": \"43.2490\", \"5. adjusted close\": \"11071.7440\", \"6. volume\": \"131457274\", \"7. dividend amount\": \"0.0000\"}, \"2011-10-28\": {\"1. open\": \"43.3200\", \"2. high\": \"45.3000\", \"3. low\": \"35.9400\", \"4. close\": \"36.2600\", \"5. adjusted close\": \"9282.5600\", \"6. volume\": \"92790795\", \"7. dividend amount\": \"0.0000\"}, \"2011-10-21\": {\"1. open\": \"40.6300\", \"2. high\": \"48.2500\", \"3. low\": \"40.5700\", \"4. close\": \"43.7900\", \"5. adjusted close\": \"11210.2400\", \"6. volume\": \"129770553\", \"7. dividend amount\": \"0.0000\"}, \"2011-10-14\": {\"1. open\": \"48.2500\", \"2. high\": \"48.3301\", \"3. low\": \"40.3200\", \"4. close\": \"40.4600\", \"5. adjusted close\": \"10357.7600\", \"6. volume\": \"98090995\", \"7. dividend amount\": \"0.0000\"}, \"2011-10-07\": {\"1. open\": \"54.5050\", \"2. high\": \"59.1800\", \"3. low\": \"48.4400\", \"4. close\": \"50.2200\", \"5. adjusted close\": \"12856.3200\", \"6. volume\": \"176417610\", \"7. dividend amount\": \"0.0000\"}, \"2011-09-30\": {\"1. open\": \"49.4300\", \"2. high\": \"53.5900\", \"3. low\": \"45.5500\", \"4. close\": \"53.3700\", \"5. adjusted close\": \"13662.7200\", \"6. volume\": \"155638325\", \"7. dividend amount\": \"0.0000\"}, \"2011-09-23\": {\"1. open\": \"43.4900\", \"2. high\": \"51.3600\", \"3. low\": \"41.3800\", \"4. close\": \"50.3400\", \"5. adjusted close\": \"12887.0400\", \"6. volume\": \"191976644\", \"7. dividend amount\": \"0.0000\"}, \"2011-09-16\": {\"1. open\": \"47.3000\", \"2. high\": \"49.1500\", \"3. low\": \"41.3500\", \"4. close\": \"41.5500\", \"5. adjusted close\": \"10636.8000\", \"6. volume\": \"181554360\", \"7. dividend amount\": \"0.0000\"}, \"2011-09-09\": {\"1. open\": \"45.3000\", \"2. high\": \"46.3800\", \"3. low\": \"40.4501\", \"4. close\": \"45.8300\", \"5. adjusted close\": \"11732.4800\", \"6. volume\": \"141936468\", \"7. dividend amount\": \"0.0000\"}, \"2011-09-02\": {\"1. open\": \"39.4900\", \"2. high\": \"41.9000\", \"3. low\": \"37.7800\", \"4. close\": \"41.4800\", \"5. adjusted close\": \"10618.8800\", \"6. volume\": \"168122110\", \"7. dividend amount\": \"0.0000\"}, \"2011-08-26\": {\"1. open\": \"40.1300\", \"2. high\": \"44.7400\", \"3. low\": \"38.8500\", \"4. close\": \"41.0700\", \"5. adjusted close\": \"10513.9200\", \"6. volume\": \"269101274\", \"7. dividend amount\": \"0.0000\"}, \"2011-08-19\": {\"1. open\": \"33.0500\", \"2. high\": \"43.1100\", \"3. low\": \"32.0900\", \"4. close\": \"42.5500\", \"5. adjusted close\": \"10892.8000\", \"6. volume\": \"317632376\", \"7. dividend amount\": \"0.0000\"}, \"2011-08-12\": {\"1. open\": \"33.0800\", \"2. high\": \"36.0800\", \"3. low\": \"31.2400\", \"4. close\": \"34.1300\", \"5. adjusted close\": \"8737.2800\", \"6. volume\": \"456384054\", \"7. dividend amount\": \"0.0000\"}, \"2011-08-05\": {\"1. open\": \"22.1600\", \"2. high\": \"33.2500\", \"3. low\": \"22.0505\", \"4. close\": \"30.3100\", \"5. adjusted close\": \"7759.3600\", \"6. volume\": \"361651289\", \"7. dividend amount\": \"0.0000\"}, \"2011-07-29\": {\"1. open\": \"21.4000\", \"2. high\": \"24.9800\", \"3. low\": \"21.0600\", \"4. close\": \"23.4100\", \"5. adjusted close\": \"5992.9600\", \"6. volume\": \"175211451\", \"7. dividend amount\": \"0.0000\"}, \"2011-07-22\": {\"1. open\": \"23.6300\", \"2. high\": \"24.1200\", \"3. low\": \"20.5400\", \"4. close\": \"20.7300\", \"5. adjusted close\": \"5306.8800\", \"6. volume\": \"135998300\", \"7. dividend amount\": \"0.0000\"}, \"2011-07-15\": {\"1. open\": \"21.3600\", \"2. high\": \"23.9900\", \"3. low\": \"21.0900\", \"4. close\": \"23.1600\", \"5. adjusted close\": \"5928.9600\", \"6. volume\": \"192423239\", \"7. dividend amount\": \"0.0000\"}, \"2011-07-08\": {\"1. open\": \"20.2400\", \"2. high\": \"21.0100\", \"3. low\": \"19.8800\", \"4. close\": \"20.3500\", \"5. adjusted close\": \"5209.6000\", \"6. volume\": \"86652098\", \"7. dividend amount\": \"0.0000\"}, \"2011-07-01\": {\"1. open\": \"24.5600\", \"2. high\": \"24.8900\", \"3. low\": \"20.1400\", \"4. close\": \"20.2900\", \"5. adjusted close\": \"5194.2400\", \"6. volume\": \"136292185\", \"7. dividend amount\": \"0.0000\"}, \"2011-06-24\": {\"1. open\": \"25.4500\", \"2. high\": \"25.6000\", \"3. low\": \"22.6100\", \"4. close\": \"24.5310\", \"5. adjusted close\": \"6279.9360\", \"6. volume\": \"163081690\", \"7. dividend amount\": \"0.0000\"}, \"2011-06-17\": {\"1. open\": \"22.7900\", \"2. high\": \"26.8900\", \"3. low\": \"22.2500\", \"4. close\": \"25.2400\", \"5. adjusted close\": \"6461.4400\", \"6. volume\": \"197314625\", \"7. dividend amount\": \"0.0000\"}, \"2011-06-10\": {\"1. open\": \"22.3500\", \"2. high\": \"23.1100\", \"3. low\": \"21.9000\", \"4. close\": \"22.8600\", \"5. adjusted close\": \"5852.1600\", \"6. volume\": \"125126261\", \"7. dividend amount\": \"0.0000\"}, \"2011-06-03\": {\"1. open\": \"21.1500\", \"2. high\": \"23.3200\", \"3. low\": \"21.1000\", \"4. close\": \"22.3700\", \"5. adjusted close\": \"5726.7200\", \"6. volume\": \"105699298\", \"7. dividend amount\": \"0.0000\"}, \"2011-05-27\": {\"1. open\": \"23.9000\", \"2. high\": \"24.0400\", \"3. low\": \"21.6100\", \"4. close\": \"21.9400\", \"5. adjusted close\": \"5616.6400\", \"6. volume\": \"97309570\", \"7. dividend amount\": \"0.0000\"}, \"2011-05-20\": {\"1. open\": \"23.8600\", \"2. high\": \"24.7800\", \"3. low\": \"22.2200\", \"4. close\": \"22.7600\", \"5. adjusted close\": \"5826.5600\", \"6. volume\": \"123681352\", \"7. dividend amount\": \"0.0000\"}, \"2011-05-13\": {\"1. open\": \"24.8700\", \"2. high\": \"24.9200\", \"3. low\": \"23.0500\", \"4. close\": \"23.6300\", \"5. adjusted close\": \"6049.2800\", \"6. volume\": \"97822055\", \"7. dividend amount\": \"0.0000\"}, \"2011-05-06\": {\"1. open\": \"22.9500\", \"2. high\": \"25.6000\", \"3. low\": \"22.9500\", \"4. close\": \"24.8400\", \"5. adjusted close\": \"6359.0400\", \"6. volume\": \"134351934\", \"7. dividend amount\": \"0.0000\"}, \"2011-04-29\": {\"1. open\": \"24.7600\", \"2. high\": \"24.9600\", \"3. low\": \"23.0200\", \"4. close\": \"23.1600\", \"5. adjusted close\": \"5928.9600\", \"6. volume\": \"80749189\", \"7. dividend amount\": \"0.0000\"}, \"2011-04-21\": {\"1. open\": \"28.7700\", \"2. high\": \"29.3100\", \"3. low\": \"24.8600\", \"4. close\": \"24.8800\", \"5. adjusted close\": \"6369.2800\", \"6. volume\": \"87560617\", \"7. dividend amount\": \"0.0000\"}, \"2011-04-15\": {\"1. open\": \"28.7000\", \"2. high\": \"29.5200\", \"3. low\": \"27.4000\", \"4. close\": \"27.5500\", \"5. adjusted close\": \"7052.8000\", \"6. volume\": \"99832983\", \"7. dividend amount\": \"0.0000\"}, \"2011-04-08\": {\"1. open\": \"28.8200\", \"2. high\": \"29.3000\", \"3. low\": \"27.8600\", \"4. close\": \"28.9180\", \"5. adjusted close\": \"7403.0080\", \"6. volume\": \"86756588\", \"7. dividend amount\": \"0.0000\"}, \"2011-04-01\": {\"1. open\": \"30.1200\", \"2. high\": \"31.2200\", \"3. low\": \"28.4600\", \"4. close\": \"29.0900\", \"5. adjusted close\": \"7447.0400\", \"6. volume\": \"74394591\", \"7. dividend amount\": \"0.0000\"}, \"2011-03-25\": {\"1. open\": \"33.8500\", \"2. high\": \"33.9700\", \"3. low\": \"29.6000\", \"4. close\": \"30.3700\", \"5. adjusted close\": \"7774.7200\", \"6. volume\": \"101574362\", \"7. dividend amount\": \"0.0000\"}, \"2011-03-18\": {\"1. open\": \"34.0500\", \"2. high\": \"39.1400\", \"3. low\": \"33.2100\", \"4. close\": \"35.3580\", \"5. adjusted close\": \"9051.6480\", \"6. volume\": \"188949141\", \"7. dividend amount\": \"0.0000\"}, \"2011-03-11\": {\"1. open\": \"31.2800\", \"2. high\": \"34.6000\", \"3. low\": \"30.9000\", \"4. close\": \"33.0100\", \"5. adjusted close\": \"8450.5600\", \"6. volume\": \"144202517\", \"7. dividend amount\": \"0.0000\"}, \"2011-03-04\": {\"1. open\": \"30.7400\", \"2. high\": \"32.9500\", \"3. low\": \"29.8200\", \"4. close\": \"31.6600\", \"5. adjusted close\": \"8104.9600\", \"6. volume\": \"131321750\", \"7. dividend amount\": \"0.0000\"}, \"2011-02-25\": {\"1. open\": \"30.7700\", \"2. high\": \"35.1800\", \"3. low\": \"30.1000\", \"4. close\": \"31.5100\", \"5. adjusted close\": \"8066.5600\", \"6. volume\": \"127734300\", \"7. dividend amount\": \"0.0000\"}, \"2011-02-18\": {\"1. open\": \"28.0000\", \"2. high\": \"29.3400\", \"3. low\": \"27.4500\", \"4. close\": \"29.0300\", \"5. adjusted close\": \"7431.6800\", \"6. volume\": \"68695626\", \"7. dividend amount\": \"0.0000\"}, \"2011-02-11\": {\"1. open\": \"28.9000\", \"2. high\": \"29.2500\", \"3. low\": \"27.9300\", \"4. close\": \"28.0200\", \"5. adjusted close\": \"7173.1200\", \"6. volume\": \"80348288\", \"7. dividend amount\": \"0.0000\"}, \"2011-02-04\": {\"1. open\": \"31.6400\", \"2. high\": \"32.3600\", \"3. low\": \"29.1400\", \"4. close\": \"29.2100\", \"5. adjusted close\": \"7477.7600\", \"6. volume\": \"82331716\", \"7. dividend amount\": \"0.0000\"}, \"2011-01-28\": {\"1. open\": \"32.3000\", \"2. high\": \"32.5700\", \"3. low\": \"29.0800\", \"4. close\": \"32.1000\", \"5. adjusted close\": \"8217.6000\", \"6. volume\": \"100299195\", \"7. dividend amount\": \"0.0000\"}, \"2011-01-21\": {\"1. open\": \"31.5900\", \"2. high\": \"33.2100\", \"3. low\": \"30.4900\", \"4. close\": \"32.2300\", \"5. adjusted close\": \"8250.8800\", \"6. volume\": \"80775402\", \"7. dividend amount\": \"0.0000\"}, \"2011-01-14\": {\"1. open\": \"36.5500\", \"2. high\": \"37.3300\", \"3. low\": \"31.2500\", \"4. close\": \"31.5700\", \"5. adjusted close\": \"8081.9200\", \"6. volume\": \"74937263\", \"7. dividend amount\": \"0.0000\"}, \"2011-01-07\": {\"1. open\": \"36.8900\", \"2. high\": \"37.6300\", \"3. low\": \"35.0500\", \"4. close\": \"36.0500\", \"5. adjusted close\": \"9228.8000\", \"6. volume\": \"58295666\", \"7. dividend amount\": \"0.0000\"}, \"2010-12-31\": {\"1. open\": \"38.1100\", \"2. high\": \"39.2100\", \"3. low\": \"37.5200\", \"4. close\": \"37.6100\", \"5. adjusted close\": \"9628.1600\", \"6. volume\": \"30558958\", \"7. dividend amount\": \"0.0000\"}, \"2010-12-23\": {\"1. open\": \"37.7600\", \"2. high\": \"38.4000\", \"3. low\": \"36.3100\", \"4. close\": \"37.8000\", \"5. adjusted close\": \"9676.8000\", \"6. volume\": \"31869260\", \"7. dividend amount\": \"0.0000\"}, \"2010-12-17\": {\"1. open\": \"37.6300\", \"2. high\": \"40.1000\", \"3. low\": \"37.5900\", \"4. close\": \"38.3200\", \"5. adjusted close\": \"9809.9200\", \"6. volume\": \"50683912\", \"7. dividend amount\": \"0.0000\"}, \"2010-12-10\": {\"1. open\": \"41.3900\", \"2. high\": \"41.6500\", \"3. low\": \"37.7300\", \"4. close\": \"38.1300\", \"5. adjusted close\": \"9761.2800\", \"6. volume\": \"49899837\", \"7. dividend amount\": \"0.0000\"}, \"2010-12-03\": {\"1. open\": \"46.0100\", \"2. high\": \"49.2900\", \"3. low\": \"41.1100\", \"4. close\": \"41.3000\", \"5. adjusted close\": \"10572.8000\", \"6. volume\": \"68046785\", \"7. dividend amount\": \"0.0000\"}, \"2010-11-26\": {\"1. open\": \"44.8800\", \"2. high\": \"45.8300\", \"3. low\": \"42.9100\", \"4. close\": \"45.7600\", \"5. adjusted close\": \"11714.5600\", \"6. volume\": \"51912165\", \"7. dividend amount\": \"0.0000\"}, \"2010-11-19\": {\"1. open\": \"47.1600\", \"2. high\": \"50.6300\", \"3. low\": \"44.4100\", \"4. close\": \"44.4500\", \"5. adjusted close\": \"11379.2000\", \"6. volume\": \"65176886\", \"7. dividend amount\": \"0.0000\"}, \"2010-11-12\": {\"1. open\": \"11.3500\", \"2. high\": \"48.4000\", \"3. low\": \"11.2400\", \"4. close\": \"47.6000\", \"5. adjusted close\": \"12185.6000\", \"6. volume\": \"77575308\", \"7. dividend amount\": \"0.0000\"}, \"2010-11-05\": {\"1. open\": \"13.1000\", \"2. high\": \"13.4100\", \"3. low\": \"11.0100\", \"4. close\": \"11.1400\", \"5. adjusted close\": \"11407.3600\", \"6. volume\": \"180683547\", \"7. dividend amount\": \"0.0000\"}, \"2010-10-29\": {\"1. open\": \"12.5200\", \"2. high\": \"13.6700\", \"3. low\": \"12.3500\", \"4. close\": \"13.1000\", \"5. adjusted close\": \"13414.4000\", \"6. volume\": \"131186396\", \"7. dividend amount\": \"0.0000\"}, \"2010-10-22\": {\"1. open\": \"14.5700\", \"2. high\": \"14.7400\", \"3. low\": \"12.8200\", \"4. close\": \"12.8300\", \"5. adjusted close\": \"13137.9200\", \"6. volume\": \"187151004\", \"7. dividend amount\": \"0.0000\"}, \"2010-10-15\": {\"1. open\": \"15.3200\", \"2. high\": \"15.5000\", \"3. low\": \"14.0000\", \"4. close\": \"14.4150\", \"5. adjusted close\": \"14760.9600\", \"6. volume\": \"166413094\", \"7. dividend amount\": \"0.0000\"}, \"2010-10-08\": {\"1. open\": \"17.1800\", \"2. high\": \"17.4900\", \"3. low\": \"15.3800\", \"4. close\": \"15.4000\", \"5. adjusted close\": \"15769.6000\", \"6. volume\": \"134894625\", \"7. dividend amount\": \"0.0000\"}, \"2010-10-01\": {\"1. open\": \"16.6100\", \"2. high\": \"17.5000\", \"3. low\": \"16.4400\", \"4. close\": \"17.0400\", \"5. adjusted close\": \"17448.9600\", \"6. volume\": \"124589470\", \"7. dividend amount\": \"0.0000\"}, \"2010-09-24\": {\"1. open\": \"17.0300\", \"2. high\": \"17.7200\", \"3. low\": \"16.4500\", \"4. close\": \"16.6300\", \"5. adjusted close\": \"17029.1200\", \"6. volume\": \"140307178\", \"7. dividend amount\": \"0.0000\"}, \"2010-09-17\": {\"1. open\": \"18.1300\", \"2. high\": \"18.1500\", \"3. low\": \"17.1100\", \"4. close\": \"17.1600\", \"5. adjusted close\": \"17571.8400\", \"6. volume\": \"127413348\", \"7. dividend amount\": \"0.0000\"}, \"2010-09-10\": {\"1. open\": \"19.5100\", \"2. high\": \"19.7800\", \"3. low\": \"18.5000\", \"4. close\": \"18.5400\", \"5. adjusted close\": \"18984.9600\", \"6. volume\": \"77177751\", \"7. dividend amount\": \"0.0000\"}, \"2010-09-03\": {\"1. open\": \"21.5800\", \"2. high\": \"22.5400\", \"3. low\": \"19.0500\", \"4. close\": \"19.0800\", \"5. adjusted close\": \"19537.9200\", \"6. volume\": \"115560552\", \"7. dividend amount\": \"0.0000\"}, \"2010-08-27\": {\"1. open\": \"22.5500\", \"2. high\": \"23.9800\", \"3. low\": \"21.5000\", \"4. close\": \"21.5000\", \"5. adjusted close\": \"22016.0000\", \"6. volume\": \"130105034\", \"7. dividend amount\": \"0.0000\"}, \"2010-08-20\": {\"1. open\": \"24.0400\", \"2. high\": \"24.1000\", \"3. low\": \"22.0500\", \"4. close\": \"22.8400\", \"5. adjusted close\": \"23388.1600\", \"6. volume\": \"97781741\", \"7. dividend amount\": \"0.0000\"}, \"2010-08-13\": {\"1. open\": \"21.2600\", \"2. high\": \"23.8900\", \"3. low\": \"21.0100\", \"4. close\": \"23.7800\", \"5. adjusted close\": \"24350.7200\", \"6. volume\": \"109117797\", \"7. dividend amount\": \"0.0000\"}, \"2010-08-06\": {\"1. open\": \"21.9900\", \"2. high\": \"22.5000\", \"3. low\": \"21.1500\", \"4. close\": \"21.4000\", \"5. adjusted close\": \"21913.6000\", \"6. volume\": \"93553539\", \"7. dividend amount\": \"0.0000\"}, \"2010-07-30\": {\"1. open\": \"23.6500\", \"2. high\": \"23.7600\", \"3. low\": \"22.1000\", \"4. close\": \"22.5700\", \"5. adjusted close\": \"23111.6800\", \"6. volume\": \"104263134\", \"7. dividend amount\": \"0.0000\"}, \"2010-07-23\": {\"1. open\": \"27.0400\", \"2. high\": \"27.5100\", \"3. low\": \"23.5000\", \"4. close\": \"23.6500\", \"5. adjusted close\": \"24217.6000\", \"6. volume\": \"113639693\", \"7. dividend amount\": \"0.0000\"}, \"2010-07-16\": {\"1. open\": \"25.6700\", \"2. high\": \"27.8500\", \"3. low\": \"24.3700\", \"4. close\": \"27.3700\", \"5. adjusted close\": \"28026.8800\", \"6. volume\": \"104701151\", \"7. dividend amount\": \"0.0000\"}, \"2010-07-09\": {\"1. open\": \"28.4500\", \"2. high\": \"29.5000\", \"3. low\": \"25.5200\", \"4. close\": \"25.5500\", \"5. adjusted close\": \"26163.2000\", \"6. volume\": \"82890507\", \"7. dividend amount\": \"0.0000\"}, \"2010-07-02\": {\"1. open\": \"27.5400\", \"2. high\": \"32.9400\", \"3. low\": \"27.4400\", \"4. close\": \"29.9900\", \"5. adjusted close\": \"30709.7600\", \"6. volume\": \"135830344\", \"7. dividend amount\": \"0.0000\"}, \"2010-06-25\": {\"1. open\": \"24.1900\", \"2. high\": \"28.7500\", \"3. low\": \"24.0300\", \"4. close\": \"27.7200\", \"5. adjusted close\": \"28385.2800\", \"6. volume\": \"106784449\", \"7. dividend amount\": \"0.0000\"}, \"2010-06-18\": {\"1. open\": \"28.0200\", \"2. high\": \"28.4500\", \"3. low\": \"24.6400\", \"4. close\": \"25.0700\", \"5. adjusted close\": \"25671.6800\", \"6. volume\": \"92236147\", \"7. dividend amount\": \"0.0000\"}, \"2010-06-11\": {\"1. open\": \"30.6100\", \"2. high\": \"32.8500\", \"3. low\": \"28.7500\", \"4. close\": \"28.8525\", \"5. adjusted close\": \"29544.9600\", \"6. volume\": \"130797552\", \"7. dividend amount\": \"0.0000\"}, \"2010-06-04\": {\"1. open\": \"29.9400\", \"2. high\": \"31.5000\", \"3. low\": \"28.0710\", \"4. close\": \"31.2900\", \"5. adjusted close\": \"32040.9600\", \"6. volume\": \"109299280\", \"7. dividend amount\": \"0.0000\"}, \"2010-05-28\": {\"1. open\": \"33.4000\", \"2. high\": \"36.1000\", \"3. low\": \"28.0500\", \"4. close\": \"28.5800\", \"5. adjusted close\": \"29265.9200\", \"6. volume\": \"178136177\", \"7. dividend amount\": \"0.0000\"}, \"2010-05-21\": {\"1. open\": \"26.5600\", \"2. high\": \"36.2200\", \"3. low\": \"25.5000\", \"4. close\": \"33.3100\", \"5. adjusted close\": \"34109.4400\", \"6. volume\": \"270151185\", \"7. dividend amount\": \"0.0000\"}, \"2010-05-14\": {\"1. open\": \"24.5800\", \"2. high\": \"28.0000\", \"3. low\": \"23.5200\", \"4. close\": \"26.8600\", \"5. adjusted close\": \"27504.6400\", \"6. volume\": \"167778612\", \"7. dividend amount\": \"0.0000\"}, \"2010-05-07\": {\"1. open\": \"20.7600\", \"2. high\": \"31.5400\", \"3. low\": \"20.1700\", \"4. close\": \"29.2500\", \"5. adjusted close\": \"29952.0000\", \"6. volume\": \"185106143\", \"7. dividend amount\": \"0.0000\"}, \"2010-04-30\": {\"1. open\": \"18.4100\", \"2. high\": \"21.2200\", \"3. low\": \"18.2000\", \"4. close\": \"21.2100\", \"5. adjusted close\": \"21719.0400\", \"6. volume\": \"89292092\", \"7. dividend amount\": \"0.0000\"}, \"2010-04-23\": {\"1. open\": \"20.2500\", \"2. high\": \"20.4600\", \"3. low\": \"17.8400\", \"4. close\": \"18.3700\", \"5. adjusted close\": \"18810.8800\", \"6. volume\": \"71269419\", \"7. dividend amount\": \"0.0000\"}, \"2010-04-16\": {\"1. open\": \"19.5100\", \"2. high\": \"20.7800\", \"3. low\": \"18.7400\", \"4. close\": \"19.9700\", \"5. adjusted close\": \"20449.2800\", \"6. volume\": \"66916815\", \"7. dividend amount\": \"0.0000\"}, \"2010-04-09\": {\"1. open\": \"20.7400\", \"2. high\": \"20.9201\", \"3. low\": \"19.4500\", \"4. close\": \"19.5500\", \"5. adjusted close\": \"20019.2000\", \"6. volume\": \"43989946\", \"7. dividend amount\": \"0.0000\"}, \"2010-04-01\": {\"1. open\": \"21.7600\", \"2. high\": \"21.9150\", \"3. low\": \"20.2600\", \"4. close\": \"21.0200\", \"5. adjusted close\": \"21524.4800\", \"6. volume\": \"30392516\", \"7. dividend amount\": \"0.0000\"}, \"2010-03-26\": {\"1. open\": \"22.8700\", \"2. high\": \"22.9800\", \"3. low\": \"21.2700\", \"4. close\": \"21.9900\", \"5. adjusted close\": \"22517.7600\", \"6. volume\": \"44357425\", \"7. dividend amount\": \"0.0000\"}, \"2010-03-19\": {\"1. open\": \"24.0100\", \"2. high\": \"24.3100\", \"3. low\": \"21.7800\", \"4. close\": \"22.3420\", \"5. adjusted close\": \"22878.2080\", \"6. volume\": \"41008334\", \"7. dividend amount\": \"0.0000\"}, \"2010-03-12\": {\"1. open\": \"23.9700\", \"2. high\": \"24.4600\", \"3. low\": \"23.1800\", \"4. close\": \"23.8500\", \"5. adjusted close\": \"24422.4000\", \"6. volume\": \"37919606\", \"7. dividend amount\": \"0.0000\"}, \"2010-03-05\": {\"1. open\": \"26.0000\", \"2. high\": \"26.0200\", \"3. low\": \"23.7700\", \"4. close\": \"24.0100\", \"5. adjusted close\": \"24586.2400\", \"6. volume\": \"31099596\", \"7. dividend amount\": \"0.0000\"}, \"2010-02-26\": {\"1. open\": \"26.7700\", \"2. high\": \"28.2200\", \"3. low\": \"26.1000\", \"4. close\": \"26.2900\", \"5. adjusted close\": \"26920.9600\", \"6. volume\": \"30678173\", \"7. dividend amount\": \"0.0000\"}, \"2010-02-19\": {\"1. open\": \"30.7500\", \"2. high\": \"30.8100\", \"3. low\": \"27.0000\", \"4. close\": \"27.0500\", \"5. adjusted close\": \"27699.2000\", \"6. volume\": \"22618681\", \"7. dividend amount\": \"0.0000\"}, \"2010-02-12\": {\"1. open\": \"32.6600\", \"2. high\": \"33.4699\", \"3. low\": \"31.1400\", \"4. close\": \"31.4300\", \"5. adjusted close\": \"32184.3200\", \"6. volume\": \"27618166\", \"7. dividend amount\": \"0.0000\"}, \"2010-02-05\": {\"1. open\": \"31.0400\", \"2. high\": \"34.4399\", \"3. low\": \"28.6000\", \"4. close\": \"32.6500\", \"5. adjusted close\": \"33433.6000\", \"6. volume\": \"42211129\", \"7. dividend amount\": \"0.0000\"}, \"2010-01-29\": {\"1. open\": \"30.9100\", \"2. high\": \"32.7400\", \"3. low\": \"30.1200\", \"4. close\": \"31.6400\", \"5. adjusted close\": \"32399.3600\", \"6. volume\": \"36563583\", \"7. dividend amount\": \"0.0000\"}, \"2010-01-22\": {\"1. open\": \"29.6500\", \"2. high\": \"32.2500\", \"3. low\": \"27.2900\", \"4. close\": \"31.8900\", \"5. adjusted close\": \"32655.3600\", \"6. volume\": \"36457500\", \"7. dividend amount\": \"0.0000\"}, \"2010-01-15\": {\"1. open\": \"29.3000\", \"2. high\": \"30.6200\", \"3. low\": \"28.6000\", \"4. close\": \"29.5100\", \"5. adjusted close\": \"30218.2400\", \"6. volume\": \"26342921\", \"7. dividend amount\": \"0.0000\"}, \"2010-01-08\": {\"1. open\": \"33.2200\", \"2. high\": \"33.2400\", \"3. low\": \"29.5000\", \"4. close\": \"29.5200\", \"5. adjusted close\": \"30228.4800\", \"6. volume\": \"19138979\", \"7. dividend amount\": \"0.0000\"}, \"2009-12-31\": {\"1. open\": \"32.6000\", \"2. high\": \"34.0900\", \"3. low\": \"32.0400\", \"4. close\": \"34.0700\", \"5. adjusted close\": \"34887.6800\", \"6. volume\": \"10481313\", \"7. dividend amount\": \"0.0000\"}, \"2009-12-24\": {\"1. open\": \"35.1000\", \"2. high\": \"35.2000\", \"3. low\": \"32.1600\", \"4. close\": \"32.6000\", \"5. adjusted close\": \"33382.4000\", \"6. volume\": \"5077978\", \"7. dividend amount\": \"0.0000\"}, \"2009-12-18\": {\"1. open\": \"37.8000\", \"2. high\": \"38.1799\", \"3. low\": \"35.1300\", \"4. close\": \"35.2400\", \"5. adjusted close\": \"36085.7600\", \"6. volume\": \"6939960\", \"7. dividend amount\": \"0.0000\"}, \"2009-12-11\": {\"1. open\": \"38.7100\", \"2. high\": \"39.6000\", \"3. low\": \"37.8100\", \"4. close\": \"38.0950\", \"5. adjusted close\": \"39009.2800\", \"6. volume\": \"6793738\", \"7. dividend amount\": \"0.0000\"}, \"2009-12-04\": {\"1. open\": \"39.8700\", \"2. high\": \"40.8700\", \"3. low\": \"37.6100\", \"4. close\": \"38.4400\", \"5. adjusted close\": \"39362.5600\", \"6. volume\": \"8530169\", \"7. dividend amount\": \"0.0000\"}, \"2009-11-27\": {\"1. open\": \"40.2250\", \"2. high\": \"42.1500\", \"3. low\": \"37.5200\", \"4. close\": \"40.1200\", \"5. adjusted close\": \"41082.8800\", \"6. volume\": \"7226094\", \"7. dividend amount\": \"0.0000\"}, \"2009-11-20\": {\"1. open\": \"42.9700\", \"2. high\": \"43.5000\", \"3. low\": \"40.8481\", \"4. close\": \"41.2400\", \"5. adjusted close\": \"42229.7600\", \"6. volume\": \"7985342\", \"7. dividend amount\": \"0.0000\"}, \"2009-11-13\": {\"1. open\": \"43.7900\", \"2. high\": \"44.9000\", \"3. low\": \"41.1200\", \"4. close\": \"43.5000\", \"5. adjusted close\": \"44544.0000\", \"6. volume\": \"7264922\", \"7. dividend amount\": \"0.0000\"}, \"2009-11-06\": {\"1. open\": \"47.5500\", \"2. high\": \"49.9100\", \"3. low\": \"44.5500\", \"4. close\": \"44.6300\", \"5. adjusted close\": \"45701.1200\", \"6. volume\": \"9022748\", \"7. dividend amount\": \"0.0000\"}, \"2009-10-30\": {\"1. open\": \"41.9700\", \"2. high\": \"49.0000\", \"3. low\": \"41.2000\", \"4. close\": \"48.2200\", \"5. adjusted close\": \"49377.2800\", \"6. volume\": \"9181549\", \"7. dividend amount\": \"0.0000\"}, \"2009-10-23\": {\"1. open\": \"44.4300\", \"2. high\": \"44.4900\", \"3. low\": \"41.1600\", \"4. close\": \"42.3200\", \"5. adjusted close\": \"43335.6800\", \"6. volume\": \"8518160\", \"7. dividend amount\": \"0.0000\"}, \"2009-10-16\": {\"1. open\": \"46.9900\", \"2. high\": \"47.2900\", \"3. low\": \"43.6800\", \"4. close\": \"44.6100\", \"5. adjusted close\": \"45680.6400\", \"6. volume\": \"5103184\", \"7. dividend amount\": \"0.0000\"}, \"2009-10-09\": {\"1. open\": \"52.2900\", \"2. high\": \"52.3700\", \"3. low\": \"47.2100\", \"4. close\": \"47.3200\", \"5. adjusted close\": \"48455.6800\", \"6. volume\": \"5132094\", \"7. dividend amount\": \"0.0000\"}, \"2009-10-02\": {\"1. open\": \"50.9500\", \"2. high\": \"53.5300\", \"3. low\": \"48.6300\", \"4. close\": \"52.2300\", \"5. adjusted close\": \"53483.5200\", \"6. volume\": \"5320224\", \"7. dividend amount\": \"0.0000\"}, \"2009-09-25\": {\"1. open\": \"51.4200\", \"2. high\": \"51.9700\", \"3. low\": \"47.6000\", \"4. close\": \"50.9400\", \"5. adjusted close\": \"52162.5600\", \"6. volume\": \"7116336\", \"7. dividend amount\": \"0.0000\"}, \"2009-09-18\": {\"1. open\": \"53.0000\", \"2. high\": \"53.6200\", \"3. low\": \"48.9000\", \"4. close\": \"50.7000\", \"5. adjusted close\": \"51916.8000\", \"6. volume\": \"6892807\", \"7. dividend amount\": \"0.0000\"}, \"2009-09-11\": {\"1. open\": \"57.5100\", \"2. high\": \"57.5400\", \"3. low\": \"51.1600\", \"4. close\": \"52.7900\", \"5. adjusted close\": \"54056.9600\", \"6. volume\": \"6068151\", \"7. dividend amount\": \"0.0000\"}, \"2009-09-04\": {\"1. open\": \"59.0900\", \"2. high\": \"62.7400\", \"3. low\": \"58.0000\", \"4. close\": \"58.0101\", \"5. adjusted close\": \"59402.3424\", \"6. volume\": \"4690977\", \"7. dividend amount\": \"0.0000\"}, \"2009-08-28\": {\"1. open\": \"56.5600\", \"2. high\": \"59.7500\", \"3. low\": \"56.0700\", \"4. close\": \"58.5100\", \"5. adjusted close\": \"59914.2400\", \"6. volume\": \"4444013\", \"7. dividend amount\": \"0.0000\"}, \"2009-08-21\": {\"1. open\": \"60.4600\", \"2. high\": \"62.3300\", \"3. low\": \"56.4500\", \"4. close\": \"56.7400\", \"5. adjusted close\": \"58101.7600\", \"6. volume\": \"4570576\", \"7. dividend amount\": \"0.0000\"}, \"2009-08-14\": {\"1. open\": \"58.8000\", \"2. high\": \"61.5200\", \"3. low\": \"57.1400\", \"4. close\": \"58.8700\", \"5. adjusted close\": \"60282.8800\", \"6. volume\": \"3467666\", \"7. dividend amount\": \"0.0000\"}, \"2009-08-07\": {\"1. open\": \"61.3400\", \"2. high\": \"61.7800\", \"3. low\": \"57.5100\", \"4. close\": \"58.2700\", \"5. adjusted close\": \"59668.4800\", \"6. volume\": \"3483609\", \"7. dividend amount\": \"0.0000\"}, \"2009-07-31\": {\"1. open\": \"60.2300\", \"2. high\": \"63.9300\", \"3. low\": \"59.3600\", \"4. close\": \"61.9700\", \"5. adjusted close\": \"63457.2800\", \"6. volume\": \"3686408\", \"7. dividend amount\": \"0.0000\"}, \"2009-07-24\": {\"1. open\": \"65.9900\", \"2. high\": \"66.5800\", \"3. low\": \"59.3300\", \"4. close\": \"59.3700\", \"5. adjusted close\": \"60794.8800\", \"6. volume\": \"5784674\", \"7. dividend amount\": \"0.0000\"}, \"2009-07-17\": {\"1. open\": \"73.4800\", \"2. high\": \"73.7200\", \"3. low\": \"65.7500\", \"4. close\": \"66.3300\", \"5. adjusted close\": \"67921.9200\", \"6. volume\": \"4750477\", \"7. dividend amount\": \"0.0000\"}, \"2009-07-10\": {\"1. open\": \"72.4700\", \"2. high\": \"77.3000\", \"3. low\": \"70.5800\", \"4. close\": \"73.1500\", \"5. adjusted close\": \"74905.6000\", \"6. volume\": \"2355751\", \"7. dividend amount\": \"0.0000\"}, \"2009-07-02\": {\"1. open\": \"69.9400\", \"2. high\": \"71.6800\", \"3. low\": \"65.8700\", \"4. close\": \"71.5800\", \"5. adjusted close\": \"73297.9200\", \"6. volume\": \"3194695\", \"7. dividend amount\": \"0.0000\"}, \"2009-06-26\": {\"1. open\": \"77.9700\", \"2. high\": \"79.9400\", \"3. low\": \"69.2700\", \"4. close\": \"69.8000\", \"5. adjusted close\": \"71475.2000\", \"6. volume\": \"2447304\", \"7. dividend amount\": \"0.0000\"}, \"2009-06-19\": {\"1. open\": \"72.9000\", \"2. high\": \"80.2700\", \"3. low\": \"72.6850\", \"4. close\": \"76.0200\", \"5. adjusted close\": \"77844.4800\", \"6. volume\": \"2163946\", \"7. dividend amount\": \"0.0000\"}, \"2009-06-12\": {\"1. open\": \"78.0400\", \"2. high\": \"80.0100\", \"3. low\": \"71.4800\", \"4. close\": \"71.9000\", \"5. adjusted close\": \"73625.6000\", \"6. volume\": \"1740173\", \"7. dividend amount\": \"0.0000\"}, \"2009-06-05\": {\"1. open\": \"76.8800\", \"2. high\": \"80.2900\", \"3. low\": \"72.7200\", \"4. close\": \"77.3500\", \"5. adjusted close\": \"79206.4000\", \"6. volume\": \"1673071\", \"7. dividend amount\": \"0.0000\"}, \"2009-05-29\": {\"1. open\": \"83.8100\", \"2. high\": \"83.8100\", \"3. low\": \"76.1500\", \"4. close\": \"77.9300\", \"5. adjusted close\": \"79800.3200\", \"6. volume\": \"1684518\", \"7. dividend amount\": \"0.0000\"}, \"2009-05-22\": {\"1. open\": \"83.4900\", \"2. high\": \"83.8100\", \"3. low\": \"71.9600\", \"4. close\": \"83.8100\", \"5. adjusted close\": \"85821.4400\", \"6. volume\": \"2976905\", \"7. dividend amount\": \"0.0000\"}, \"2009-05-15\": {\"1. open\": \"83.6500\", \"2. high\": \"87.3000\", \"3. low\": \"80.2600\", \"4. close\": \"83.4300\", \"5. adjusted close\": \"85432.3200\", \"6. volume\": \"1533767\", \"7. dividend amount\": \"0.0000\"}, \"2009-05-08\": {\"1. open\": \"90.9500\", \"2. high\": \"91.9600\", \"3. low\": \"81.4900\", \"4. close\": \"82.6500\", \"5. adjusted close\": \"84633.6000\", \"6. volume\": \"1551331\", \"7. dividend amount\": \"0.0000\"}, \"2009-05-01\": {\"1. open\": \"95.9900\", \"2. high\": \"99.8400\", \"3. low\": \"90.2100\", \"4. close\": \"92.5600\", \"5. adjusted close\": \"94781.4400\", \"6. volume\": \"1490914\", \"7. dividend amount\": \"0.0000\"}, \"2009-04-24\": {\"1. open\": \"94.5900\", \"2. high\": \"101.0700\", \"3. low\": \"92.3100\", \"4. close\": \"95.6100\", \"5. adjusted close\": \"97904.6400\", \"6. volume\": \"1861840\", \"7. dividend amount\": \"0.0000\"}, \"2009-04-17\": {\"1. open\": \"102.5200\", \"2. high\": \"103.5140\", \"3. low\": \"92.5600\", \"4. close\": \"92.7300\", \"5. adjusted close\": \"94955.5200\", \"6. volume\": \"2073923\", \"7. dividend amount\": \"0.0000\"}, \"2009-04-09\": {\"1. open\": \"108.3900\", \"2. high\": \"110.0000\", \"3. low\": \"100.7400\", \"4. close\": \"101.8600\", \"5. adjusted close\": \"104304.6400\", \"6. volume\": \"2035324\", \"7. dividend amount\": \"0.0000\"}, \"2009-04-03\": {\"1. open\": \"112.0000\", \"2. high\": \"118.9900\", \"3. low\": \"106.4900\", \"4. close\": \"107.4200\", \"5. adjusted close\": \"109998.0800\", \"6. volume\": \"3216092\", \"7. dividend amount\": \"0.0000\"}, \"2009-03-27\": {\"1. open\": \"113.0000\", \"2. high\": \"114.7500\", \"3. low\": \"103.1800\", \"4. close\": \"107.3100\", \"5. adjusted close\": \"109885.4400\", \"6. volume\": \"2938835\", \"7. dividend amount\": \"0.0000\"}, \"2009-03-20\": {\"1. open\": \"104.0000\", \"2. high\": \"116.8600\", \"3. low\": \"102.0000\", \"4. close\": \"115.9601\", \"5. adjusted close\": \"118743.1424\", \"6. volume\": \"3081928\", \"7. dividend amount\": \"0.0000\"}, \"2009-03-13\": {\"1. open\": \"113.5500\", \"2. high\": \"114.5000\", \"3. low\": \"101.9300\", \"4. close\": \"104.2500\", \"5. adjusted close\": \"106752.0000\", \"6. volume\": \"1642712\", \"7. dividend amount\": \"0.0000\"}, \"2009-03-06\": {\"1. open\": \"111.0200\", \"2. high\": \"118.5500\", \"3. low\": \"104.7900\", \"4. close\": \"113.3800\", \"5. adjusted close\": \"116101.1200\", \"6. volume\": \"886225\", \"7. dividend amount\": \"0.0000\"}, \"2009-02-27\": {\"1. open\": \"111.0000\", \"2. high\": \"120.0000\", \"3. low\": \"102.9600\", \"4. close\": \"108.6700\", \"5. adjusted close\": \"111278.0800\", \"6. volume\": \"586962\", \"7. dividend amount\": \"0.0000\"}, \"2009-02-20\": {\"1. open\": \"107.0000\", \"2. high\": \"116.4000\", \"3. low\": \"105.0000\", \"4. close\": \"113.3200\", \"5. adjusted close\": \"116039.6800\", \"6. volume\": \"371829\", \"7. dividend amount\": \"0.0000\"}, \"2009-02-13\": {\"1. open\": \"98.3300\", \"2. high\": \"108.0000\", \"3. low\": \"97.8700\", \"4. close\": \"101.9900\", \"5. adjusted close\": \"104437.7600\", \"6. volume\": \"679318\", \"7. dividend amount\": \"0.0000\"}, \"2009-02-06\": {\"1. open\": \"108.1000\", \"2. high\": \"108.1000\", \"3. low\": \"95.0600\", \"4. close\": \"97.7000\", \"5. adjusted close\": \"100044.8000\", \"6. volume\": \"1040193\", \"7. dividend amount\": \"0.0000\"}}'"
      ]
     },
     "execution_count": 156,
     "metadata": {},
     "output_type": "execute_result"
    }
   ],
   "source": [
    "json.dumps(dataset)\n",
    "dataset"
   ]
  },
  {
   "cell_type": "code",
   "execution_count": 164,
   "metadata": {},
   "outputs": [
    {
     "data": {
      "text/html": [
       "<div>\n",
       "<style>\n",
       "    .dataframe thead tr:only-child th {\n",
       "        text-align: right;\n",
       "    }\n",
       "\n",
       "    .dataframe thead th {\n",
       "        text-align: left;\n",
       "    }\n",
       "\n",
       "    .dataframe tbody tr th {\n",
       "        vertical-align: top;\n",
       "    }\n",
       "</style>\n",
       "<table border=\"1\" class=\"dataframe\">\n",
       "  <thead>\n",
       "    <tr style=\"text-align: right;\">\n",
       "      <th></th>\n",
       "      <th>1. open</th>\n",
       "      <th>2. high</th>\n",
       "      <th>3. low</th>\n",
       "      <th>4. close</th>\n",
       "      <th>5. adjusted close</th>\n",
       "      <th>6. volume</th>\n",
       "      <th>7. dividend amount</th>\n",
       "    </tr>\n",
       "  </thead>\n",
       "  <tbody>\n",
       "    <tr>\n",
       "      <th>2010-12-10</th>\n",
       "      <td>109.4600</td>\n",
       "      <td>119.9000</td>\n",
       "      <td>109.4600</td>\n",
       "      <td>119.1700</td>\n",
       "      <td>11.9170</td>\n",
       "      <td>209527</td>\n",
       "      <td>0</td>\n",
       "    </tr>\n",
       "    <tr>\n",
       "      <th>2010-12-17</th>\n",
       "      <td>120.0200</td>\n",
       "      <td>120.0200</td>\n",
       "      <td>113.6800</td>\n",
       "      <td>118.2200</td>\n",
       "      <td>11.8220</td>\n",
       "      <td>110231</td>\n",
       "      <td>0</td>\n",
       "    </tr>\n",
       "    <tr>\n",
       "      <th>2010-12-23</th>\n",
       "      <td>119.7500</td>\n",
       "      <td>124.8400</td>\n",
       "      <td>118.7100</td>\n",
       "      <td>119.6899</td>\n",
       "      <td>11.9690</td>\n",
       "      <td>36056</td>\n",
       "      <td>0</td>\n",
       "    </tr>\n",
       "    <tr>\n",
       "      <th>2010-12-31</th>\n",
       "      <td>117.5100</td>\n",
       "      <td>120.0200</td>\n",
       "      <td>115.3700</td>\n",
       "      <td>119.5400</td>\n",
       "      <td>11.9540</td>\n",
       "      <td>23838</td>\n",
       "      <td>0</td>\n",
       "    </tr>\n",
       "    <tr>\n",
       "      <th>2011-01-07</th>\n",
       "      <td>122.7201</td>\n",
       "      <td>128.0000</td>\n",
       "      <td>120.8200</td>\n",
       "      <td>125.0800</td>\n",
       "      <td>12.5080</td>\n",
       "      <td>38452</td>\n",
       "      <td>0</td>\n",
       "    </tr>\n",
       "    <tr>\n",
       "      <th>2011-01-14</th>\n",
       "      <td>123.2800</td>\n",
       "      <td>142.8500</td>\n",
       "      <td>121.9400</td>\n",
       "      <td>142.0900</td>\n",
       "      <td>14.2090</td>\n",
       "      <td>198787</td>\n",
       "      <td>0</td>\n",
       "    </tr>\n",
       "    <tr>\n",
       "      <th>2011-01-21</th>\n",
       "      <td>142.3300</td>\n",
       "      <td>146.6400</td>\n",
       "      <td>134.1892</td>\n",
       "      <td>138.3500</td>\n",
       "      <td>13.8350</td>\n",
       "      <td>184475</td>\n",
       "      <td>0</td>\n",
       "    </tr>\n",
       "    <tr>\n",
       "      <th>2011-01-28</th>\n",
       "      <td>138.3600</td>\n",
       "      <td>153.0200</td>\n",
       "      <td>135.6900</td>\n",
       "      <td>137.5000</td>\n",
       "      <td>13.7500</td>\n",
       "      <td>245763</td>\n",
       "      <td>0</td>\n",
       "    </tr>\n",
       "    <tr>\n",
       "      <th>2011-02-04</th>\n",
       "      <td>139.3400</td>\n",
       "      <td>150.4500</td>\n",
       "      <td>136.4300</td>\n",
       "      <td>150.0600</td>\n",
       "      <td>15.0060</td>\n",
       "      <td>198022</td>\n",
       "      <td>0</td>\n",
       "    </tr>\n",
       "    <tr>\n",
       "      <th>2011-02-11</th>\n",
       "      <td>152.1500</td>\n",
       "      <td>156.8200</td>\n",
       "      <td>150.0000</td>\n",
       "      <td>156.6600</td>\n",
       "      <td>15.6660</td>\n",
       "      <td>198370</td>\n",
       "      <td>0</td>\n",
       "    </tr>\n",
       "    <tr>\n",
       "      <th>2011-02-18</th>\n",
       "      <td>156.8500</td>\n",
       "      <td>159.4900</td>\n",
       "      <td>149.6400</td>\n",
       "      <td>150.8500</td>\n",
       "      <td>15.0850</td>\n",
       "      <td>263038</td>\n",
       "      <td>0</td>\n",
       "    </tr>\n",
       "    <tr>\n",
       "      <th>2011-02-25</th>\n",
       "      <td>141.7500</td>\n",
       "      <td>145.1600</td>\n",
       "      <td>121.8400</td>\n",
       "      <td>135.5400</td>\n",
       "      <td>13.5540</td>\n",
       "      <td>673465</td>\n",
       "      <td>0</td>\n",
       "    </tr>\n",
       "    <tr>\n",
       "      <th>2011-03-04</th>\n",
       "      <td>139.0000</td>\n",
       "      <td>143.0200</td>\n",
       "      <td>128.6000</td>\n",
       "      <td>133.1700</td>\n",
       "      <td>13.3170</td>\n",
       "      <td>611083</td>\n",
       "      <td>0</td>\n",
       "    </tr>\n",
       "    <tr>\n",
       "      <th>2011-03-11</th>\n",
       "      <td>129.0800</td>\n",
       "      <td>136.0200</td>\n",
       "      <td>121.5690</td>\n",
       "      <td>127.0600</td>\n",
       "      <td>12.7060</td>\n",
       "      <td>754892</td>\n",
       "      <td>0</td>\n",
       "    </tr>\n",
       "    <tr>\n",
       "      <th>2011-03-18</th>\n",
       "      <td>123.1600</td>\n",
       "      <td>126.1500</td>\n",
       "      <td>105.4800</td>\n",
       "      <td>117.4000</td>\n",
       "      <td>11.7400</td>\n",
       "      <td>1323177</td>\n",
       "      <td>0</td>\n",
       "    </tr>\n",
       "    <tr>\n",
       "      <th>2011-03-25</th>\n",
       "      <td>122.3100</td>\n",
       "      <td>139.2200</td>\n",
       "      <td>121.4100</td>\n",
       "      <td>135.6000</td>\n",
       "      <td>13.5600</td>\n",
       "      <td>598864</td>\n",
       "      <td>0</td>\n",
       "    </tr>\n",
       "    <tr>\n",
       "      <th>2011-04-01</th>\n",
       "      <td>136.9300</td>\n",
       "      <td>144.1300</td>\n",
       "      <td>132.0000</td>\n",
       "      <td>141.1600</td>\n",
       "      <td>14.1160</td>\n",
       "      <td>427691</td>\n",
       "      <td>0</td>\n",
       "    </tr>\n",
       "    <tr>\n",
       "      <th>2011-04-08</th>\n",
       "      <td>142.4700</td>\n",
       "      <td>147.1900</td>\n",
       "      <td>140.0000</td>\n",
       "      <td>141.7300</td>\n",
       "      <td>14.1730</td>\n",
       "      <td>309485</td>\n",
       "      <td>0</td>\n",
       "    </tr>\n",
       "    <tr>\n",
       "      <th>2011-04-15</th>\n",
       "      <td>143.0768</td>\n",
       "      <td>149.3001</td>\n",
       "      <td>138.8500</td>\n",
       "      <td>148.7100</td>\n",
       "      <td>14.8710</td>\n",
       "      <td>391119</td>\n",
       "      <td>0</td>\n",
       "    </tr>\n",
       "    <tr>\n",
       "      <th>2011-04-21</th>\n",
       "      <td>142.0500</td>\n",
       "      <td>163.4200</td>\n",
       "      <td>139.0000</td>\n",
       "      <td>163.3700</td>\n",
       "      <td>16.3370</td>\n",
       "      <td>1609025</td>\n",
       "      <td>0</td>\n",
       "    </tr>\n",
       "    <tr>\n",
       "      <th>2011-04-29</th>\n",
       "      <td>164.1900</td>\n",
       "      <td>176.1200</td>\n",
       "      <td>163.0000</td>\n",
       "      <td>174.9200</td>\n",
       "      <td>17.4920</td>\n",
       "      <td>533118</td>\n",
       "      <td>0</td>\n",
       "    </tr>\n",
       "    <tr>\n",
       "      <th>2011-05-06</th>\n",
       "      <td>176.8700</td>\n",
       "      <td>176.8700</td>\n",
       "      <td>157.8300</td>\n",
       "      <td>163.2500</td>\n",
       "      <td>16.3250</td>\n",
       "      <td>1033513</td>\n",
       "      <td>0</td>\n",
       "    </tr>\n",
       "    <tr>\n",
       "      <th>2011-05-13</th>\n",
       "      <td>162.5500</td>\n",
       "      <td>175.0000</td>\n",
       "      <td>162.5300</td>\n",
       "      <td>170.3400</td>\n",
       "      <td>17.0340</td>\n",
       "      <td>974928</td>\n",
       "      <td>0</td>\n",
       "    </tr>\n",
       "    <tr>\n",
       "      <th>2011-05-20</th>\n",
       "      <td>168.5500</td>\n",
       "      <td>180.7500</td>\n",
       "      <td>162.3601</td>\n",
       "      <td>176.1820</td>\n",
       "      <td>17.6182</td>\n",
       "      <td>1320098</td>\n",
       "      <td>0</td>\n",
       "    </tr>\n",
       "    <tr>\n",
       "      <th>2011-05-27</th>\n",
       "      <td>167.7300</td>\n",
       "      <td>185.0100</td>\n",
       "      <td>166.6600</td>\n",
       "      <td>182.7900</td>\n",
       "      <td>18.2790</td>\n",
       "      <td>954456</td>\n",
       "      <td>0</td>\n",
       "    </tr>\n",
       "    <tr>\n",
       "      <th>2011-06-03</th>\n",
       "      <td>189.6000</td>\n",
       "      <td>189.6000</td>\n",
       "      <td>170.2500</td>\n",
       "      <td>177.6600</td>\n",
       "      <td>17.7660</td>\n",
       "      <td>928218</td>\n",
       "      <td>0</td>\n",
       "    </tr>\n",
       "    <tr>\n",
       "      <th>2011-06-10</th>\n",
       "      <td>178.0500</td>\n",
       "      <td>181.0000</td>\n",
       "      <td>171.7900</td>\n",
       "      <td>173.5500</td>\n",
       "      <td>17.3550</td>\n",
       "      <td>1371196</td>\n",
       "      <td>0</td>\n",
       "    </tr>\n",
       "    <tr>\n",
       "      <th>2011-06-17</th>\n",
       "      <td>174.2400</td>\n",
       "      <td>177.7000</td>\n",
       "      <td>144.6200</td>\n",
       "      <td>154.9600</td>\n",
       "      <td>15.4960</td>\n",
       "      <td>3829064</td>\n",
       "      <td>0</td>\n",
       "    </tr>\n",
       "    <tr>\n",
       "      <th>2011-06-24</th>\n",
       "      <td>153.8300</td>\n",
       "      <td>172.3100</td>\n",
       "      <td>152.8500</td>\n",
       "      <td>158.5400</td>\n",
       "      <td>15.8540</td>\n",
       "      <td>1998164</td>\n",
       "      <td>0</td>\n",
       "    </tr>\n",
       "    <tr>\n",
       "      <th>2011-07-01</th>\n",
       "      <td>15.8300</td>\n",
       "      <td>19.1500</td>\n",
       "      <td>15.6200</td>\n",
       "      <td>19.0000</td>\n",
       "      <td>19.0000</td>\n",
       "      <td>12753058</td>\n",
       "      <td>0</td>\n",
       "    </tr>\n",
       "    <tr>\n",
       "      <th>...</th>\n",
       "      <td>...</td>\n",
       "      <td>...</td>\n",
       "      <td>...</td>\n",
       "      <td>...</td>\n",
       "      <td>...</td>\n",
       "      <td>...</td>\n",
       "      <td>...</td>\n",
       "    </tr>\n",
       "    <tr>\n",
       "      <th>2017-07-14</th>\n",
       "      <td>81.0700</td>\n",
       "      <td>88.7700</td>\n",
       "      <td>79.3700</td>\n",
       "      <td>88.1900</td>\n",
       "      <td>88.1900</td>\n",
       "      <td>53306252</td>\n",
       "      <td>0</td>\n",
       "    </tr>\n",
       "    <tr>\n",
       "      <th>2017-07-21</th>\n",
       "      <td>89.8500</td>\n",
       "      <td>94.3600</td>\n",
       "      <td>88.6500</td>\n",
       "      <td>94.2500</td>\n",
       "      <td>94.2500</td>\n",
       "      <td>41884544</td>\n",
       "      <td>0</td>\n",
       "    </tr>\n",
       "    <tr>\n",
       "      <th>2017-07-28</th>\n",
       "      <td>94.6800</td>\n",
       "      <td>96.9100</td>\n",
       "      <td>89.2700</td>\n",
       "      <td>93.6200</td>\n",
       "      <td>93.6200</td>\n",
       "      <td>46171983</td>\n",
       "      <td>0</td>\n",
       "    </tr>\n",
       "    <tr>\n",
       "      <th>2017-08-04</th>\n",
       "      <td>95.0700</td>\n",
       "      <td>96.1900</td>\n",
       "      <td>93.2700</td>\n",
       "      <td>94.2900</td>\n",
       "      <td>94.2900</td>\n",
       "      <td>44567238</td>\n",
       "      <td>0</td>\n",
       "    </tr>\n",
       "    <tr>\n",
       "      <th>2017-08-11</th>\n",
       "      <td>94.5000</td>\n",
       "      <td>96.7200</td>\n",
       "      <td>72.6400</td>\n",
       "      <td>74.5800</td>\n",
       "      <td>74.5800</td>\n",
       "      <td>97605931</td>\n",
       "      <td>0</td>\n",
       "    </tr>\n",
       "    <tr>\n",
       "      <th>2017-08-18</th>\n",
       "      <td>80.2600</td>\n",
       "      <td>86.4000</td>\n",
       "      <td>71.2100</td>\n",
       "      <td>73.8900</td>\n",
       "      <td>73.8900</td>\n",
       "      <td>108092678</td>\n",
       "      <td>0</td>\n",
       "    </tr>\n",
       "    <tr>\n",
       "      <th>2017-08-25</th>\n",
       "      <td>74.5300</td>\n",
       "      <td>82.7100</td>\n",
       "      <td>73.3100</td>\n",
       "      <td>81.3200</td>\n",
       "      <td>81.3200</td>\n",
       "      <td>72984375</td>\n",
       "      <td>0</td>\n",
       "    </tr>\n",
       "    <tr>\n",
       "      <th>2017-09-01</th>\n",
       "      <td>82.5100</td>\n",
       "      <td>84.7800</td>\n",
       "      <td>76.1400</td>\n",
       "      <td>83.7200</td>\n",
       "      <td>83.7200</td>\n",
       "      <td>51319899</td>\n",
       "      <td>0</td>\n",
       "    </tr>\n",
       "    <tr>\n",
       "      <th>2017-09-08</th>\n",
       "      <td>81.1200</td>\n",
       "      <td>82.7100</td>\n",
       "      <td>76.1200</td>\n",
       "      <td>79.7000</td>\n",
       "      <td>79.7000</td>\n",
       "      <td>49857809</td>\n",
       "      <td>0</td>\n",
       "    </tr>\n",
       "    <tr>\n",
       "      <th>2017-09-15</th>\n",
       "      <td>82.8300</td>\n",
       "      <td>89.8800</td>\n",
       "      <td>82.7400</td>\n",
       "      <td>89.6100</td>\n",
       "      <td>89.6100</td>\n",
       "      <td>33507052</td>\n",
       "      <td>0</td>\n",
       "    </tr>\n",
       "    <tr>\n",
       "      <th>2017-09-22</th>\n",
       "      <td>90.8400</td>\n",
       "      <td>94.2200</td>\n",
       "      <td>89.9800</td>\n",
       "      <td>92.8300</td>\n",
       "      <td>92.8300</td>\n",
       "      <td>30076675</td>\n",
       "      <td>0</td>\n",
       "    </tr>\n",
       "    <tr>\n",
       "      <th>2017-09-29</th>\n",
       "      <td>92.7800</td>\n",
       "      <td>97.8400</td>\n",
       "      <td>90.0400</td>\n",
       "      <td>97.5400</td>\n",
       "      <td>97.5400</td>\n",
       "      <td>36784453</td>\n",
       "      <td>0</td>\n",
       "    </tr>\n",
       "    <tr>\n",
       "      <th>2017-10-06</th>\n",
       "      <td>98.1900</td>\n",
       "      <td>103.0700</td>\n",
       "      <td>98.1300</td>\n",
       "      <td>102.7600</td>\n",
       "      <td>102.7600</td>\n",
       "      <td>28732380</td>\n",
       "      <td>0</td>\n",
       "    </tr>\n",
       "    <tr>\n",
       "      <th>2017-10-13</th>\n",
       "      <td>103.2700</td>\n",
       "      <td>108.8800</td>\n",
       "      <td>99.7100</td>\n",
       "      <td>107.8400</td>\n",
       "      <td>107.8400</td>\n",
       "      <td>27494746</td>\n",
       "      <td>0</td>\n",
       "    </tr>\n",
       "    <tr>\n",
       "      <th>2017-10-20</th>\n",
       "      <td>108.8800</td>\n",
       "      <td>113.0300</td>\n",
       "      <td>105.0300</td>\n",
       "      <td>112.6800</td>\n",
       "      <td>112.6800</td>\n",
       "      <td>29323886</td>\n",
       "      <td>0</td>\n",
       "    </tr>\n",
       "    <tr>\n",
       "      <th>2017-10-27</th>\n",
       "      <td>113.4800</td>\n",
       "      <td>113.5900</td>\n",
       "      <td>96.9500</td>\n",
       "      <td>110.6600</td>\n",
       "      <td>110.6600</td>\n",
       "      <td>58437755</td>\n",
       "      <td>0</td>\n",
       "    </tr>\n",
       "    <tr>\n",
       "      <th>2017-11-03</th>\n",
       "      <td>109.0700</td>\n",
       "      <td>113.3800</td>\n",
       "      <td>107.1000</td>\n",
       "      <td>112.4700</td>\n",
       "      <td>112.4700</td>\n",
       "      <td>39398990</td>\n",
       "      <td>0</td>\n",
       "    </tr>\n",
       "    <tr>\n",
       "      <th>2017-11-10</th>\n",
       "      <td>112.8400</td>\n",
       "      <td>114.4600</td>\n",
       "      <td>105.2000</td>\n",
       "      <td>108.8300</td>\n",
       "      <td>108.8300</td>\n",
       "      <td>43502007</td>\n",
       "      <td>0</td>\n",
       "    </tr>\n",
       "    <tr>\n",
       "      <th>2017-11-17</th>\n",
       "      <td>106.8900</td>\n",
       "      <td>110.5100</td>\n",
       "      <td>101.8200</td>\n",
       "      <td>109.7000</td>\n",
       "      <td>109.7000</td>\n",
       "      <td>41687156</td>\n",
       "      <td>0</td>\n",
       "    </tr>\n",
       "    <tr>\n",
       "      <th>2017-11-24</th>\n",
       "      <td>111.3400</td>\n",
       "      <td>119.6400</td>\n",
       "      <td>110.9300</td>\n",
       "      <td>118.7900</td>\n",
       "      <td>118.7900</td>\n",
       "      <td>20093185</td>\n",
       "      <td>0</td>\n",
       "    </tr>\n",
       "    <tr>\n",
       "      <th>2017-12-01</th>\n",
       "      <td>118.6600</td>\n",
       "      <td>121.3800</td>\n",
       "      <td>102.8200</td>\n",
       "      <td>114.3100</td>\n",
       "      <td>114.3100</td>\n",
       "      <td>45181791</td>\n",
       "      <td>0</td>\n",
       "    </tr>\n",
       "    <tr>\n",
       "      <th>2017-12-08</th>\n",
       "      <td>119.7600</td>\n",
       "      <td>124.0500</td>\n",
       "      <td>114.2700</td>\n",
       "      <td>123.7500</td>\n",
       "      <td>123.7500</td>\n",
       "      <td>31845097</td>\n",
       "      <td>0</td>\n",
       "    </tr>\n",
       "    <tr>\n",
       "      <th>2017-12-15</th>\n",
       "      <td>124.3200</td>\n",
       "      <td>134.4300</td>\n",
       "      <td>124.1700</td>\n",
       "      <td>132.6600</td>\n",
       "      <td>132.6600</td>\n",
       "      <td>22311588</td>\n",
       "      <td>0</td>\n",
       "    </tr>\n",
       "    <tr>\n",
       "      <th>2017-12-22</th>\n",
       "      <td>135.1700</td>\n",
       "      <td>137.1099</td>\n",
       "      <td>133.0800</td>\n",
       "      <td>135.2800</td>\n",
       "      <td>135.2800</td>\n",
       "      <td>21818343</td>\n",
       "      <td>0</td>\n",
       "    </tr>\n",
       "    <tr>\n",
       "      <th>2017-12-29</th>\n",
       "      <td>134.0000</td>\n",
       "      <td>137.4200</td>\n",
       "      <td>133.9700</td>\n",
       "      <td>134.4400</td>\n",
       "      <td>134.4400</td>\n",
       "      <td>14418625</td>\n",
       "      <td>0</td>\n",
       "    </tr>\n",
       "    <tr>\n",
       "      <th>2018-01-05</th>\n",
       "      <td>135.2500</td>\n",
       "      <td>143.9900</td>\n",
       "      <td>134.5100</td>\n",
       "      <td>142.2600</td>\n",
       "      <td>142.2600</td>\n",
       "      <td>14360676</td>\n",
       "      <td>0</td>\n",
       "    </tr>\n",
       "    <tr>\n",
       "      <th>2018-01-12</th>\n",
       "      <td>142.7800</td>\n",
       "      <td>146.4400</td>\n",
       "      <td>139.3000</td>\n",
       "      <td>144.7500</td>\n",
       "      <td>144.7500</td>\n",
       "      <td>17814813</td>\n",
       "      <td>0</td>\n",
       "    </tr>\n",
       "    <tr>\n",
       "      <th>2018-01-19</th>\n",
       "      <td>144.3000</td>\n",
       "      <td>144.6300</td>\n",
       "      <td>135.3600</td>\n",
       "      <td>141.2500</td>\n",
       "      <td>141.2500</td>\n",
       "      <td>30784984</td>\n",
       "      <td>0</td>\n",
       "    </tr>\n",
       "    <tr>\n",
       "      <th>2018-01-26</th>\n",
       "      <td>140.5500</td>\n",
       "      <td>145.6400</td>\n",
       "      <td>135.4550</td>\n",
       "      <td>136.7300</td>\n",
       "      <td>136.7300</td>\n",
       "      <td>25826214</td>\n",
       "      <td>0</td>\n",
       "    </tr>\n",
       "    <tr>\n",
       "      <th>2018-01-31</th>\n",
       "      <td>134.8000</td>\n",
       "      <td>135.0500</td>\n",
       "      <td>122.7000</td>\n",
       "      <td>125.5500</td>\n",
       "      <td>125.5500</td>\n",
       "      <td>12908101</td>\n",
       "      <td>0</td>\n",
       "    </tr>\n",
       "  </tbody>\n",
       "</table>\n",
       "<p>374 rows × 7 columns</p>\n",
       "</div>"
      ],
      "text/plain": [
       "             1. open   2. high    3. low  4. close  5. adjusted close  \\\n",
       "2010-12-10  109.4600  119.9000  109.4600  119.1700            11.9170   \n",
       "2010-12-17  120.0200  120.0200  113.6800  118.2200            11.8220   \n",
       "2010-12-23  119.7500  124.8400  118.7100  119.6899            11.9690   \n",
       "2010-12-31  117.5100  120.0200  115.3700  119.5400            11.9540   \n",
       "2011-01-07  122.7201  128.0000  120.8200  125.0800            12.5080   \n",
       "2011-01-14  123.2800  142.8500  121.9400  142.0900            14.2090   \n",
       "2011-01-21  142.3300  146.6400  134.1892  138.3500            13.8350   \n",
       "2011-01-28  138.3600  153.0200  135.6900  137.5000            13.7500   \n",
       "2011-02-04  139.3400  150.4500  136.4300  150.0600            15.0060   \n",
       "2011-02-11  152.1500  156.8200  150.0000  156.6600            15.6660   \n",
       "2011-02-18  156.8500  159.4900  149.6400  150.8500            15.0850   \n",
       "2011-02-25  141.7500  145.1600  121.8400  135.5400            13.5540   \n",
       "2011-03-04  139.0000  143.0200  128.6000  133.1700            13.3170   \n",
       "2011-03-11  129.0800  136.0200  121.5690  127.0600            12.7060   \n",
       "2011-03-18  123.1600  126.1500  105.4800  117.4000            11.7400   \n",
       "2011-03-25  122.3100  139.2200  121.4100  135.6000            13.5600   \n",
       "2011-04-01  136.9300  144.1300  132.0000  141.1600            14.1160   \n",
       "2011-04-08  142.4700  147.1900  140.0000  141.7300            14.1730   \n",
       "2011-04-15  143.0768  149.3001  138.8500  148.7100            14.8710   \n",
       "2011-04-21  142.0500  163.4200  139.0000  163.3700            16.3370   \n",
       "2011-04-29  164.1900  176.1200  163.0000  174.9200            17.4920   \n",
       "2011-05-06  176.8700  176.8700  157.8300  163.2500            16.3250   \n",
       "2011-05-13  162.5500  175.0000  162.5300  170.3400            17.0340   \n",
       "2011-05-20  168.5500  180.7500  162.3601  176.1820            17.6182   \n",
       "2011-05-27  167.7300  185.0100  166.6600  182.7900            18.2790   \n",
       "2011-06-03  189.6000  189.6000  170.2500  177.6600            17.7660   \n",
       "2011-06-10  178.0500  181.0000  171.7900  173.5500            17.3550   \n",
       "2011-06-17  174.2400  177.7000  144.6200  154.9600            15.4960   \n",
       "2011-06-24  153.8300  172.3100  152.8500  158.5400            15.8540   \n",
       "2011-07-01   15.8300   19.1500   15.6200   19.0000            19.0000   \n",
       "...              ...       ...       ...       ...                ...   \n",
       "2017-07-14   81.0700   88.7700   79.3700   88.1900            88.1900   \n",
       "2017-07-21   89.8500   94.3600   88.6500   94.2500            94.2500   \n",
       "2017-07-28   94.6800   96.9100   89.2700   93.6200            93.6200   \n",
       "2017-08-04   95.0700   96.1900   93.2700   94.2900            94.2900   \n",
       "2017-08-11   94.5000   96.7200   72.6400   74.5800            74.5800   \n",
       "2017-08-18   80.2600   86.4000   71.2100   73.8900            73.8900   \n",
       "2017-08-25   74.5300   82.7100   73.3100   81.3200            81.3200   \n",
       "2017-09-01   82.5100   84.7800   76.1400   83.7200            83.7200   \n",
       "2017-09-08   81.1200   82.7100   76.1200   79.7000            79.7000   \n",
       "2017-09-15   82.8300   89.8800   82.7400   89.6100            89.6100   \n",
       "2017-09-22   90.8400   94.2200   89.9800   92.8300            92.8300   \n",
       "2017-09-29   92.7800   97.8400   90.0400   97.5400            97.5400   \n",
       "2017-10-06   98.1900  103.0700   98.1300  102.7600           102.7600   \n",
       "2017-10-13  103.2700  108.8800   99.7100  107.8400           107.8400   \n",
       "2017-10-20  108.8800  113.0300  105.0300  112.6800           112.6800   \n",
       "2017-10-27  113.4800  113.5900   96.9500  110.6600           110.6600   \n",
       "2017-11-03  109.0700  113.3800  107.1000  112.4700           112.4700   \n",
       "2017-11-10  112.8400  114.4600  105.2000  108.8300           108.8300   \n",
       "2017-11-17  106.8900  110.5100  101.8200  109.7000           109.7000   \n",
       "2017-11-24  111.3400  119.6400  110.9300  118.7900           118.7900   \n",
       "2017-12-01  118.6600  121.3800  102.8200  114.3100           114.3100   \n",
       "2017-12-08  119.7600  124.0500  114.2700  123.7500           123.7500   \n",
       "2017-12-15  124.3200  134.4300  124.1700  132.6600           132.6600   \n",
       "2017-12-22  135.1700  137.1099  133.0800  135.2800           135.2800   \n",
       "2017-12-29  134.0000  137.4200  133.9700  134.4400           134.4400   \n",
       "2018-01-05  135.2500  143.9900  134.5100  142.2600           142.2600   \n",
       "2018-01-12  142.7800  146.4400  139.3000  144.7500           144.7500   \n",
       "2018-01-19  144.3000  144.6300  135.3600  141.2500           141.2500   \n",
       "2018-01-26  140.5500  145.6400  135.4550  136.7300           136.7300   \n",
       "2018-01-31  134.8000  135.0500  122.7000  125.5500           125.5500   \n",
       "\n",
       "            6. volume  7. dividend amount  \n",
       "2010-12-10     209527                   0  \n",
       "2010-12-17     110231                   0  \n",
       "2010-12-23      36056                   0  \n",
       "2010-12-31      23838                   0  \n",
       "2011-01-07      38452                   0  \n",
       "2011-01-14     198787                   0  \n",
       "2011-01-21     184475                   0  \n",
       "2011-01-28     245763                   0  \n",
       "2011-02-04     198022                   0  \n",
       "2011-02-11     198370                   0  \n",
       "2011-02-18     263038                   0  \n",
       "2011-02-25     673465                   0  \n",
       "2011-03-04     611083                   0  \n",
       "2011-03-11     754892                   0  \n",
       "2011-03-18    1323177                   0  \n",
       "2011-03-25     598864                   0  \n",
       "2011-04-01     427691                   0  \n",
       "2011-04-08     309485                   0  \n",
       "2011-04-15     391119                   0  \n",
       "2011-04-21    1609025                   0  \n",
       "2011-04-29     533118                   0  \n",
       "2011-05-06    1033513                   0  \n",
       "2011-05-13     974928                   0  \n",
       "2011-05-20    1320098                   0  \n",
       "2011-05-27     954456                   0  \n",
       "2011-06-03     928218                   0  \n",
       "2011-06-10    1371196                   0  \n",
       "2011-06-17    3829064                   0  \n",
       "2011-06-24    1998164                   0  \n",
       "2011-07-01   12753058                   0  \n",
       "...               ...                 ...  \n",
       "2017-07-14   53306252                   0  \n",
       "2017-07-21   41884544                   0  \n",
       "2017-07-28   46171983                   0  \n",
       "2017-08-04   44567238                   0  \n",
       "2017-08-11   97605931                   0  \n",
       "2017-08-18  108092678                   0  \n",
       "2017-08-25   72984375                   0  \n",
       "2017-09-01   51319899                   0  \n",
       "2017-09-08   49857809                   0  \n",
       "2017-09-15   33507052                   0  \n",
       "2017-09-22   30076675                   0  \n",
       "2017-09-29   36784453                   0  \n",
       "2017-10-06   28732380                   0  \n",
       "2017-10-13   27494746                   0  \n",
       "2017-10-20   29323886                   0  \n",
       "2017-10-27   58437755                   0  \n",
       "2017-11-03   39398990                   0  \n",
       "2017-11-10   43502007                   0  \n",
       "2017-11-17   41687156                   0  \n",
       "2017-11-24   20093185                   0  \n",
       "2017-12-01   45181791                   0  \n",
       "2017-12-08   31845097                   0  \n",
       "2017-12-15   22311588                   0  \n",
       "2017-12-22   21818343                   0  \n",
       "2017-12-29   14418625                   0  \n",
       "2018-01-05   14360676                   0  \n",
       "2018-01-12   17814813                   0  \n",
       "2018-01-19   30784984                   0  \n",
       "2018-01-26   25826214                   0  \n",
       "2018-01-31   12908101                   0  \n",
       "\n",
       "[374 rows x 7 columns]"
      ]
     },
     "execution_count": 164,
     "metadata": {},
     "output_type": "execute_result"
    }
   ],
   "source": [
    "#data[\"Weekly Time Series\"]\n",
    "dataset_df[dataset_df.index >'2005-01']"
   ]
  },
  {
   "cell_type": "code",
   "execution_count": 94,
   "metadata": {},
   "outputs": [
    {
     "data": {
      "text/plain": [
       "Timestamp('2000-01-14 00:00:00')"
      ]
     },
     "execution_count": 94,
     "metadata": {},
     "output_type": "execute_result"
    }
   ],
   "source": [
    "dataset_df.index[0]"
   ]
  },
  {
   "cell_type": "code",
   "execution_count": null,
   "metadata": {
    "collapsed": true
   },
   "outputs": [],
   "source": []
  }
 ],
 "metadata": {
  "kernelspec": {
   "display_name": "Python 3",
   "language": "python",
   "name": "python3"
  },
  "language_info": {
   "codemirror_mode": {
    "name": "ipython",
    "version": 3
   },
   "file_extension": ".py",
   "mimetype": "text/x-python",
   "name": "python",
   "nbconvert_exporter": "python",
   "pygments_lexer": "ipython3",
   "version": "3.6.3"
  }
 },
 "nbformat": 4,
 "nbformat_minor": 2
}
