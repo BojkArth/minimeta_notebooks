{
 "cells": [
  {
   "cell_type": "code",
   "execution_count": 1,
   "metadata": {},
   "outputs": [],
   "source": [
    "import pandas as pd\n",
    "import matplotlib.pyplot as plt\n",
    "import numpy as np\n",
    "import seaborn as sns\n",
    "from matplotlib import gridspec\n",
    "import ast\n",
    "import os\n",
    "os.chdir('/home/bojk/Data/') #this is when opened in '/home/bojk/Data/notebooks' on linux Quakelab\n",
    "#os.chdir('/Users/bojk/Google Drive/QuakeLab/Data/')\n",
    "import sys\n",
    "sys.path.append('/home/bojk/Data/minimeta_pyfiles/')\n",
    "sys.path.append('/Users/bojk/Google Drive/QuakeLab/minimeta_pyfiles/')\n",
    "import imp\n",
    "import HTSeq\n",
    "from scipy.stats import powerlaw\n",
    "#import minimetagenome_analysis as minimeta\n",
    "\n",
    "import mock_metagenome_creation as mock\n",
    "imp.reload(mock)\n",
    "#import reassembly as rea\n",
    "#import subcluster_bins as sub\n",
    "#import checkm_out_plot as cop\n",
    "#import checkm_out as co\n",
    "\n",
    "import matplotlib as mpl\n",
    "mpl.rcParams['axes.labelsize'] = 15\n",
    "mpl.rcParams['xtick.labelsize'] = 15\n",
    "mpl.rcParams['ytick.labelsize'] = 15\n",
    "mpl.rcParams['axes.titlesize'] = 15\n",
    "mpl.rcParams['figure.titlesize'] = 18\n",
    "mpl.rcParams['legend.fontsize'] = 14\n",
    "\n",
    "from sklearn.manifold import TSNE\n",
    "from sklearn.preprocessing import StandardScaler\n",
    "from sklearn.decomposition import PCA"
   ]
  },
  {
   "cell_type": "code",
   "execution_count": 5,
   "metadata": {},
   "outputs": [],
   "source": [
    "metagenome_fasta = '/home/datastorage/ASSEMBLY_DATA/PermafrostFranklinBluffs/Combined_Analysis/super_contigs.PermafrostFranklinBluffs.fasta'\n",
    "save_dir = 'Permafrost/FranklinBluffs/pickles/'"
   ]
  },
  {
   "cell_type": "code",
   "execution_count": null,
   "metadata": {},
   "outputs": [
    {
     "name": "stdout",
     "output_type": "stream",
     "text": [
      "Total number of fasta sequences:16985\n",
      "----------------------------------------------------\n",
      "Started collecting kmers, dimensionality = 16384\n",
      "Local time: 12:7\n",
      "----------------------------------------------------\n",
      "----------------------------------------------------\n",
      "Collecting kmers for 500 contigs out of 16985 done, took 2940.37 s\n",
      "Progress: 2.94 %, local time: 12:56\n",
      "Total elapsed time is 49.02 minutes\n",
      "Saving current contig kmers to pickle...\n",
      "relative path = Permafrost/FranklinBluffs/pickles/kmerdf_from_metagenome_fasta_7mer_incomplete.pickle\n",
      "----------------------------------------------------\n",
      "----------------------------------------------------\n",
      "Collecting kmers for 1000 contigs out of 16985 done, took 2966.74 s\n",
      "Progress: 5.89 %, local time: 13:46\n",
      "Total elapsed time is 98.47 minutes\n",
      "Saving current contig kmers to pickle...\n",
      "relative path = Permafrost/FranklinBluffs/pickles/kmerdf_from_metagenome_fasta_7mer_incomplete.pickle\n",
      "----------------------------------------------------\n",
      "----------------------------------------------------\n",
      "Collecting kmers for 1500 contigs out of 16985 done, took 2949.32 s\n",
      "Progress: 8.83 %, local time: 14:35\n",
      "Total elapsed time is 147.63 minutes\n",
      "Saving current contig kmers to pickle...\n",
      "relative path = Permafrost/FranklinBluffs/pickles/kmerdf_from_metagenome_fasta_7mer_incomplete.pickle\n",
      "----------------------------------------------------\n",
      "----------------------------------------------------\n",
      "Collecting kmers for 2000 contigs out of 16985 done, took 2971.37 s\n",
      "Progress: 11.78 %, local time: 15:25\n",
      "Total elapsed time is 197.15 minutes\n",
      "Saving current contig kmers to pickle...\n",
      "relative path = Permafrost/FranklinBluffs/pickles/kmerdf_from_metagenome_fasta_7mer_incomplete.pickle\n",
      "----------------------------------------------------\n",
      "----------------------------------------------------\n",
      "Collecting kmers for 2500 contigs out of 16985 done, took 3001.62 s\n",
      "Progress: 14.72 %, local time: 16:15\n",
      "Total elapsed time is 247.19 minutes\n",
      "Saving current contig kmers to pickle...\n",
      "relative path = Permafrost/FranklinBluffs/pickles/kmerdf_from_metagenome_fasta_7mer_incomplete.pickle\n",
      "----------------------------------------------------\n"
     ]
    }
   ],
   "source": [
    "imp.reload(mock)\n",
    "contig7mer,k7mer = mock.make_kmertable_from_fasta_contigs(metagenome_fasta,7,save_dir)    "
   ]
  },
  {
   "cell_type": "code",
   "execution_count": null,
   "metadata": {},
   "outputs": [],
   "source": [
    "k6mer.head()"
   ]
  },
  {
   "cell_type": "code",
   "execution_count": null,
   "metadata": {},
   "outputs": [],
   "source": []
  }
 ],
 "metadata": {
  "kernelspec": {
   "display_name": "Python 3",
   "language": "python",
   "name": "python3"
  },
  "language_info": {
   "codemirror_mode": {
    "name": "ipython",
    "version": 3
   },
   "file_extension": ".py",
   "mimetype": "text/x-python",
   "name": "python",
   "nbconvert_exporter": "python",
   "pygments_lexer": "ipython3",
   "version": "3.6.0"
  }
 },
 "nbformat": 4,
 "nbformat_minor": 2
}
