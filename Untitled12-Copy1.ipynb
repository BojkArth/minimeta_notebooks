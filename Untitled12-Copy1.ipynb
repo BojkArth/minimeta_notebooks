{
 "cells": [
  {
   "cell_type": "code",
   "execution_count": 1,
   "metadata": {},
   "outputs": [],
   "source": [
    "import pandas as pd\n",
    "import matplotlib.pyplot as plt\n",
    "import numpy as np\n",
    "import seaborn as sns\n",
    "from matplotlib import gridspec\n",
    "import ast\n",
    "import os\n",
    "os.chdir('/home/bojk/Data/') #this is when opened in '/home/bojk/Data/notebooks' on linux Quakelab\n",
    "#os.chdir('/Users/bojk/Google Drive/QuakeLab/Data/')\n",
    "import sys\n",
    "sys.path.append('/home/bojk/Data/minimeta_pyfiles/')\n",
    "sys.path.append('/Users/bojk/Google Drive/QuakeLab/minimeta_pyfiles/')\n",
    "import imp\n",
    "import HTSeq\n",
    "from scipy.stats import powerlaw\n",
    "#import minimetagenome_analysis as minimeta\n",
    "\n",
    "import mock_metagenome_creation as mock\n",
    "imp.reload(mock)\n",
    "#import reassembly as rea\n",
    "#import subcluster_bins as sub\n",
    "#import checkm_out_plot as cop\n",
    "#import checkm_out as co\n",
    "\n",
    "import matplotlib as mpl\n",
    "mpl.rcParams['axes.labelsize'] = 15\n",
    "mpl.rcParams['xtick.labelsize'] = 15\n",
    "mpl.rcParams['ytick.labelsize'] = 15\n",
    "mpl.rcParams['axes.titlesize'] = 15\n",
    "mpl.rcParams['figure.titlesize'] = 18\n",
    "mpl.rcParams['legend.fontsize'] = 14\n",
    "\n",
    "from sklearn.manifold import TSNE\n",
    "from sklearn.preprocessing import StandardScaler\n",
    "from sklearn.decomposition import PCA"
   ]
  },
  {
   "cell_type": "code",
   "execution_count": 2,
   "metadata": {},
   "outputs": [],
   "source": [
    "metagenome_fasta = '/home/datastorage/ASSEMBLY_DATA/PermafrostFranklinBluffs/Combined_Analysis/super_contigs.PermafrostFranklinBluffs.fasta'\n",
    "save_dir = 'Permafrost/FranklinBluffs/pickles/'"
   ]
  },
  {
   "cell_type": "code",
   "execution_count": null,
   "metadata": {},
   "outputs": [
    {
     "name": "stdout",
     "output_type": "stream",
     "text": [
      "Total number of fasta sequences:16985\n",
      "----------------------------------------------------\n",
      "Started collecting kmers, dimensionality = 4096\n",
      "Local time: 16:56\n",
      "----------------------------------------------------\n",
      "----------------------------------------------------\n",
      "Collecting kmers for 500 contigs out of 16985 done, took 687.14 s\n",
      "Progress: 2.94 %, local time: 17:7\n",
      "Total elapsed time is 11.46 minutes\n",
      "----------------------------------------------------\n",
      "----------------------------------------------------\n",
      "Collecting kmers for 1000 contigs out of 16985 done, took 698.38 s\n",
      "Progress: 5.89 %, local time: 17:19\n",
      "Total elapsed time is 23.10 minutes\n",
      "----------------------------------------------------\n",
      "----------------------------------------------------\n",
      "Collecting kmers for 1500 contigs out of 16985 done, took 684.97 s\n",
      "Progress: 8.83 %, local time: 17:30\n",
      "Total elapsed time is 34.51 minutes\n",
      "----------------------------------------------------\n",
      "----------------------------------------------------\n",
      "Collecting kmers for 2000 contigs out of 16985 done, took 692.40 s\n",
      "Progress: 11.78 %, local time: 17:42\n",
      "Total elapsed time is 46.05 minutes\n",
      "----------------------------------------------------\n"
     ]
    }
   ],
   "source": [
    "imp.reload(mock)\n",
    "contig6mer,k6mer = mock.make_kmertable_from_fasta_contigs(metagenome_fasta,6,save_dir)    "
   ]
  },
  {
   "cell_type": "code",
   "execution_count": null,
   "metadata": {},
   "outputs": [],
   "source": []
  },
  {
   "cell_type": "code",
   "execution_count": null,
   "metadata": {},
   "outputs": [],
   "source": []
  }
 ],
 "metadata": {
  "kernelspec": {
   "display_name": "Python 3",
   "language": "python",
   "name": "python3"
  },
  "language_info": {
   "codemirror_mode": {
    "name": "ipython",
    "version": 3
   },
   "file_extension": ".py",
   "mimetype": "text/x-python",
   "name": "python",
   "nbconvert_exporter": "python",
   "pygments_lexer": "ipython3",
   "version": "3.6.0"
  }
 },
 "nbformat": 4,
 "nbformat_minor": 2
}
