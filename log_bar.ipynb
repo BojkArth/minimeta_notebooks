{
 "cells": [
  {
   "cell_type": "code",
   "execution_count": null,
   "metadata": {},
   "outputs": [],
   "source": [
    "%matplotlib inline"
   ]
  },
  {
   "cell_type": "markdown",
   "metadata": {},
   "source": [
    "\n",
    "# Log Bar\n",
    "\n",
    "\n",
    "Plotting a bar chart with a logarithmic y-axis.\n",
    "\n"
   ]
  },
  {
   "cell_type": "code",
   "execution_count": null,
   "metadata": {},
   "outputs": [],
   "source": [
    "import matplotlib.pyplot as plt\n",
    "import numpy as np\n",
    "\n",
    "data = ((3, 1000), (10, 3), (100, 30), (500, 800), (50, 1))\n",
    "\n",
    "dim = len(data[0])\n",
    "w = 0.75\n",
    "dimw = w / dim\n",
    "\n",
    "fig, ax = plt.subplots()\n",
    "x = np.arange(len(data))\n",
    "for i in range(len(data[0])):\n",
    "    y = [d[i] for d in data]\n",
    "    b = ax.bar(x + i * dimw, y, dimw, bottom=0.001)\n",
    "\n",
    "ax.set_xticks(x + dimw / 2, map(str, x))\n",
    "ax.set_yscale('log')\n",
    "\n",
    "ax.set_xlabel('x')\n",
    "ax.set_ylabel('y')\n",
    "\n",
    "plt.show()"
   ]
  }
 ],
 "metadata": {
  "kernelspec": {
   "display_name": "Python 3",
   "language": "python",
   "name": "python3"
  },
  "language_info": {
   "codemirror_mode": {
    "name": "ipython",
    "version": 3
   },
   "file_extension": ".py",
   "mimetype": "text/x-python",
   "name": "python",
   "nbconvert_exporter": "python",
   "pygments_lexer": "ipython3",
   "version": "3.6.3"
  }
 },
 "nbformat": 4,
 "nbformat_minor": 1
}
